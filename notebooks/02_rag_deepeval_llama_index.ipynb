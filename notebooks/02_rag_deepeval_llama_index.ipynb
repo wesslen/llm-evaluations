{
  "cells": [
    {
      "cell_type": "markdown",
      "metadata": {
        "id": "view-in-github",
        "colab_type": "text"
      },
      "source": [
        "<a href=\"https://colab.research.google.com/github/wesslen/llm-evaluations/blob/main/notebooks/02_rag_deepeval_llama_index.ipynb\" target=\"_parent\"><img src=\"https://colab.research.google.com/assets/colab-badge.svg\" alt=\"Open In Colab\"/></a>"
      ]
    },
    {
      "cell_type": "markdown",
      "metadata": {
        "id": "p3kAbb_6jCS9"
      },
      "source": [
        "# 🚀 RAG/LLM Evaluators - DeepEval\n",
        "\n",
        "This code tutorial shows how you can easily integrate DeepEval with LlamaIndex. DeepEval makes it easy to unit-test your RAG/LLMs.\n",
        "\n",
        "You can read more about the DeepEval framework here: https://docs.confident-ai.com/docs/getting-started\n",
        "\n",
        "Feel free to check out our repository here on GitHub: https://github.com/confident-ai/deepeval"
      ]
    },
    {
      "cell_type": "markdown",
      "metadata": {
        "id": "WUNmg-NjjCS9"
      },
      "source": [
        "### Set-up and Installation\n",
        "\n",
        "We recommend setting up and installing via pip!"
      ]
    },
    {
      "cell_type": "code",
      "execution_count": 1,
      "metadata": {
        "id": "hu2lNIz-jCS9"
      },
      "outputs": [],
      "source": [
        "%%capture\n",
        "# use uv for virtual environment https://docs.astral.sh/uv/\n",
        "!uv pip install --system llama-index deepeval"
      ]
    },
    {
      "cell_type": "markdown",
      "metadata": {
        "id": "dwh3jeTvjCS-"
      },
      "source": [
        "Deepeval has a fully hosted option. We'll ignore this and keep everything local (granted on Colab cloud)."
      ]
    },
    {
      "cell_type": "code",
      "execution_count": 2,
      "metadata": {
        "id": "ByWzWl2CjCS-"
      },
      "outputs": [],
      "source": [
        "#!deepeval login"
      ]
    },
    {
      "cell_type": "markdown",
      "metadata": {
        "id": "vLWE4IkvjCS-"
      },
      "source": [
        "## Types of Metrics\n",
        "\n",
        "DeepEval presents an opinionated framework for unit testing RAG applications. It breaks down evaluations into test cases, and offers a range of evaluation metrics that you can freely evaluate for each test case, including:\n",
        "\n",
        "- G-Eval\n",
        "- Summarization\n",
        "- Answer Relevancy\n",
        "- Faithfulness\n",
        "- Contextual Recall\n",
        "- Contextual Precision\n",
        "- Contextual Relevancy\n",
        "- RAGAS\n",
        "- Hallucination\n",
        "- Bias\n",
        "- Toxicity\n",
        "\n",
        "[DeepEval](https://github.com/confident-ai/deepeval) incorporates the latest research into its evaluation metrics, which are then used to power LlamaIndex's evaluators. You can learn more about the full list of metrics and how they are calculated [here.](https://docs.confident-ai.com/docs/metrics-introduction)"
      ]
    },
    {
      "cell_type": "code",
      "source": [
        "import os\n",
        "from google.colab import userdata\n",
        "\n",
        "os.environ[\"OPENAI_API_KEY\"] = userdata.get('OPENAI_API_KEY')"
      ],
      "metadata": {
        "id": "Pf44oN7zlQSN"
      },
      "execution_count": 3,
      "outputs": []
    },
    {
      "cell_type": "markdown",
      "source": [
        "> ⚠ **How to use Open LLMs like Llama 3**: Many Open LLMs are deployed on endpoints that mimic OpenAI's endpoints (namely, its chat completions). This is important as it enables connection by updating the host URL (`base_url`), pointing the client to your personal endpoint, not OpenAI's servers. You will also need to pass an API key. One of the most popular inference engines (vLLM) that implements [OpenAI compatability](https://docs.vllm.ai/en/v0.6.0/serving/openai_compatible_server.html).\n",
        "\n"
      ],
      "metadata": {
        "id": "18KZq8L1-3yb"
      }
    },
    {
      "cell_type": "markdown",
      "metadata": {
        "id": "6pjgiOsvjCS-"
      },
      "source": [
        "## Step 1 - Setting Up LlamaIndex"
      ]
    },
    {
      "cell_type": "code",
      "source": [
        "# r.jina.ai converts pdf to markdown\n",
        "# take Wells Fargo code of conduct\n",
        "!wget -O text.txt https://r.jina.ai/https://www.wellsfargo.com/assets/pdf/about/corporate/code-of-conduct.pdf"
      ],
      "metadata": {
        "id": "Xn8TXmv5kZLz",
        "outputId": "cb5a2aed-b4bd-4b11-8510-dd6f6cd94af6",
        "colab": {
          "base_uri": "https://localhost:8080/"
        }
      },
      "execution_count": 4,
      "outputs": [
        {
          "output_type": "stream",
          "name": "stdout",
          "text": [
            "--2024-11-11 23:17:42--  https://r.jina.ai/https://www.wellsfargo.com/assets/pdf/about/corporate/code-of-conduct.pdf\n",
            "Resolving r.jina.ai (r.jina.ai)... 104.26.11.242, 104.26.10.242, 172.67.70.54, ...\n",
            "Connecting to r.jina.ai (r.jina.ai)|104.26.11.242|:443... connected.\n",
            "HTTP request sent, awaiting response... 200 OK\n",
            "Length: 41541 (41K) [text/plain]\n",
            "Saving to: ‘text.txt’\n",
            "\n",
            "\rtext.txt              0%[                    ]       0  --.-KB/s               \rtext.txt            100%[===================>]  40.57K  --.-KB/s    in 0.004s  \n",
            "\n",
            "2024-11-11 23:17:42 (9.15 MB/s) - ‘text.txt’ saved [41541/41541]\n",
            "\n"
          ]
        }
      ]
    },
    {
      "cell_type": "code",
      "execution_count": 5,
      "metadata": {
        "id": "4gp4TbfwjCS-"
      },
      "outputs": [],
      "source": [
        "from llama_index.core import VectorStoreIndex, SimpleDirectoryReader\n",
        "from llama_index.core import Settings\n",
        "\n",
        "# Loading text files in root\n",
        "documents = SimpleDirectoryReader(\".\").load_data()\n",
        "\n",
        "Settings.chunk_size = 100\n",
        "Settings.chunk_overlap = 20\n",
        "\n",
        "index = VectorStoreIndex.from_documents(documents)\n",
        "rag_application = index.as_query_engine(similarity_top_k=2)"
      ]
    },
    {
      "cell_type": "markdown",
      "metadata": {
        "id": "DvQqU48ZjCS-"
      },
      "source": [
        "## Step 2 - Using DeepEval's RAG/LLM evaluators"
      ]
    },
    {
      "cell_type": "markdown",
      "metadata": {
        "id": "XozqTI-RjCS-"
      },
      "source": [
        "DeepEval offers 6 evaluators out of the box, some for RAG, some directly for LLM outputs (although also works for RAG). Let's follow the [RAG Triad docs](https://docs.confident-ai.com/docs/guides-rag-triad) to evaluate RAG like:\n",
        "\n",
        "![](https://d2lsxfc3p6r9rv.cloudfront.net/rag-triad.svg)"
      ]
    },
    {
      "cell_type": "code",
      "execution_count": 6,
      "metadata": {
        "id": "fAT1exewjCS-",
        "outputId": "aae82d0f-206f-4461-b5e2-ac956b5a0386",
        "colab": {
          "base_uri": "https://localhost:8080/"
        }
      },
      "outputs": [
        {
          "output_type": "stream",
          "name": "stdout",
          "text": [
            "User input: Under what circumstances can an employee use their professional designation for a medical license while working at Wells Fargo, and what are the limitations?\n"
          ]
        }
      ],
      "source": [
        "from deepeval.test_case import LLMTestCase\n",
        "\n",
        "# An example input to your RAG application\n",
        "user_input = \"Under what circumstances can an employee use their \\\n",
        "professional designation for a medical license while working at \\\n",
        "Wells Fargo, and what are the limitations?\"\n",
        "\n",
        "# LlamaIndex returns a response object that contains\n",
        "# both the output string and retrieved nodes\n",
        "response_object = rag_application.query(user_input)\n",
        "\n",
        "# Process the response object to get the output string\n",
        "# and retrieved nodes\n",
        "if response_object is not None:\n",
        "    actual_output = response_object.response\n",
        "    retrieval_context = [node.get_content() for node in response_object.source_nodes]\n",
        "\n",
        "# Create a test case and metric as usual\n",
        "test_case = LLMTestCase(\n",
        "    input=user_input,\n",
        "    actual_output=actual_output,\n",
        "    retrieval_context=retrieval_context\n",
        ")\n",
        "\n",
        "print(f\"User input: {user_input}\")"
      ]
    },
    {
      "cell_type": "code",
      "source": [
        "print(f\"Response: {response_object}\")"
      ],
      "metadata": {
        "id": "pXT34FcTDBZ_",
        "colab": {
          "base_uri": "https://localhost:8080/"
        },
        "outputId": "86e91d86-fcab-43bf-e5af-cbc0e085df07"
      },
      "execution_count": 7,
      "outputs": [
        {
          "output_type": "stream",
          "name": "stdout",
          "text": [
            "Response: An employee at Wells Fargo can use their medical license professional designation if it is appropriate for their role. However, they must not misrepresent or use their professional designation if it is not suitable for their position or if it is prohibited by company policy or applicable laws and regulations.\n"
          ]
        }
      ]
    },
    {
      "cell_type": "code",
      "source": [
        "print(f\"Retrieval context: {retrieval_context}\")"
      ],
      "metadata": {
        "id": "lY36hh2Jrahi",
        "outputId": "9108d45a-7a5c-480d-f374-f5ca74676d54",
        "colab": {
          "base_uri": "https://localhost:8080/"
        }
      },
      "execution_count": 8,
      "outputs": [
        {
          "output_type": "stream",
          "name": "stdout",
          "text": [
            "Retrieval context: ['12 of 19 Code of Conduct \\n\\n# Examples of potential conflicts, continued \\n\\nUse of professional designations \\n\\nWells Fargo acknowledges employees may maintain specialized, professional designations that may not relate to their duties with the company. These include but are not limited to legal, medical, notary, accounting, and investment licenses and certifications.', 'Employees must not misrepresent or use their professional designation if it is not appropriate for their role or if prohibited by company policy or applicable laws and regulations. \\n\\nFiduciary and investment duties \\n\\nWhen executing fiduciary duties or responsibilities, acting as a trustee, investment manager, or in any similar capacity in which the company possesses investment discretion on behalf of another, Wells Fargo acts in the best interest of our clients.']\n"
          ]
        }
      ]
    },
    {
      "cell_type": "code",
      "source": [
        "# Evaluate\n",
        "from deepeval import evaluate\n",
        "from deepeval.metrics import FaithfulnessMetric, AnswerRelevancyMetric, ContextualRelevancyMetric\n",
        "\n",
        "faithfulness = FaithfulnessMetric()\n",
        "answer_relevancy = AnswerRelevancyMetric()\n",
        "contextual_relevancy = ContextualRelevancyMetric()\n",
        "\n",
        "evaluate(test_cases=[test_case], metrics=[answer_relevancy, faithfulness, contextual_relevancy])"
      ],
      "metadata": {
        "id": "T9ThJBn8rZid",
        "outputId": "f495bf7f-ed72-41fa-a454-f3c7fa62b6cd",
        "colab": {
          "base_uri": "https://localhost:8080/",
          "height": 1000
        }
      },
      "execution_count": 9,
      "outputs": [
        {
          "output_type": "display_data",
          "data": {
            "text/plain": [
              "✨ You're running DeepEval's latest \u001b[38;2;106;0;255mAnswer Relevancy Metric\u001b[0m! \u001b[1;38;2;55;65;81m(\u001b[0m\u001b[38;2;55;65;81musing gpt-4o, \u001b[0m\u001b[38;2;55;65;81mstrict\u001b[0m\u001b[38;2;55;65;81m=\u001b[0m\u001b[3;38;2;55;65;81mFalse\u001b[0m\u001b[38;2;55;65;81m, \u001b[0m\u001b[38;2;55;65;81masync_mode\u001b[0m\u001b[38;2;55;65;81m=\u001b[0m\u001b[3;38;2;55;65;81mTrue\u001b[0m\u001b[1;38;2;55;65;81m)\u001b[0m\u001b[38;2;55;65;81m...\u001b[0m\n"
            ],
            "text/html": [
              "<pre style=\"white-space:pre;overflow-x:auto;line-height:normal;font-family:Menlo,'DejaVu Sans Mono',consolas,'Courier New',monospace\">✨ You're running DeepEval's latest <span style=\"color: #6a00ff; text-decoration-color: #6a00ff\">Answer Relevancy Metric</span>! <span style=\"color: #374151; text-decoration-color: #374151; font-weight: bold\">(</span><span style=\"color: #374151; text-decoration-color: #374151\">using gpt-4o, </span><span style=\"color: #374151; text-decoration-color: #374151\">strict</span><span style=\"color: #374151; text-decoration-color: #374151\">=</span><span style=\"color: #374151; text-decoration-color: #374151; font-style: italic\">False</span><span style=\"color: #374151; text-decoration-color: #374151\">, </span><span style=\"color: #374151; text-decoration-color: #374151\">async_mode</span><span style=\"color: #374151; text-decoration-color: #374151\">=</span><span style=\"color: #374151; text-decoration-color: #374151; font-style: italic\">True</span><span style=\"color: #374151; text-decoration-color: #374151; font-weight: bold\">)</span><span style=\"color: #374151; text-decoration-color: #374151\">...</span>\n",
              "</pre>\n"
            ]
          },
          "metadata": {}
        },
        {
          "output_type": "display_data",
          "data": {
            "text/plain": [
              "✨ You're running DeepEval's latest \u001b[38;2;106;0;255mFaithfulness Metric\u001b[0m! \u001b[1;38;2;55;65;81m(\u001b[0m\u001b[38;2;55;65;81musing gpt-4o, \u001b[0m\u001b[38;2;55;65;81mstrict\u001b[0m\u001b[38;2;55;65;81m=\u001b[0m\u001b[3;38;2;55;65;81mFalse\u001b[0m\u001b[38;2;55;65;81m, \u001b[0m\u001b[38;2;55;65;81masync_mode\u001b[0m\u001b[38;2;55;65;81m=\u001b[0m\u001b[3;38;2;55;65;81mTrue\u001b[0m\u001b[1;38;2;55;65;81m)\u001b[0m\u001b[38;2;55;65;81m...\u001b[0m\n"
            ],
            "text/html": [
              "<pre style=\"white-space:pre;overflow-x:auto;line-height:normal;font-family:Menlo,'DejaVu Sans Mono',consolas,'Courier New',monospace\">✨ You're running DeepEval's latest <span style=\"color: #6a00ff; text-decoration-color: #6a00ff\">Faithfulness Metric</span>! <span style=\"color: #374151; text-decoration-color: #374151; font-weight: bold\">(</span><span style=\"color: #374151; text-decoration-color: #374151\">using gpt-4o, </span><span style=\"color: #374151; text-decoration-color: #374151\">strict</span><span style=\"color: #374151; text-decoration-color: #374151\">=</span><span style=\"color: #374151; text-decoration-color: #374151; font-style: italic\">False</span><span style=\"color: #374151; text-decoration-color: #374151\">, </span><span style=\"color: #374151; text-decoration-color: #374151\">async_mode</span><span style=\"color: #374151; text-decoration-color: #374151\">=</span><span style=\"color: #374151; text-decoration-color: #374151; font-style: italic\">True</span><span style=\"color: #374151; text-decoration-color: #374151; font-weight: bold\">)</span><span style=\"color: #374151; text-decoration-color: #374151\">...</span>\n",
              "</pre>\n"
            ]
          },
          "metadata": {}
        },
        {
          "output_type": "display_data",
          "data": {
            "text/plain": [
              "✨ You're running DeepEval's latest \u001b[38;2;106;0;255mContextual Relevancy Metric\u001b[0m! \u001b[1;38;2;55;65;81m(\u001b[0m\u001b[38;2;55;65;81musing gpt-4o, \u001b[0m\u001b[38;2;55;65;81mstrict\u001b[0m\u001b[38;2;55;65;81m=\u001b[0m\u001b[3;38;2;55;65;81mFalse\u001b[0m\u001b[38;2;55;65;81m, \u001b[0m\u001b[38;2;55;65;81masync_mode\u001b[0m\u001b[38;2;55;65;81m=\u001b[0m\u001b[3;38;2;55;65;81mTrue\u001b[0m\u001b[1;38;2;55;65;81m)\u001b[0m\u001b[38;2;55;65;81m...\u001b[0m\n"
            ],
            "text/html": [
              "<pre style=\"white-space:pre;overflow-x:auto;line-height:normal;font-family:Menlo,'DejaVu Sans Mono',consolas,'Courier New',monospace\">✨ You're running DeepEval's latest <span style=\"color: #6a00ff; text-decoration-color: #6a00ff\">Contextual Relevancy Metric</span>! <span style=\"color: #374151; text-decoration-color: #374151; font-weight: bold\">(</span><span style=\"color: #374151; text-decoration-color: #374151\">using gpt-4o, </span><span style=\"color: #374151; text-decoration-color: #374151\">strict</span><span style=\"color: #374151; text-decoration-color: #374151\">=</span><span style=\"color: #374151; text-decoration-color: #374151; font-style: italic\">False</span><span style=\"color: #374151; text-decoration-color: #374151\">, </span><span style=\"color: #374151; text-decoration-color: #374151\">async_mode</span><span style=\"color: #374151; text-decoration-color: #374151\">=</span><span style=\"color: #374151; text-decoration-color: #374151; font-style: italic\">True</span><span style=\"color: #374151; text-decoration-color: #374151; font-weight: bold\">)</span><span style=\"color: #374151; text-decoration-color: #374151\">...</span>\n",
              "</pre>\n"
            ]
          },
          "metadata": {}
        },
        {
          "output_type": "stream",
          "name": "stdout",
          "text": [
            "Event loop is already running. Applying nest_asyncio patch to allow async execution...\n"
          ]
        },
        {
          "output_type": "stream",
          "name": "stderr",
          "text": [
            "Evaluating 1 test case(s) in parallel: |██████████|100% (1/1) [Time Taken: 00:08,  8.57s/test case]"
          ]
        },
        {
          "output_type": "stream",
          "name": "stdout",
          "text": [
            "\n",
            "======================================================================\n",
            "\n",
            "Metrics Summary\n",
            "\n",
            "  - ✅ Answer Relevancy (score: 1.0, threshold: 0.5, strict: False, evaluation model: gpt-4o, reason: The score is 1.00 because the answer is perfectly relevant and addresses the input directly without any irrelevant statements. Great job!, error: None)\n",
            "  - ✅ Faithfulness (score: 1.0, threshold: 0.5, strict: False, evaluation model: gpt-4o, reason: The score is 1.00 because there are no contradictions between the actual output and the retrieval context. Great job maintaining accuracy and alignment!, error: None)\n",
            "  - ❌ Contextual Relevancy (score: 0.2, threshold: 0.5, strict: False, evaluation model: gpt-4o, reason: The score is 0.20 because the context provides a general policy on using professional designations but lacks specific information on using a medical license at Wells Fargo, as noted in the reasons for irrelevancy and the relevant statement., error: None)\n",
            "\n",
            "For test case:\n",
            "\n",
            "  - input: Under what circumstances can an employee use their professional designation for a medical license while working at Wells Fargo, and what are the limitations?\n",
            "  - actual output: An employee at Wells Fargo can use their medical license professional designation if it is appropriate for their role. However, they must not misrepresent or use their professional designation if it is not suitable for their position or if it is prohibited by company policy or applicable laws and regulations.\n",
            "  - expected output: None\n",
            "  - context: None\n",
            "  - retrieval context: ['12 of 19 Code of Conduct \\n\\n# Examples of potential conflicts, continued \\n\\nUse of professional designations \\n\\nWells Fargo acknowledges employees may maintain specialized, professional designations that may not relate to their duties with the company. These include but are not limited to legal, medical, notary, accounting, and investment licenses and certifications.', 'Employees must not misrepresent or use their professional designation if it is not appropriate for their role or if prohibited by company policy or applicable laws and regulations. \\n\\nFiduciary and investment duties \\n\\nWhen executing fiduciary duties or responsibilities, acting as a trustee, investment manager, or in any similar capacity in which the company possesses investment discretion on behalf of another, Wells Fargo acts in the best interest of our clients.']\n",
            "\n",
            "======================================================================\n",
            "\n",
            "Overall Metric Pass Rates\n",
            "\n",
            "Answer Relevancy: 100.00% pass rate\n",
            "Faithfulness: 100.00% pass rate\n",
            "Contextual Relevancy: 0.00% pass rate\n",
            "\n",
            "======================================================================\n",
            "\n"
          ]
        },
        {
          "output_type": "stream",
          "name": "stderr",
          "text": [
            "\n"
          ]
        },
        {
          "output_type": "display_data",
          "data": {
            "text/plain": [
              "\u001b[38;2;5;245;141m✓\u001b[0m Tests finished 🎉! Run \u001b[32m'deepeval login'\u001b[0m to save and analyze evaluation results on Confident AI. \n",
              "‼️  Friendly reminder 😇: You can also run evaluations with ALL of deepeval's metrics directly on Confident AI \n",
              "instead.\n"
            ],
            "text/html": [
              "<pre style=\"white-space:pre;overflow-x:auto;line-height:normal;font-family:Menlo,'DejaVu Sans Mono',consolas,'Courier New',monospace\"><span style=\"color: #05f58d; text-decoration-color: #05f58d\">✓</span> Tests finished 🎉! Run <span style=\"color: #008000; text-decoration-color: #008000\">'deepeval login'</span> to save and analyze evaluation results on Confident AI. \n",
              "‼️  Friendly reminder 😇: You can also run evaluations with ALL of deepeval's metrics directly on Confident AI \n",
              "instead.\n",
              "</pre>\n"
            ]
          },
          "metadata": {}
        },
        {
          "output_type": "execute_result",
          "data": {
            "text/plain": [
              "EvaluationResult(test_results=[TestResult(success=False, metrics_data=[MetricData(name='Answer Relevancy', threshold=0.5, success=True, score=1.0, reason='The score is 1.00 because the answer is perfectly relevant and addresses the input directly without any irrelevant statements. Great job!', strict_mode=False, evaluation_model='gpt-4o', error=None, evaluation_cost=0.003725, verbose_logs='Statements:\\n[\\n    \"An employee at Wells Fargo can use their medical license professional designation if it is appropriate for their role.\",\\n    \"They must not misrepresent or use their professional designation if it is not suitable for their position.\",\\n    \"It is prohibited by company policy or applicable laws and regulations.\"\\n] \\n \\nVerdicts:\\n[\\n    {\\n        \"verdict\": \"yes\",\\n        \"reason\": null\\n    },\\n    {\\n        \"verdict\": \"yes\",\\n        \"reason\": null\\n    },\\n    {\\n        \"verdict\": \"yes\",\\n        \"reason\": null\\n    }\\n]'), MetricData(name='Faithfulness', threshold=0.5, success=True, score=1.0, reason='The score is 1.00 because there are no contradictions between the actual output and the retrieval context. Great job maintaining accuracy and alignment!', strict_mode=False, evaluation_model='gpt-4o', error=None, evaluation_cost=0.0063675, verbose_logs='Truths (limit=None):\\n[\\n    \"Wells Fargo acknowledges employees may maintain specialized, professional designations that may not relate to their duties with the company.\",\\n    \"Examples of professional designations include legal, medical, notary, accounting, and investment licenses and certifications.\",\\n    \"Employees must not misrepresent or use their professional designation if it is not appropriate for their role or if prohibited by company policy or applicable laws and regulations.\",\\n    \"When executing fiduciary duties or responsibilities, Wells Fargo acts in the best interest of their clients.\"\\n] \\n \\nClaims:\\n[\\n    \"An employee at Wells Fargo can use their medical license professional designation if it is appropriate for their role.\",\\n    \"They must not misrepresent or use their professional designation if it is not suitable for their position or if it is prohibited by company policy or applicable laws and regulations.\"\\n] \\n \\nVerdicts:\\n[\\n    {\\n        \"verdict\": \"idk\",\\n        \"reason\": null\\n    },\\n    {\\n        \"verdict\": \"yes\",\\n        \"reason\": null\\n    }\\n]'), MetricData(name='Contextual Relevancy', threshold=0.5, success=False, score=0.2, reason='The score is 0.20 because the context provides a general policy on using professional designations but lacks specific information on using a medical license at Wells Fargo, as noted in the reasons for irrelevancy and the relevant statement.', strict_mode=False, evaluation_model='gpt-4o', error=None, evaluation_cost=0.0073100000000000005, verbose_logs='Verdicts:\\n[\\n    {\\n        \"verdicts\": [\\n            {\\n                \"statement\": \"Wells Fargo acknowledges employees may maintain specialized, professional designations that may not relate to their duties with the company.\",\\n                \"verdict\": \"no\",\\n                \"reason\": \"The statement talks about maintaining professional designations but does not specify the circumstances or limitations of using a medical license while working at Wells Fargo.\"\\n            },\\n            {\\n                \"statement\": \"These include but are not limited to legal, medical, notary, accounting, and investment licenses and certifications.\",\\n                \"verdict\": \"no\",\\n                \"reason\": \"The statement lists types of professional designations but does not address the use or limitations of a medical license specifically while working at Wells Fargo.\"\\n            }\\n        ]\\n    },\\n    {\\n        \"verdicts\": [\\n            {\\n                \"statement\": \"Employees must not misrepresent or use their professional designation if it is not appropriate for their role or if prohibited by company policy or applicable laws and regulations.\",\\n                \"verdict\": \"yes\",\\n                \"reason\": null\\n            },\\n            {\\n                \"statement\": \"Fiduciary and investment duties\",\\n                \"verdict\": \"no\",\\n                \"reason\": \"The statement \\'Fiduciary and investment duties\\' does not address the use of professional designation for a medical license.\"\\n            },\\n            {\\n                \"statement\": \"When executing fiduciary duties or responsibilities, acting as a trustee, investment manager, or in any similar capacity in which the company possesses investment discretion on behalf of another, Wells Fargo acts in the best interest of our clients.\",\\n                \"verdict\": \"no\",\\n                \"reason\": \"The statement discusses fiduciary and investment responsibilities at Wells Fargo and does not relate to the use of a professional designation for a medical license.\"\\n            }\\n        ]\\n    }\\n]')], conversational=False, multimodal=False, input='Under what circumstances can an employee use their professional designation for a medical license while working at Wells Fargo, and what are the limitations?', actual_output='An employee at Wells Fargo can use their medical license professional designation if it is appropriate for their role. However, they must not misrepresent or use their professional designation if it is not suitable for their position or if it is prohibited by company policy or applicable laws and regulations.', expected_output=None, context=None, retrieval_context=['12 of 19 Code of Conduct \\n\\n# Examples of potential conflicts, continued \\n\\nUse of professional designations \\n\\nWells Fargo acknowledges employees may maintain specialized, professional designations that may not relate to their duties with the company. These include but are not limited to legal, medical, notary, accounting, and investment licenses and certifications.', 'Employees must not misrepresent or use their professional designation if it is not appropriate for their role or if prohibited by company policy or applicable laws and regulations. \\n\\nFiduciary and investment duties \\n\\nWhen executing fiduciary duties or responsibilities, acting as a trustee, investment manager, or in any similar capacity in which the company possesses investment discretion on behalf of another, Wells Fargo acts in the best interest of our clients.'])], confident_link=None)"
            ]
          },
          "metadata": {},
          "execution_count": 9
        }
      ]
    },
    {
      "cell_type": "markdown",
      "source": [
        "Try these challenging questions:\n",
        "\n",
        "### Multi-hop\n",
        "\n",
        "Requires combining multiple conditions from the volunteer activities section:\n",
        "\n",
        "> If an employee wants to volunteer at a nonprofit organization's board AND manage their investments AND receive compensation, what specific pre-clearance requirements apply?\n",
        "\n",
        "Combines MNPI rules with hedging/derivatives restrictions:\n",
        "\n",
        "> If an employee receives material nonpublic information about a company AND owns derivatives in that company's stock through a previously approved trading plan, what actions must they take?\n",
        "\n",
        "### Complex\n",
        "\n",
        "Requires combining personal relationships, fiduciary duties, and customer relationship contexts\n",
        "\n",
        "> Can a Wells Fargo employee accept a position as a trustee for their cousin's estate if the cousin was also a Wells Fargo customer who they previously helped with banking services?\n",
        "\n",
        "Check out [this RAG Evaluation guide](https://docs.confident-ai.com/docs/guides-rag-evaluation) on Deepeval's docs."
      ],
      "metadata": {
        "id": "HcCvR_Cj4nqb"
      }
    },
    {
      "cell_type": "markdown",
      "source": [
        "## Unit Testing\n",
        "\n",
        "Let's ask a critical question for compliance on gifts and entertainment:\n",
        "\n",
        "> Is it permissible for an employee to accept a cash gift from a customer as a thank you for exceptional service?\n"
      ],
      "metadata": {
        "id": "x3CavNnXyZc1"
      }
    },
    {
      "cell_type": "code",
      "source": [
        "## save this string as a test_example.py\n",
        "\n",
        "string_content = \"\"\"\n",
        "import pytest\n",
        "from deepeval import assert_test\n",
        "from deepeval.metrics import FaithfulnessMetric\n",
        "from deepeval.test_case import LLMTestCase\n",
        "from deepeval.dataset import EvaluationDataset, Golden\n",
        "\n",
        "from llama_index.core import VectorStoreIndex, SimpleDirectoryReader\n",
        "from llama_index.core import Settings\n",
        "\n",
        "documents = SimpleDirectoryReader(\".\").load_data()\n",
        "\n",
        "Settings.chunk_size = 100\n",
        "Settings.chunk_overlap = 20\n",
        "\n",
        "index = VectorStoreIndex.from_documents(documents)\n",
        "rag_application = index.as_query_engine(similarity_top_k=2)\n",
        "\n",
        "example_golden = Golden(input=\"Is it permissible for an employee to accept a cash gift from a customer as a thank you for exceptional service?\")\n",
        "\n",
        "dataset = EvaluationDataset(goldens=[example_golden])\n",
        "\n",
        "@pytest.mark.parametrize(\n",
        "    \"golden\",\n",
        "    dataset.goldens,\n",
        ")\n",
        "def test_rag(golden: Golden):\n",
        "    # LlamaIndex returns a response object that contains\n",
        "    # both the output string and retrieved nodes\n",
        "    response_object = rag_application.query(golden.input)\n",
        "\n",
        "    # Process the response object to get the output string\n",
        "    # and retrieved nodes\n",
        "    if response_object is not None:\n",
        "        actual_output = response_object.response\n",
        "        retrieval_context = [node.get_content() for node in response_object.source_nodes]\n",
        "\n",
        "    test_case = LLMTestCase(\n",
        "        input=golden.input,\n",
        "        actual_output=actual_output,\n",
        "        retrieval_context=retrieval_context\n",
        "    )\n",
        "    print(\"\\\\n\")\n",
        "    print(f\"Query: {test_case.input}\")\n",
        "    print(f\"Response: {test_case.actual_output}\")\n",
        "    print(f\"Retrieval context: {test_case.retrieval_context}\")\n",
        "    answer_faithfulness_metric = FaithfulnessMetric(threshold=0.5)\n",
        "    answer_faithfulness_metric.measure(test_case)\n",
        "    print(f\"Metric score: {answer_faithfulness_metric.score}\")\n",
        "    print(f\"Metric reason: {answer_faithfulness_metric.reason}\")\n",
        "    assert_test(test_case, [answer_faithfulness_metric])\n",
        "\"\"\"\n",
        "\n",
        "with open(\"test_example.py\", \"w\") as file:\n",
        "    file.write(string_content)\n",
        "\n",
        "print(\"String saved to test_example.py\")"
      ],
      "metadata": {
        "id": "YjSme-bqxgxa",
        "outputId": "cdd5d50f-3be5-47e8-a9a3-04060aaec10c",
        "colab": {
          "base_uri": "https://localhost:8080/"
        }
      },
      "execution_count": 10,
      "outputs": [
        {
          "output_type": "stream",
          "name": "stdout",
          "text": [
            "String saved to test_example.py\n"
          ]
        }
      ]
    },
    {
      "cell_type": "code",
      "source": [
        "!pytest -s test_example.py"
      ],
      "metadata": {
        "id": "-mudbIOvyQEY",
        "outputId": "1337cc05-9d87-4f56-b1d6-bc9b1d09dafe",
        "colab": {
          "base_uri": "https://localhost:8080/"
        }
      },
      "execution_count": 11,
      "outputs": [
        {
          "output_type": "stream",
          "name": "stdout",
          "text": [
            "\u001b[1m======================================= test session starts ========================================\u001b[0m\n",
            "platform linux -- Python 3.10.12, pytest-7.4.4, pluggy-1.5.0\n",
            "rootdir: /content\n",
            "plugins: repeat-0.9.3, deepeval-1.5.0, xdist-3.6.1, typeguard-4.4.1, anyio-3.7.1\n",
            "collected 1 item                                                                                   \u001b[0m\n",
            "\n",
            "test_example.py \n",
            "\n",
            "Query: Is it permissible for an employee to accept a cash gift from a customer as a thank you for exceptional service?\n",
            "Response: It is not permissible for an employee to accept a cash gift from a customer as a thank you for exceptional service.\n",
            "Retrieval context: ['Employees should conduct themselves in accordance with the following expectations: \\n\\n• Refrain from giving and receiving gifts offered in exchange for business referrals or other business advantages. \\n\\n• Never give or receive gifts that are cash or cash equivalents, cannabis-related, or otherwise do not comply with our policies. \\n\\n• Follow requirements to pre-clear the exchange of any gift or entertainment with government officials or government entities through the Global Preclearance System.', '11 of 19 Code of Conduct \\n\\n# Examples of potential conflicts, continued \\n\\nGifts and entertainment \\n\\nWells Fargo permits giving and receiving business gifts and entertainment provided there is no reasonable inference that the gift or entertainment could influence the performance or decision making of any employee. The gift or entertainment with any one individual or entity should occur infrequently and be consistent with accepted, lawful business practices and customs.']\n",
            "\u001b[2K✨ You're running DeepEval's latest \u001b[35mFaithfulness Metric\u001b[0m! \u001b[90m(using gpt-4o, strict=False, async_mode=Tr…\u001b[0m\n",
            "\u001b[1A\u001b[2KMetric score: 1.0\n",
            "Metric reason: The score is 1.00 because there are no contradictions between the actual output and the retrieval context. Great job maintaining perfect alignment!\n",
            "Evaluating 1 test case(s) in parallel: 100% 1/1 [00:08<00:00,  8.19s/test case]\n",
            "\u001b[32m.\u001b[0mRunning teardown with pytest sessionfinish\u001b[33m...\u001b[0m\n",
            "\n",
            "\n",
            "\u001b[32m======================================== \u001b[32m\u001b[1m1 passed\u001b[0m\u001b[32m in 25.13s\u001b[0m\u001b[32m ========================================\u001b[0m\n"
          ]
        }
      ]
    },
    {
      "cell_type": "markdown",
      "source": [
        "Examples of other unit tests to improve risk management:\n",
        "\n",
        "### Compliance\n",
        "\n",
        "> Can an employee delay reporting a potential violation of the Code of Conduct if they're waiting to gather more evidence?\n",
        "\n",
        "### Information security\n",
        "\n",
        "> Is it acceptable for an employee to use their Wells Fargo credentials to access customer information to help a family member evaluate a business opportunity?\n",
        "\n",
        "### Reputational risk\n",
        "\n",
        "> Can an employee make anonymous posts on social media criticizing Wells Fargo's business practices if they believe the criticism is justified?\n",
        "\n",
        "### Ethical conduct\n",
        "\n",
        "> If an employee discovers a colleague is manipulating records to meet sales targets but the manipulation benefits the company, should they report it?"
      ],
      "metadata": {
        "id": "zRhV0CcF9tJm"
      }
    },
    {
      "cell_type": "markdown",
      "metadata": {
        "id": "qW6upJeWjCS-"
      },
      "source": [
        "## Full List of Evaluators\n",
        "\n",
        "Here is how you can import all 6 metrics from `deepeval`:\n",
        "\n",
        "```python\n",
        "from deepeval.metrics import (\n",
        "    AnswerRelevancyMetric,\n",
        "    FaithfulnessMetric,\n",
        "    ContextualRelevancyMetric,\n",
        "    SummarizationMetric,\n",
        "    BiasMetric,\n",
        "    ToxicityMetric,\n",
        ")\n",
        "```\n",
        "\n",
        "For all evaluator definitions and to understand how it integrates with DeepEval's testing suite, [click here.](https://docs.confident-ai.com/docs/integrations-llamaindex)\n",
        "\n",
        "## Useful Links\n",
        "\n",
        "- [DeepEval Quickstart](https://docs.confident-ai.com/docs/getting-started)\n",
        "- [Everything you need to know about LLM evaluation metrics](https://www.confident-ai.com/blog/llm-evaluation-metrics-everything-you-need-for-llm-evaluation)"
      ]
    }
  ],
  "metadata": {
    "colab": {
      "provenance": [],
      "include_colab_link": true
    },
    "kernelspec": {
      "display_name": "Python 3",
      "name": "python3"
    },
    "language_info": {
      "name": "python"
    }
  },
  "nbformat": 4,
  "nbformat_minor": 0
}