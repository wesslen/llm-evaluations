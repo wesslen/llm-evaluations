{
  "cells": [
    {
      "cell_type": "markdown",
      "metadata": {
        "id": "Ik1_1EIBjCS8"
      },
      "source": [
        "<a href=\"https://colab.research.google.com/github/run-llama/llama_index/blob/main/docs/docs/examples/evaluation/Deepeval.ipynb\" target=\"_parent\"><img src=\"https://colab.research.google.com/assets/colab-badge.svg\" alt=\"Open In Colab\"/></a>"
      ]
    },
    {
      "cell_type": "markdown",
      "metadata": {
        "id": "p3kAbb_6jCS9"
      },
      "source": [
        "# 🚀 RAG/LLM Evaluators - DeepEval\n",
        "\n",
        "This code tutorial shows how you can easily integrate DeepEval with LlamaIndex. DeepEval makes it easy to unit-test your RAG/LLMs.\n",
        "\n",
        "You can read more about the DeepEval framework here: https://docs.confident-ai.com/docs/getting-started\n",
        "\n",
        "Feel free to check out our repository here on GitHub: https://github.com/confident-ai/deepeval"
      ]
    },
    {
      "cell_type": "markdown",
      "metadata": {
        "id": "WUNmg-NjjCS9"
      },
      "source": [
        "### Set-up and Installation\n",
        "\n",
        "We recommend setting up and installing via pip!"
      ]
    },
    {
      "cell_type": "code",
      "execution_count": 1,
      "metadata": {
        "id": "hu2lNIz-jCS9"
      },
      "outputs": [],
      "source": [
        "%%capture\n",
        "# use uv for virtual environment https://docs.astral.sh/uv/\n",
        "!uv pip install --system llama-index deepeval"
      ]
    },
    {
      "cell_type": "markdown",
      "metadata": {
        "id": "dwh3jeTvjCS-"
      },
      "source": [
        "Deepeval has a fully hosted option. We'll ignore this and keep everything local (granted on Colab cloud)."
      ]
    },
    {
      "cell_type": "code",
      "execution_count": 2,
      "metadata": {
        "id": "ByWzWl2CjCS-"
      },
      "outputs": [],
      "source": [
        "#!deepeval login"
      ]
    },
    {
      "cell_type": "markdown",
      "metadata": {
        "id": "vLWE4IkvjCS-"
      },
      "source": [
        "## Types of Metrics\n",
        "\n",
        "DeepEval presents an opinionated framework for unit testing RAG applications. It breaks down evaluations into test cases, and offers a range of evaluation metrics that you can freely evaluate for each test case, including:\n",
        "\n",
        "- G-Eval\n",
        "- Summarization\n",
        "- Answer Relevancy\n",
        "- Faithfulness\n",
        "- Contextual Recall\n",
        "- Contextual Precision\n",
        "- Contextual Relevancy\n",
        "- RAGAS\n",
        "- Hallucination\n",
        "- Bias\n",
        "- Toxicity\n",
        "\n",
        "[DeepEval](https://github.com/confident-ai/deepeval) incorporates the latest research into its evaluation metrics, which are then used to power LlamaIndex's evaluators. You can learn more about the full list of metrics and how they are calculated [here.](https://docs.confident-ai.com/docs/metrics-introduction)"
      ]
    },
    {
      "cell_type": "code",
      "source": [
        "import os\n",
        "from google.colab import userdata\n",
        "\n",
        "os.environ[\"OPENAI_API_KEY\"] = userdata.get('OPENAI_API_KEY')"
      ],
      "metadata": {
        "id": "Pf44oN7zlQSN"
      },
      "execution_count": 3,
      "outputs": []
    },
    {
      "cell_type": "markdown",
      "source": [
        "> ⚠ **How to use Open LLMs like Llama 3**: Many Open LLMs are deployed on endpoints that mimic OpenAI's endpoints (namely, its chat completions). This is important as it enables connection by updating the host URL (`base_url`), pointing the client to your personal endpoint, not OpenAI's servers. You will also need to pass an API key. One of the most popular inference engines (vLLM) that implements [OpenAI compatability](https://docs.vllm.ai/en/v0.6.0/serving/openai_compatible_server.html).\n",
        "\n"
      ],
      "metadata": {
        "id": "18KZq8L1-3yb"
      }
    },
    {
      "cell_type": "markdown",
      "metadata": {
        "id": "6pjgiOsvjCS-"
      },
      "source": [
        "## Step 1 - Setting Up Your LlamaIndex Application"
      ]
    },
    {
      "cell_type": "code",
      "source": [
        "# r.jina.ai converts pdf to markdown\n",
        "# take Wells Fargo code of conduct\n",
        "!wget -O text.txt https://r.jina.ai/https://www.wellsfargo.com/assets/pdf/about/corporate/code-of-conduct.pdf"
      ],
      "metadata": {
        "id": "Xn8TXmv5kZLz",
        "outputId": "65006109-581d-41f8-cd07-44b0d850cab9",
        "colab": {
          "base_uri": "https://localhost:8080/"
        }
      },
      "execution_count": 4,
      "outputs": [
        {
          "output_type": "stream",
          "name": "stdout",
          "text": [
            "--2024-11-11 20:55:06--  https://r.jina.ai/https://www.wellsfargo.com/assets/pdf/about/corporate/code-of-conduct.pdf\n",
            "Resolving r.jina.ai (r.jina.ai)... 104.26.11.242, 104.26.10.242, 172.67.70.54, ...\n",
            "Connecting to r.jina.ai (r.jina.ai)|104.26.11.242|:443... connected.\n",
            "HTTP request sent, awaiting response... 200 OK\n",
            "Length: 41541 (41K) [text/plain]\n",
            "Saving to: ‘text.txt’\n",
            "\n",
            "\rtext.txt              0%[                    ]       0  --.-KB/s               \rtext.txt            100%[===================>]  40.57K  --.-KB/s    in 0.01s   \n",
            "\n",
            "2024-11-11 20:55:07 (3.91 MB/s) - ‘text.txt’ saved [41541/41541]\n",
            "\n"
          ]
        }
      ]
    },
    {
      "cell_type": "code",
      "execution_count": 5,
      "metadata": {
        "id": "4gp4TbfwjCS-"
      },
      "outputs": [],
      "source": [
        "from llama_index.core import VectorStoreIndex, SimpleDirectoryReader\n",
        "from llama_index.core import Settings\n",
        "\n",
        "# Read LlamaIndex's quickstart on more details, you will need to store your data in \"YOUR_DATA_DIRECTORY\" beforehand\n",
        "documents = SimpleDirectoryReader(\".\").load_data()\n",
        "\n",
        "Settings.chunk_size = 100\n",
        "Settings.chunk_overlap = 20\n",
        "\n",
        "index = VectorStoreIndex.from_documents(documents)\n",
        "rag_application = index.as_query_engine(similarity_top_k=4)"
      ]
    },
    {
      "cell_type": "markdown",
      "metadata": {
        "id": "DvQqU48ZjCS-"
      },
      "source": [
        "## Step 2 - Using DeepEval's RAG/LLM evaluators"
      ]
    },
    {
      "cell_type": "markdown",
      "metadata": {
        "id": "XozqTI-RjCS-"
      },
      "source": [
        "DeepEval offers 6 evaluators out of the box, some for RAG, some directly for LLM outputs (although also works for RAG).\n",
        "\n",
        "Let's try the faithfulness evaluator (which is for evaluating hallucination in RAG):"
      ]
    },
    {
      "cell_type": "code",
      "execution_count": 6,
      "metadata": {
        "id": "fAT1exewjCS-",
        "outputId": "4c09dc1f-ffa2-4d25-c19a-45fd9ffcc8a6",
        "colab": {
          "base_uri": "https://localhost:8080/"
        }
      },
      "outputs": [
        {
          "output_type": "stream",
          "name": "stdout",
          "text": [
            "User input: Under what circumstances can an employee use their   professional designation for a medical license while working at   Wells Fargo, and what are the limitations?\n",
            "Response: An employee at Wells Fargo can use their medical license as a professional designation if it is appropriate for their role and not prohibited by company policy or applicable laws and regulations. However, they must not misrepresent or use their professional designation in a manner that is not suitable for their position.\n"
          ]
        }
      ],
      "source": [
        "from deepeval.metrics import FaithfulnessMetric\n",
        "from deepeval.test_case import LLMTestCase\n",
        "\n",
        "# An example input to your RAG application\n",
        "user_input = \"Under what circumstances can an employee use their \\\n",
        "  professional designation for a medical license while working at \\\n",
        "  Wells Fargo, and what are the limitations?\"\n",
        "\n",
        "# LlamaIndex returns a response object that contains\n",
        "# both the output string and retrieved nodes\n",
        "response_object = rag_application.query(user_input)\n",
        "\n",
        "# Process the response object to get the output string\n",
        "# and retrieved nodes\n",
        "if response_object is not None:\n",
        "    actual_output = response_object.response\n",
        "    retrieval_context = [node.get_content() for node in response_object.source_nodes]\n",
        "\n",
        "# Create a test case and metric as usual\n",
        "test_case = LLMTestCase(\n",
        "    input=user_input,\n",
        "    actual_output=actual_output,\n",
        "    retrieval_context=retrieval_context\n",
        ")\n",
        "answer_faithfulness_metric = FaithfulnessMetric()\n",
        "\n",
        "print(f\"User input: {user_input}\")\n",
        "print(f\"Response: {response_object}\")"
      ]
    },
    {
      "cell_type": "code",
      "source": [
        "print(f\"Retrieval context: {retrieval_context}\")"
      ],
      "metadata": {
        "id": "lY36hh2Jrahi",
        "outputId": "d76e950f-9ddd-4337-93d8-5c4191ce51e6",
        "colab": {
          "base_uri": "https://localhost:8080/"
        }
      },
      "execution_count": 7,
      "outputs": [
        {
          "output_type": "stream",
          "name": "stdout",
          "text": [
            "Retrieval context: ['12 of 19 Code of Conduct \\n\\n# Examples of potential conflicts, continued \\n\\nUse of professional designations \\n\\nWells Fargo acknowledges employees may maintain specialized, professional designations that may not relate to their duties with the company. These include but are not limited to legal, medical, notary, accounting, and investment licenses and certifications.', 'Employees must not misrepresent or use their professional designation if it is not appropriate for their role or if prohibited by company policy or applicable laws and regulations. \\n\\nFiduciary and investment duties \\n\\nWhen executing fiduciary duties or responsibilities, acting as a trustee, investment manager, or in any similar capacity in which the company possesses investment discretion on behalf of another, Wells Fargo acts in the best interest of our clients.', '• Be compensated directly or indirectly for providing investment or legal advice. \\n\\n• Engage in activities related to the preparation, audit, or certification of statements or documents that Wells Fargo may rely on to make lending or other decisions related to any person or entity other than the employee. \\n\\n• Speak on the company’s behalf in the media without prior approval or publish works related to their role or the company without prior approval.', 'Limited personal use of company-owned phones, computers, electronics, and company networks is allowed, but good judgment must be used to ensure that personal use does not interfere with the work environment or in any way violate our policies or security requirements. \\n\\n• Using their corporate card in a responsible manner and only for business-related expenses. \\n\\nEmployees are not permitted to: \\n\\n• Allow unauthorized persons to use Wells Fargo equipment or access Wells Fargo facilities.']\n"
          ]
        }
      ]
    },
    {
      "cell_type": "code",
      "source": [
        "# Evaluate\n",
        "answer_faithfulness_metric.measure(test_case)\n",
        "print(answer_faithfulness_metric.score)\n",
        "print(answer_faithfulness_metric.reason)"
      ],
      "metadata": {
        "id": "T9ThJBn8rZid",
        "outputId": "ef79783b-5f5b-4a28-835d-6847347eeb39",
        "colab": {
          "base_uri": "https://localhost:8080/",
          "height": 68,
          "referenced_widgets": [
            "948f788cbcdb46e08c2218d8fcdb4147",
            "0b08cd3c06fb4db28d92ec1784f79a79"
          ]
        }
      },
      "execution_count": 8,
      "outputs": [
        {
          "output_type": "display_data",
          "data": {
            "text/plain": [
              "Output()"
            ],
            "application/vnd.jupyter.widget-view+json": {
              "version_major": 2,
              "version_minor": 0,
              "model_id": "948f788cbcdb46e08c2218d8fcdb4147"
            }
          },
          "metadata": {}
        },
        {
          "output_type": "display_data",
          "data": {
            "text/plain": [
              "Event loop is already running. Applying nest_asyncio patch to allow async execution...\n"
            ],
            "text/html": [
              "<pre style=\"white-space:pre;overflow-x:auto;line-height:normal;font-family:Menlo,'DejaVu Sans Mono',consolas,'Courier New',monospace\">Event loop is already running. Applying nest_asyncio patch to allow async execution...\n",
              "</pre>\n"
            ]
          },
          "metadata": {}
        },
        {
          "output_type": "display_data",
          "data": {
            "text/plain": [],
            "text/html": [
              "<pre style=\"white-space:pre;overflow-x:auto;line-height:normal;font-family:Menlo,'DejaVu Sans Mono',consolas,'Courier New',monospace\"></pre>\n"
            ]
          },
          "metadata": {}
        },
        {
          "output_type": "stream",
          "name": "stdout",
          "text": [
            "1.0\n",
            "The score is 1.00 because there are no contradictions. Everything aligns perfectly. Great job!\n"
          ]
        }
      ]
    },
    {
      "cell_type": "markdown",
      "source": [
        "Try these challenging questions:\n",
        "\n",
        "- Multi-hop: requires combining multiple conditions from the volunteer activities section:\n",
        "> If an employee wants to volunteer at a nonprofit organization's board AND manage their investments AND receive compensation, what specific pre-clearance requirements apply?\n",
        "- Multi-hop: combines MNPI rules with hedging/derivatives restrictions:\n",
        "> If an employee receives material nonpublic information about a company AND owns derivatives in that company's stock through a previously approved trading plan, what actions must they take?\n",
        "- Complex: requires combining personal relationships, fiduciary duties, and customer relationship contexts\n",
        "> Can a Wells Fargo employee accept a position as a trustee for their cousin's estate if the cousin was also a Wells Fargo customer who they previously helped with banking services?"
      ],
      "metadata": {
        "id": "HcCvR_Cj4nqb"
      }
    },
    {
      "cell_type": "markdown",
      "source": [
        "## Unit Testing\n",
        "\n",
        "Let's ask a critical question for compliance on gifts and entertainment:\n",
        "\n",
        "> Is it permissible for an employee to accept a cash gift from a customer as a thank you for exceptional service?\n"
      ],
      "metadata": {
        "id": "x3CavNnXyZc1"
      }
    },
    {
      "cell_type": "code",
      "source": [
        "## save this string as a test_example.py\n",
        "\n",
        "string_content = \"\"\"\n",
        "import pytest\n",
        "from deepeval import assert_test\n",
        "from deepeval.metrics import FaithfulnessMetric\n",
        "from deepeval.test_case import LLMTestCase\n",
        "from deepeval.dataset import EvaluationDataset, Golden\n",
        "\n",
        "from llama_index.core import VectorStoreIndex, SimpleDirectoryReader\n",
        "from llama_index.core import Settings\n",
        "\n",
        "# Read LlamaIndex's quickstart on more details, you will need to store your data in \"YOUR_DATA_DIRECTORY\" beforehand\n",
        "documents = SimpleDirectoryReader(\".\").load_data()\n",
        "\n",
        "Settings.chunk_size = 100\n",
        "Settings.chunk_overlap = 20\n",
        "\n",
        "index = VectorStoreIndex.from_documents(documents)\n",
        "rag_application = index.as_query_engine(similarity_top_k=4)\n",
        "\n",
        "example_golden = Golden(input=\"Is it permissible for an employee to accept a cash gift from a customer as a thank you for exceptional service?\")\n",
        "\n",
        "dataset = EvaluationDataset(goldens=[example_golden])\n",
        "\n",
        "@pytest.mark.parametrize(\n",
        "    \"golden\",\n",
        "    dataset.goldens,\n",
        ")\n",
        "def test_rag(golden: Golden):\n",
        "    # LlamaIndex returns a response object that contains\n",
        "    # both the output string and retrieved nodes\n",
        "    response_object = rag_application.query(golden.input)\n",
        "\n",
        "    # Process the response object to get the output string\n",
        "    # and retrieved nodes\n",
        "    if response_object is not None:\n",
        "        actual_output = response_object.response\n",
        "        retrieval_context = [node.get_content() for node in response_object.source_nodes]\n",
        "\n",
        "    test_case = LLMTestCase(\n",
        "        input=golden.input,\n",
        "        actual_output=actual_output,\n",
        "        retrieval_context=retrieval_context\n",
        "    )\n",
        "    print(\"\\\\n\")\n",
        "    print(f\"Query: {test_case.input}\")\n",
        "    print(f\"Response: {test_case.actual_output}\")\n",
        "    print(f\"Retrieval context: {test_case.retrieval_context}\")\n",
        "    answer_faithfulness_metric = FaithfulnessMetric(threshold=0.5)\n",
        "    answer_faithfulness_metric.measure(test_case)\n",
        "    print(f\"Metric score: {answer_faithfulness_metric.score}\")\n",
        "    print(f\"Metric reason: {answer_faithfulness_metric.reason}\")\n",
        "    assert_test(test_case, [answer_faithfulness_metric])\n",
        "\"\"\"\n",
        "\n",
        "with open(\"test_example.py\", \"w\") as file:\n",
        "    file.write(string_content)\n",
        "\n",
        "print(\"String saved to test_example.py\")"
      ],
      "metadata": {
        "id": "YjSme-bqxgxa",
        "outputId": "6d06e334-7929-439e-c9f1-5d8f722e5c36",
        "colab": {
          "base_uri": "https://localhost:8080/"
        }
      },
      "execution_count": 9,
      "outputs": [
        {
          "output_type": "stream",
          "name": "stdout",
          "text": [
            "String saved to test_example.py\n"
          ]
        }
      ]
    },
    {
      "cell_type": "code",
      "source": [
        "!pytest -s test_example.py"
      ],
      "metadata": {
        "id": "-mudbIOvyQEY",
        "outputId": "dd71da20-ba3c-4c05-f97e-c5563c5547b8",
        "colab": {
          "base_uri": "https://localhost:8080/"
        }
      },
      "execution_count": 10,
      "outputs": [
        {
          "output_type": "stream",
          "name": "stdout",
          "text": [
            "\u001b[1m======================================= test session starts ========================================\u001b[0m\n",
            "platform linux -- Python 3.10.12, pytest-7.4.4, pluggy-1.5.0\n",
            "rootdir: /content\n",
            "plugins: repeat-0.9.3, deepeval-1.5.0, xdist-3.6.1, typeguard-4.4.1, anyio-3.7.1\n",
            "collected 1 item                                                                                   \u001b[0m\n",
            "\n",
            "test_example.py \n",
            "\n",
            "Query: Is it permissible for an employee to accept a cash gift from a customer as a thank you for exceptional service?\n",
            "Response: It is not permissible for an employee to accept a cash gift from a customer as a thank you for exceptional service.\n",
            "Retrieval context: ['Employees should conduct themselves in accordance with the following expectations: \\n\\n• Refrain from giving and receiving gifts offered in exchange for business referrals or other business advantages. \\n\\n• Never give or receive gifts that are cash or cash equivalents, cannabis-related, or otherwise do not comply with our policies. \\n\\n• Follow requirements to pre-clear the exchange of any gift or entertainment with government officials or government entities through the Global Preclearance System.', '11 of 19 Code of Conduct \\n\\n# Examples of potential conflicts, continued \\n\\nGifts and entertainment \\n\\nWells Fargo permits giving and receiving business gifts and entertainment provided there is no reasonable inference that the gift or entertainment could influence the performance or decision making of any employee. The gift or entertainment with any one individual or entity should occur infrequently and be consistent with accepted, lawful business practices and customs.', 'Gifts or entertainment provided to government officials or government entities are controlled by strict laws and regulations. \\n\\n• Report a payment, loan, gift, entertainment, or anything else of value provided to labor organizations or their representatives, as these transactions are also subject to strict laws and regulations. \\n\\n• Consult with a manager before providing gifts or entertainment to individuals or entities involved in contract negotiations or competitive bidding with Wells Fargo.', '• Selecting or influencing selection of financial products or services. \\n\\n• Participating on the Board of an organization that is a Wells Fargo customer for more than deposit services. \\n\\n• Receiving compensation for service. \\n\\nEmployees may not solicit Wells Fargo customers, employees, or third-party service providers when raising funds for a nonprofit. \\n\\nPersonal r elationships \\n\\nPersonal relationships in the workplace may interfere with job responsibilities and decision making.']\n",
            "\u001b[2K✨ You're running DeepEval's latest \u001b[35mFaithfulness Metric\u001b[0m! \u001b[90m(using gpt-4o, strict=False, async_mode=Tr…\u001b[0m\n",
            "\u001b[1A\u001b[2KMetric score: 1.0\n",
            "Metric reason: The score is 1.00 because there are no contradictions. Great job maintaining alignment with the retrieval context!\n",
            "Evaluating 1 test case(s) in parallel: 100% 1/1 [00:06<00:00,  6.97s/test case]\n",
            "\u001b[32m.\u001b[0mRunning teardown with pytest sessionfinish\u001b[33m...\u001b[0m\n",
            "\n",
            "\n",
            "\u001b[32m======================================== \u001b[32m\u001b[1m1 passed\u001b[0m\u001b[32m in 20.80s\u001b[0m\u001b[32m ========================================\u001b[0m\n"
          ]
        }
      ]
    },
    {
      "cell_type": "markdown",
      "source": [
        "Examples of other unit tests to improve risk management:\n",
        "\n",
        "### Compliance\n",
        "\n",
        "> Can an employee delay reporting a potential violation of the Code of Conduct if they're waiting to gather more evidence?\n",
        "\n",
        "### Information security\n",
        "\n",
        "> Is it acceptable for an employee to use their Wells Fargo credentials to access customer information to help a family member evaluate a business opportunity?\n",
        "\n",
        "### Reputational risk\n",
        "\n",
        "> Can an employee make anonymous posts on social media criticizing Wells Fargo's business practices if they believe the criticism is justified?\n",
        "\n",
        "### Ethical conduct\n",
        "\n",
        "> If an employee discovers a colleague is manipulating records to meet sales targets but the manipulation benefits the company, should they report it?"
      ],
      "metadata": {
        "id": "zRhV0CcF9tJm"
      }
    },
    {
      "cell_type": "markdown",
      "metadata": {
        "id": "qW6upJeWjCS-"
      },
      "source": [
        "## Full List of Evaluators\n",
        "\n",
        "Here is how you can import all 6 metrics from `deepeval`:\n",
        "\n",
        "```python\n",
        "from deepeval.metrics import (\n",
        "    AnswerRelevancyMetric,\n",
        "    FaithfulnessMetric,\n",
        "    ContextualRelevancyMetric,\n",
        "    SummarizationMetric,\n",
        "    BiasMetric,\n",
        "    ToxicityMetric,\n",
        ")\n",
        "```\n",
        "\n",
        "For all evaluator definitions and to understand how it integrates with DeepEval's testing suite, [click here.](https://docs.confident-ai.com/docs/integrations-llamaindex)\n",
        "\n",
        "## Useful Links\n",
        "\n",
        "- [DeepEval Quickstart](https://docs.confident-ai.com/docs/getting-started)\n",
        "- [Everything you need to know about LLM evaluation metrics](https://www.confident-ai.com/blog/llm-evaluation-metrics-everything-you-need-for-llm-evaluation)"
      ]
    }
  ],
  "metadata": {
    "colab": {
      "provenance": []
    },
    "kernelspec": {
      "display_name": "Python 3",
      "name": "python3"
    },
    "language_info": {
      "name": "python"
    },
    "widgets": {
      "application/vnd.jupyter.widget-state+json": {
        "948f788cbcdb46e08c2218d8fcdb4147": {
          "model_module": "@jupyter-widgets/output",
          "model_name": "OutputModel",
          "model_module_version": "1.0.0",
          "state": {
            "_dom_classes": [],
            "_model_module": "@jupyter-widgets/output",
            "_model_module_version": "1.0.0",
            "_model_name": "OutputModel",
            "_view_count": null,
            "_view_module": "@jupyter-widgets/output",
            "_view_module_version": "1.0.0",
            "_view_name": "OutputView",
            "layout": "IPY_MODEL_0b08cd3c06fb4db28d92ec1784f79a79",
            "msg_id": "",
            "outputs": [
              {
                "output_type": "display_data",
                "data": {
                  "text/plain": "\u001b[38;2;106;0;255m⠸\u001b[0m ✨ You're running DeepEval's latest \u001b[38;2;106;0;255mFaithfulness Metric\u001b[0m! \u001b[38;2;55;65;81m(using gpt-4o, strict=False, async_mode=True)...\u001b[0m\n",
                  "text/html": "<pre style=\"white-space:pre;overflow-x:auto;line-height:normal;font-family:Menlo,'DejaVu Sans Mono',consolas,'Courier New',monospace\"><span style=\"color: #6a00ff; text-decoration-color: #6a00ff\">⠸</span> ✨ You're running DeepEval's latest <span style=\"color: #6a00ff; text-decoration-color: #6a00ff\">Faithfulness Metric</span>! <span style=\"color: #374151; text-decoration-color: #374151\">(using gpt-4o, strict=False, async_mode=True)...</span>\n</pre>\n"
                },
                "metadata": {}
              }
            ]
          }
        },
        "0b08cd3c06fb4db28d92ec1784f79a79": {
          "model_module": "@jupyter-widgets/base",
          "model_name": "LayoutModel",
          "model_module_version": "1.2.0",
          "state": {
            "_model_module": "@jupyter-widgets/base",
            "_model_module_version": "1.2.0",
            "_model_name": "LayoutModel",
            "_view_count": null,
            "_view_module": "@jupyter-widgets/base",
            "_view_module_version": "1.2.0",
            "_view_name": "LayoutView",
            "align_content": null,
            "align_items": null,
            "align_self": null,
            "border": null,
            "bottom": null,
            "display": null,
            "flex": null,
            "flex_flow": null,
            "grid_area": null,
            "grid_auto_columns": null,
            "grid_auto_flow": null,
            "grid_auto_rows": null,
            "grid_column": null,
            "grid_gap": null,
            "grid_row": null,
            "grid_template_areas": null,
            "grid_template_columns": null,
            "grid_template_rows": null,
            "height": null,
            "justify_content": null,
            "justify_items": null,
            "left": null,
            "margin": null,
            "max_height": null,
            "max_width": null,
            "min_height": null,
            "min_width": null,
            "object_fit": null,
            "object_position": null,
            "order": null,
            "overflow": null,
            "overflow_x": null,
            "overflow_y": null,
            "padding": null,
            "right": null,
            "top": null,
            "visibility": null,
            "width": null
          }
        }
      }
    }
  },
  "nbformat": 4,
  "nbformat_minor": 0
}