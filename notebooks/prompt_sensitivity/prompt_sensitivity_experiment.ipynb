{
  "cells": [
    {
      "cell_type": "markdown",
      "metadata": {
        "id": "view-in-github",
        "colab_type": "text"
      },
      "source": [
        "<a href=\"https://colab.research.google.com/github/wesslen/llm-evaluations/blob/main/notebooks/prompt_sensitivity/prompt_sensitivity_experiment.ipynb\" target=\"_parent\"><img src=\"https://colab.research.google.com/assets/colab-badge.svg\" alt=\"Open In Colab\"/></a>"
      ]
    },
    {
      "cell_type": "markdown",
      "metadata": {
        "id": "YgFUP4lGonmQ"
      },
      "source": [
        "# Prompt Sensitivity Experiment with DSPy and Claude\n",
        "\n",
        "This notebook explores how small changes in prompts affect Claude's responses using DSPy. We'll test variations in spacing, punctuation, and minor wording changes to analyze the model's sensitivity to prompt formatting."
      ]
    },
    {
      "cell_type": "code",
      "source": [
        "%%capture\n",
        "!uv pip install --system dspy"
      ],
      "metadata": {
        "id": "Ru4fVGzsowK1"
      },
      "execution_count": 1,
      "outputs": []
    },
    {
      "cell_type": "code",
      "execution_count": 2,
      "metadata": {
        "id": "vXy69x0DonmS"
      },
      "source": [
        "import dspy\n",
        "import pandas as pd\n",
        "import numpy as np\n",
        "from typing import List, Dict\n",
        "import json\n",
        "from datetime import datetime\n",
        "\n",
        "from google.colab import userdata\n",
        "\n",
        "# Configure DSPy with Claude\n",
        "api_key = userdata.get('ANTHROPIC_API_KEY')\n",
        "lm = dspy.LM('anthropic/claude-3-opus-20240229', api_key=api_key)\n",
        "dspy.configure(lm=lm)"
      ],
      "outputs": []
    },
    {
      "cell_type": "markdown",
      "metadata": {
        "id": "DKQu1qcEonmT"
      },
      "source": [
        "## Define Prompt Variations\n",
        "\n",
        "We'll create a set of prompt variations to test different aspects of formatting sensitivity."
      ]
    },
    {
      "cell_type": "code",
      "execution_count": 3,
      "metadata": {
        "id": "UjYbvsx9onmT"
      },
      "source": [
        "from typing import List, Dict, Union\n",
        "import json\n",
        "import pandas as pd\n",
        "from datetime import datetime\n",
        "import dspy\n",
        "from difflib import SequenceMatcher\n",
        "from IPython.display import HTML\n",
        "\n",
        "class PromptTemplate(dspy.Signature):\n",
        "    '''Template for generating responses to prompt variations'''\n",
        "    context = dspy.InputField()\n",
        "    prompt = dspy.InputField()\n",
        "    response = dspy.OutputField()\n",
        "\n",
        "class PromptExperiment:\n",
        "    def __init__(self, base_prompt: str):\n",
        "        self.base_prompt = base_prompt\n",
        "        self.results = []\n",
        "\n",
        "    def generate_variations(self) -> List[Dict]:\n",
        "        '''Generate various prompt modifications'''\n",
        "        variations = [\n",
        "            # Original prompt\n",
        "            {\"type\": \"original\", \"prompt\": self.base_prompt},\n",
        "\n",
        "            # Extra spacing variations\n",
        "            {\"type\": \"extra_space_start\", \"prompt\": f\" {self.base_prompt}\"},\n",
        "            {\"type\": \"extra_space_end\", \"prompt\": f\"{self.base_prompt} \"},\n",
        "            {\"type\": \"double_space\", \"prompt\": self.base_prompt.replace(\" \", \"  \")},\n",
        "\n",
        "            # Punctuation variations\n",
        "            {\"type\": \"add_period\", \"prompt\": f\"{self.base_prompt}.\"},\n",
        "            {\"type\": \"add_question\", \"prompt\": f\"{self.base_prompt}?\"},\n",
        "            {\"type\": \"add_exclamation\", \"prompt\": f\"{self.base_prompt}!\"},\n",
        "\n",
        "            # Capitalization variations\n",
        "            {\"type\": \"all_caps\", \"prompt\": self.base_prompt.upper()},\n",
        "            {\"type\": \"all_lower\", \"prompt\": self.base_prompt.lower()},\n",
        "\n",
        "            # Word boundary variations\n",
        "            {\"type\": \"no_spaces\", \"prompt\": self.base_prompt.replace(\" \", \"\")},\n",
        "            {\"type\": \"extra_newline\", \"prompt\": f\"\\n{self.base_prompt}\\n\"}\n",
        "        ]\n",
        "        return variations\n",
        "\n",
        "    def run_experiment(self, context: str = \"\"):\n",
        "        '''Run the experiment with all prompt variations'''\n",
        "        variations = self.generate_variations()\n",
        "        program = dspy.Predict(PromptTemplate)\n",
        "\n",
        "        for var in variations:\n",
        "            try:\n",
        "                # Get response from Claude\n",
        "                result = program(context=context, prompt=var[\"prompt\"])\n",
        "\n",
        "                # Store results\n",
        "                self.results.append({\n",
        "                    \"variation_type\": var[\"type\"],\n",
        "                    \"prompt\": var[\"prompt\"],\n",
        "                    \"response\": result.response,\n",
        "                    \"timestamp\": datetime.now().isoformat()\n",
        "                })\n",
        "            except Exception as e:\n",
        "                print(f\"Error with variation {var['type']}: {str(e)}\")\n",
        "\n",
        "    def analyze_results(self) -> pd.DataFrame:\n",
        "        '''Analyze the results of the experiment'''\n",
        "        df = pd.DataFrame(self.results)\n",
        "\n",
        "        # Add basic analytics\n",
        "        df['response_length'] = df['response'].str.len()\n",
        "        df['word_count'] = df['response'].str.split().str.len()\n",
        "\n",
        "        # Calculate response similarity scores\n",
        "        base_response = df[df['variation_type'] == 'original']['response'].iloc[0]\n",
        "\n",
        "        return df\n",
        "\n",
        "    def save_results(self, filename: str):\n",
        "        '''Save results to JSON file'''\n",
        "        with open(filename, 'w') as f:\n",
        "            json.dump(self.results, f, indent=2)\n",
        "\n",
        "    def _split_into_tokens(self, text: str) -> list:\n",
        "        \"\"\"Split text into tokens (words and spaces).\"\"\"\n",
        "        return [token for token in text.replace('\\n', ' \\n ').split(' ') if token]\n",
        "\n",
        "    def _create_diff_spans(self, a: list, b: list) -> tuple[list, list]:\n",
        "        \"\"\"Create HTML spans for diff visualization with proper spacing.\"\"\"\n",
        "        matcher = SequenceMatcher(None, a, b)\n",
        "        old_spans = []\n",
        "        new_spans = []\n",
        "\n",
        "        def add_space_after_span(spans: list, is_last: bool = False):\n",
        "            \"\"\"Add space after span unless it's the last one or already ends with space\"\"\"\n",
        "            if not is_last and not spans[-1].endswith(' </span>'):\n",
        "                spans.append('<span> </span>')\n",
        "\n",
        "        for idx, (tag, i1, i2, j1, j2) in enumerate(matcher.get_opcodes()):\n",
        "            is_last = idx == len(matcher.get_opcodes()) - 1\n",
        "\n",
        "            if tag == 'equal':\n",
        "                span_text = ' '.join(a[i1:i2])\n",
        "                old_spans.append(f'<span>{span_text}</span>')\n",
        "                new_spans.append(f'<span>{span_text}</span>')\n",
        "                add_space_after_span(old_spans, is_last)\n",
        "                add_space_after_span(new_spans, is_last)\n",
        "\n",
        "            elif tag == 'delete':\n",
        "                span_text = ' '.join(a[i1:i2])\n",
        "                old_spans.append(f'<span style=\"background-color: #ffdce0\">{span_text}</span>')\n",
        "                add_space_after_span(old_spans, is_last)\n",
        "\n",
        "            elif tag == 'insert':\n",
        "                span_text = ' '.join(b[j1:j2])\n",
        "                new_spans.append(f'<span style=\"background-color: #cdffd8\">{span_text}</span>')\n",
        "                add_space_after_span(new_spans, is_last)\n",
        "\n",
        "            elif tag == 'replace':\n",
        "                old_span_text = ' '.join(a[i1:i2])\n",
        "                new_span_text = ' '.join(b[j1:j2])\n",
        "                old_spans.append(f'<span style=\"background-color: #ffdce0\">{old_span_text}</span>')\n",
        "                new_spans.append(f'<span style=\"background-color: #cdffd8\">{new_span_text}</span>')\n",
        "                add_space_after_span(old_spans, is_last)\n",
        "                add_space_after_span(new_spans, is_last)\n",
        "\n",
        "        return old_spans, new_spans\n",
        "\n",
        "    def display_diff(self, modified_variation: Union[str, int], reference_variation: str = \"original\") -> HTML:\n",
        "        \"\"\"\n",
        "        Generate an HTML visualization of the differences between two experiment variations.\n",
        "\n",
        "        Args:\n",
        "            modified_variation: Either the variation_type (str) or index (int) of the modified version\n",
        "            reference_variation: variation_type of the reference version (default: \"original\")\n",
        "\n",
        "        Returns:\n",
        "            IPython.display.HTML: HTML-formatted diff visualization\n",
        "        \"\"\"\n",
        "        # Find reference version\n",
        "        reference_result = next(r for r in self.results if r[\"variation_type\"] == reference_variation)\n",
        "\n",
        "        # Find modified version\n",
        "        if isinstance(modified_variation, str):\n",
        "            modified_result = next(r for r in self.results if r[\"variation_type\"] == modified_variation)\n",
        "        else:  # modified_variation is an index\n",
        "            modified_result = self.results[modified_variation]\n",
        "\n",
        "        # Split responses into tokens\n",
        "        old_tokens = self._split_into_tokens(reference_result[\"response\"])\n",
        "        new_tokens = self._split_into_tokens(modified_result[\"response\"])\n",
        "\n",
        "        # Generate diff spans\n",
        "        old_spans, new_spans = self._create_diff_spans(old_tokens, new_tokens)\n",
        "\n",
        "        # Create HTML output with prompts in titles\n",
        "        html_output = f'''\n",
        "        <div style=\"font-family: monospace; white-space: pre-wrap;\">\n",
        "            <div style=\"margin-bottom: 10px;\">\n",
        "                <div style=\"color: #666; margin-bottom: 3px;\">- Original ({reference_result[\"variation_type\"]}): {reference_result[\"prompt\"]}</div>\n",
        "                <div style=\"border: 1px solid #d0d7de; padding: 8px; border-radius: 4px;\">\n",
        "                    {''.join(old_spans)}\n",
        "                </div>\n",
        "            </div>\n",
        "            <div>\n",
        "                <div style=\"color: #666; margin-bottom: 3px;\">+ Modified ({modified_result[\"variation_type\"]}): {modified_result[\"prompt\"]}</div>\n",
        "                <div style=\"border: 1px solid #d0d7de; padding: 8px; border-radius: 4px;\">\n",
        "                    {''.join(new_spans)}\n",
        "                </div>\n",
        "            </div>\n",
        "        </div>\n",
        "        '''\n",
        "\n",
        "        return HTML(html_output)"
      ],
      "outputs": []
    },
    {
      "cell_type": "markdown",
      "metadata": {
        "id": "PO8qm-CRonmT"
      },
      "source": [
        "## Run Experiments\n",
        "\n",
        "Let's test the prompt sensitivity with a few different base prompts."
      ]
    },
    {
      "cell_type": "code",
      "execution_count": 4,
      "metadata": {
        "id": "mLYqJGlhonmT"
      },
      "source": [
        "# Test cases\n",
        "test_cases = [\n",
        "    {\n",
        "        \"prompt\": \"Explain how photosynthesis works\",\n",
        "        \"context\": \"You are a biology teacher explaining concepts to high school students.\"\n",
        "    },\n",
        "    {\n",
        "        \"prompt\": \"Write a short poem about the moon\",\n",
        "        \"context\": \"You are a creative writing instructor helping students with poetry.\"\n",
        "    },\n",
        "    {\n",
        "        \"prompt\": \"What are the key features of Python\",\n",
        "        \"context\": \"You are a programming instructor teaching beginners about Python.\"\n",
        "    },\n",
        "    {\n",
        "        \"prompt\": \"Summarize\",\n",
        "        \"context\": \"You are a research assistant helping to condense complex papers into key points.\"\n",
        "    },\n",
        "    {\n",
        "        \"prompt\": \"Explain the difference between mitochondrial DNA and nuclear DNA\",\n",
        "        \"context\": \"You are a genetics researcher explaining concepts to undergraduate students.\"\n",
        "    },\n",
        "    {\n",
        "        \"prompt\": \"Design a database schema for a library management system\",\n",
        "        \"context\": \"You are a database architect helping junior developers.\"\n",
        "    },\n",
        "    {\n",
        "        \"prompt\": \"Debug why my SELECT query with JOIN is slow\",\n",
        "        \"context\": \"You are a SQL performance tuning expert helping optimize database queries.\"\n",
        "    }\n",
        "]\n",
        "\n",
        "# Run experiments\n",
        "experiments = []\n",
        "for case in test_cases:\n",
        "    experiment = PromptExperiment(case[\"prompt\"])\n",
        "    experiment.run_experiment(context=case[\"context\"])\n",
        "    experiments.append(experiment)\n",
        "\n",
        "    # Save results\n",
        "    experiment.save_results(f\"results_{datetime.now().strftime('%Y%m%d_%H%M%S')}.json\")"
      ],
      "outputs": []
    },
    {
      "cell_type": "markdown",
      "source": [
        "## Exploration"
      ],
      "metadata": {
        "id": "HF3KyMTsWjK9"
      }
    },
    {
      "cell_type": "code",
      "source": [
        "from typing import List, Union, Optional\n",
        "from IPython.display import display, HTML\n",
        "\n",
        "def display_experiment_diffs(\n",
        "    experiments: List[PromptExperiment],\n",
        "    experiment_idx: Optional[Union[int, List[int]]] = None,\n",
        "    variation_type: str = \"extra_space_start\",\n",
        "    reference_variation: str = \"original\"\n",
        ") -> None:\n",
        "    \"\"\"\n",
        "    Display diffs for one or more experiments.\n",
        "\n",
        "    Args:\n",
        "        experiments: List of PromptExperiment objects\n",
        "        experiment_idx: Index or list of indices of experiments to display (None for all)\n",
        "        variation_type: The variation type to compare against the reference\n",
        "        reference_variation: The reference variation type (default: \"original\")\n",
        "    \"\"\"\n",
        "    # Convert single index to list for consistent handling\n",
        "    if isinstance(experiment_idx, int):\n",
        "        experiment_idx = [experiment_idx]\n",
        "\n",
        "    # If no index specified, show all experiments\n",
        "    if experiment_idx is None:\n",
        "        experiment_idx = range(len(experiments))\n",
        "\n",
        "    for idx in experiment_idx:\n",
        "        experiment = experiments[idx]\n",
        "\n",
        "        # Display experiment identifier\n",
        "        display(HTML(f'''\n",
        "        <div style=\"margin: 20px 0; padding: 10px; background-color: #f6f8fa; border-radius: 4px;\">\n",
        "            <strong>Experiment {idx}</strong><br>\n",
        "            Base Prompt: {experiment.base_prompt}\n",
        "        </div>\n",
        "        '''))\n",
        "\n",
        "        # Display the diff\n",
        "        display(experiment.display_diff(variation_type, reference_variation))"
      ],
      "metadata": {
        "id": "3bM5d_qfXuGZ"
      },
      "execution_count": 5,
      "outputs": []
    },
    {
      "cell_type": "code",
      "source": [
        "# Example usage:\n",
        "# Show diff for a single experiment\n",
        "display_experiment_diffs(experiments, experiment_idx=0, variation_type=\"extra_space_start\")\n"
      ],
      "metadata": {
        "colab": {
          "base_uri": "https://localhost:8080/",
          "height": 1000
        },
        "id": "jBPBRR42WlzC",
        "outputId": "d21c7265-e658-42d8-dd18-7755164d68f5"
      },
      "execution_count": 6,
      "outputs": [
        {
          "output_type": "display_data",
          "data": {
            "text/plain": [
              "<IPython.core.display.HTML object>"
            ],
            "text/html": [
              "\n",
              "        <div style=\"margin: 20px 0; padding: 10px; background-color: #f6f8fa; border-radius: 4px;\">\n",
              "            <strong>Experiment 0</strong><br>\n",
              "            Base Prompt: Explain how photosynthesis works\n",
              "        </div>\n",
              "        "
            ]
          },
          "metadata": {}
        },
        {
          "output_type": "display_data",
          "data": {
            "text/plain": [
              "<IPython.core.display.HTML object>"
            ],
            "text/html": [
              "\n",
              "        <div style=\"font-family: monospace; white-space: pre-wrap;\">\n",
              "            <div style=\"margin-bottom: 10px;\">\n",
              "                <div style=\"color: #666; margin-bottom: 3px;\">- Original (original): Explain how photosynthesis works</div>\n",
              "                <div style=\"border: 1px solid #d0d7de; padding: 8px; border-radius: 4px;\">\n",
              "                    <span>Photosynthesis is the process by which plants use sunlight, water and carbon dioxide to create oxygen and energy in the form of sugar. \n",
              " \n",
              " Here's a simple step-by-step of how photosynthesis works: \n",
              " \n",
              " 1. The leaves of a plant absorb sunlight. Within the leaves are chloroplasts which contain a green pigment called chlorophyll. Chlorophyll is what allows plants to absorb energy from sunlight. \n",
              " \n",
              " 2. At the same time, the roots absorb water from the soil and this is transported to the leaves. \n",
              " \n",
              " 3. Carbon dioxide enters the leaves through tiny pores called stomata. \n",
              " \n",
              " 4. Using the energy from sunlight, the chlorophyll combines the water and carbon dioxide to make glucose (a type of sugar) and oxygen. \n",
              " \n",
              " 5. The glucose is used by the plant as food for energy and as a building block for growing. The oxygen is released from the leaves into the air. \n",
              " \n",
              " So in summary,</span><span> </span><span style=\"background-color: #ffdce0\">plants take in water,</span><span> </span><span>carbon</span><span> </span><span style=\"background-color: #ffdce0\">dioxide and light energy, and through a chemical reaction, produce</span><span> </span><span>glucose which</span><span> </span><span style=\"background-color: #ffdce0\">they use for food, as well as oxygen which they release</span><span> </span><span>into the atmosphere.</span><span> </span><span style=\"background-color: #ffdce0\">This is why plants are so important</span><span> </span><span>for life on Earth</span><span> </span><span style=\"background-color: #ffdce0\">- they provide</span><span> </span><span>the oxygen we breathe and</span><span> </span><span style=\"background-color: #ffdce0\">form</span><span> </span><span>the foundation of</span><span> </span><span style=\"background-color: #ffdce0\">many</span><span> </span><span>food chains.</span>\n",
              "                </div>\n",
              "            </div>\n",
              "            <div>\n",
              "                <div style=\"color: #666; margin-bottom: 3px;\">+ Modified (extra_space_start):  Explain how photosynthesis works</div>\n",
              "                <div style=\"border: 1px solid #d0d7de; padding: 8px; border-radius: 4px;\">\n",
              "                    <span>Photosynthesis is the process by which plants use sunlight, water and carbon dioxide to create oxygen and energy in the form of sugar. \n",
              " \n",
              " Here's a simple step-by-step of how photosynthesis works: \n",
              " \n",
              " 1. The leaves of a plant absorb sunlight. Within the leaves are chloroplasts which contain a green pigment called chlorophyll. Chlorophyll is what allows plants to absorb energy from sunlight. \n",
              " \n",
              " 2. At the same time, the roots absorb water from the soil and this is transported to the leaves. \n",
              " \n",
              " 3. Carbon dioxide enters the leaves through tiny pores called stomata. \n",
              " \n",
              " 4. Using the energy from sunlight, the chlorophyll combines the water and carbon dioxide to make glucose (a type of sugar) and oxygen. \n",
              " \n",
              " 5. The glucose is used by the plant as food for energy and as a building block for growing. The oxygen is released from the leaves into the air. \n",
              " \n",
              " So in summary,</span><span> </span><span style=\"background-color: #cdffd8\">the inputs for photosynthesis are sunlight, water and</span><span> </span><span>carbon</span><span> </span><span style=\"background-color: #cdffd8\">dioxide. The outputs are</span><span> </span><span>glucose which</span><span> </span><span style=\"background-color: #cdffd8\">feeds the plant, and oxygen which is released</span><span> </span><span>into the atmosphere.</span><span> </span><span style=\"background-color: #cdffd8\">Photosynthesis is vital</span><span> </span><span>for life on Earth</span><span> </span><span style=\"background-color: #cdffd8\">as it produces</span><span> </span><span>the oxygen we breathe and</span><span> </span><span style=\"background-color: #cdffd8\">forms</span><span> </span><span>the foundation of</span><span> </span><span style=\"background-color: #cdffd8\">most</span><span> </span><span>food chains.</span>\n",
              "                </div>\n",
              "            </div>\n",
              "        </div>\n",
              "        "
            ]
          },
          "metadata": {}
        }
      ]
    },
    {
      "cell_type": "code",
      "source": [
        "# Show diffs for specific experiments\n",
        "display_experiment_diffs(experiments, experiment_idx=[0, 2], variation_type=\"all_caps\")"
      ],
      "metadata": {
        "colab": {
          "base_uri": "https://localhost:8080/",
          "height": 1000
        },
        "id": "YC_fXrBgayfy",
        "outputId": "233d0223-8431-4be2-d1cd-b9cf83822d26"
      },
      "execution_count": 7,
      "outputs": [
        {
          "output_type": "display_data",
          "data": {
            "text/plain": [
              "<IPython.core.display.HTML object>"
            ],
            "text/html": [
              "\n",
              "        <div style=\"margin: 20px 0; padding: 10px; background-color: #f6f8fa; border-radius: 4px;\">\n",
              "            <strong>Experiment 0</strong><br>\n",
              "            Base Prompt: Explain how photosynthesis works\n",
              "        </div>\n",
              "        "
            ]
          },
          "metadata": {}
        },
        {
          "output_type": "display_data",
          "data": {
            "text/plain": [
              "<IPython.core.display.HTML object>"
            ],
            "text/html": [
              "\n",
              "        <div style=\"font-family: monospace; white-space: pre-wrap;\">\n",
              "            <div style=\"margin-bottom: 10px;\">\n",
              "                <div style=\"color: #666; margin-bottom: 3px;\">- Original (original): Explain how photosynthesis works</div>\n",
              "                <div style=\"border: 1px solid #d0d7de; padding: 8px; border-radius: 4px;\">\n",
              "                    <span>Photosynthesis is the process by which plants use sunlight, water and carbon dioxide to create oxygen and energy in the form of sugar. \n",
              " \n",
              " Here's a simple step-by-step of how</span><span> </span><span style=\"background-color: #ffdce0\">photosynthesis</span><span> </span><span>works: \n",
              " \n",
              " 1. The</span><span> </span><span style=\"background-color: #ffdce0\">leaves of a</span><span> </span><span>plant</span><span> </span><span style=\"background-color: #ffdce0\">absorb sunlight. Within the leaves are chloroplasts which contain a</span><span> </span><span>green pigment</span><span> </span><span style=\"background-color: #ffdce0\">called chlorophyll. Chlorophyll is what allows plants to absorb energy from sunlight.</span><span> </span><span>\n",
              " \n",
              " 2.</span><span> </span><span style=\"background-color: #ffdce0\">At the same time,</span><span> </span><span>the roots</span><span> </span><span style=\"background-color: #ffdce0\">absorb water from the soil and this is transported to the leaves. \n",
              " \n",
              " 3. Carbon</span><span> </span><span>dioxide enters</span><span> </span><span style=\"background-color: #ffdce0\">the leaves</span><span> </span><span>through tiny</span><span> </span><span style=\"background-color: #ffdce0\">pores</span><span> </span><span>called stomata. \n",
              " \n",
              "</span><span> </span><span>4.</span><span> </span><span style=\"background-color: #ffdce0\">Using the energy</span><span> </span><span>from</span><span> </span><span style=\"background-color: #ffdce0\">sunlight, the chlorophyll</span><span> </span><span>combines</span><span> </span><span style=\"background-color: #ffdce0\">the water and</span><span> </span><span>carbon dioxide to</span><span> </span><span style=\"background-color: #ffdce0\">make</span><span> </span><span>glucose</span><span> </span><span style=\"background-color: #ffdce0\">(a type of sugar) and oxygen. \n",
              " \n",
              " 5.</span><span> </span><span>The</span><span> </span><span style=\"background-color: #ffdce0\">glucose is used by the plant as food</span><span> </span><span>for</span><span> </span><span style=\"background-color: #ffdce0\">energy and as a building block for growing. The oxygen is released from the leaves into the air.</span><span> </span><span>\n",
              " \n",
              " So in summary, plants take in</span><span> </span><span style=\"background-color: #ffdce0\">water, carbon dioxide and light energy,</span><span> </span><span>and through</span><span> </span><span style=\"background-color: #ffdce0\">a chemical reaction, produce glucose which they use for food, as well as</span><span> </span><span>oxygen</span><span> </span><span style=\"background-color: #ffdce0\">which they release into the atmosphere. This is why plants are so important for</span><span> </span><span>life on</span><span> </span><span style=\"background-color: #ffdce0\">Earth - they provide the oxygen we breathe and form the foundation of many food chains.</span>\n",
              "                </div>\n",
              "            </div>\n",
              "            <div>\n",
              "                <div style=\"color: #666; margin-bottom: 3px;\">+ Modified (all_caps): EXPLAIN HOW PHOTOSYNTHESIS WORKS</div>\n",
              "                <div style=\"border: 1px solid #d0d7de; padding: 8px; border-radius: 4px;\">\n",
              "                    <span>Photosynthesis is the process by which plants use sunlight, water and carbon dioxide to create oxygen and energy in the form of sugar. \n",
              " \n",
              " Here's a simple step-by-step of how</span><span> </span><span style=\"background-color: #cdffd8\">it</span><span> </span><span>works: \n",
              " \n",
              " 1. The</span><span> </span><span>plant</span><span> </span><span style=\"background-color: #cdffd8\">absorbs light energy from the sun. Chlorophyll, the</span><span> </span><span>green pigment</span><span> </span><span style=\"background-color: #cdffd8\">in leaves, captures this light energy.</span><span> </span><span>\n",
              " \n",
              " 2.</span><span> </span><span style=\"background-color: #cdffd8\">Inside the leaf are water and carbon dioxide. Water is absorbed by</span><span> </span><span>the roots</span><span> </span><span style=\"background-color: #cdffd8\">and carbon</span><span> </span><span>dioxide enters</span><span> </span><span>through tiny</span><span> </span><span style=\"background-color: #cdffd8\">holes in the leaf</span><span> </span><span>called stomata. \n",
              " \n",
              "</span><span> </span><span style=\"background-color: #cdffd8\">3. Light energy is used to split water molecules into hydrogen and oxygen. Oxygen is released from the leaves into the atmosphere. \n",
              " \n",
              "</span><span> </span><span>4.</span><span> </span><span style=\"background-color: #cdffd8\">The hydrogen</span><span> </span><span>from</span><span> </span><span style=\"background-color: #cdffd8\">water</span><span> </span><span>combines</span><span> </span><span style=\"background-color: #cdffd8\">with</span><span> </span><span>carbon dioxide to</span><span> </span><span style=\"background-color: #cdffd8\">create glucose, a sugar that the plant uses for energy. This chemical reaction is called carbon fixation. \n",
              " \n",
              " 5. Some of the</span><span> </span><span>glucose</span><span> </span><span style=\"background-color: #cdffd8\">is used immediately by the plant for energy.</span><span> </span><span>The</span><span> </span><span style=\"background-color: #cdffd8\">excess is turned into starch and stored</span><span> </span><span>for</span><span> </span><span style=\"background-color: #cdffd8\">later use.</span><span> </span><span>\n",
              " \n",
              " So in summary, plants take in</span><span> </span><span style=\"background-color: #cdffd8\">sunlight, water and CO2,</span><span> </span><span>and through</span><span> </span><span style=\"background-color: #cdffd8\">photosynthesis convert it into</span><span> </span><span>oxygen</span><span> </span><span style=\"background-color: #cdffd8\">that is released and sugars that feed the plant. It's an amazing process that sustains all</span><span> </span><span>life on</span><span> </span><span style=\"background-color: #cdffd8\">Earth! Let me know if you have any other questions.</span>\n",
              "                </div>\n",
              "            </div>\n",
              "        </div>\n",
              "        "
            ]
          },
          "metadata": {}
        },
        {
          "output_type": "display_data",
          "data": {
            "text/plain": [
              "<IPython.core.display.HTML object>"
            ],
            "text/html": [
              "\n",
              "        <div style=\"margin: 20px 0; padding: 10px; background-color: #f6f8fa; border-radius: 4px;\">\n",
              "            <strong>Experiment 2</strong><br>\n",
              "            Base Prompt: What are the key features of Python\n",
              "        </div>\n",
              "        "
            ]
          },
          "metadata": {}
        },
        {
          "output_type": "display_data",
          "data": {
            "text/plain": [
              "<IPython.core.display.HTML object>"
            ],
            "text/html": [
              "\n",
              "        <div style=\"font-family: monospace; white-space: pre-wrap;\">\n",
              "            <div style=\"margin-bottom: 10px;\">\n",
              "                <div style=\"color: #666; margin-bottom: 3px;\">- Original (original): What are the key features of Python</div>\n",
              "                <div style=\"border: 1px solid #d0d7de; padding: 8px; border-radius: 4px;\">\n",
              "                    <span>Some of the key features of Python include: \n",
              " \n",
              " 1. Easy to learn and read syntax - Python uses simple, English-like</span><span> </span><span style=\"background-color: #ffdce0\">syntax that is easy for beginners to pick up. The</span><span> </span><span>code</span><span> </span><span style=\"background-color: #ffdce0\">is</span><span> </span><span>very readable</span><span> </span><span style=\"background-color: #ffdce0\">compared to many other programming languages.</span><span> </span><span>\n",
              " \n",
              " 2. Interpreted language - Python code is executed line by line at</span><span> </span><span style=\"background-color: #ffdce0\">runtime by the interpreter. You don't need to compile the entire program first. This allows for faster development.</span><span> </span><span>\n",
              " \n",
              " 3. Dynamically typed - You don't need to declare variable types in Python. The interpreter infers types at</span><span> </span><span style=\"background-color: #ffdce0\">runtime.</span><span> </span><span>This makes</span><span> </span><span style=\"background-color: #ffdce0\">the code more concise. \n",
              " \n",
              " 4.</span><span> </span><span>Extensive standard library - Python comes with a large standard library</span><span> </span><span style=\"background-color: #ffdce0\">that supports many common programming tasks</span><span> </span><span>like</span><span> </span><span style=\"background-color: #ffdce0\">connecting to</span><span> </span><span>web</span><span> </span><span style=\"background-color: #ffdce0\">servers, reading and modifying files, and working with data. \n",
              " \n",
              " 5.</span><span> </span><span>Third party packages -</span><span> </span><span style=\"background-color: #ffdce0\">There is a rich</span><span> </span><span>ecosystem of</span><span> </span><span style=\"background-color: #ffdce0\">third-party Python</span><span> </span><span>packages available</span><span> </span><span style=\"background-color: #ffdce0\">that extend the language for specific domains like web development, data science, machine learning and more. \n",
              " \n",
              " 6.</span><span> </span><span>Portability - Python</span><span> </span><span style=\"background-color: #ffdce0\">programs</span><span> </span><span>can run on</span><span> </span><span style=\"background-color: #ffdce0\">many different computers and operating systems with little to no modifications required. \n",
              " \n",
              " 7. Supports multiple programming paradigms - Python supports procedural, object-oriented, and to some extent functional programming. This allows you to choose the paradigm that best fits the problem.</span><span> </span><span>\n",
              " \n",
              " These</span><span> </span><span style=\"background-color: #ffdce0\">are some of the key reasons Python has become one of the most popular programming languages in the world, used for everything</span><span> </span><span>from</span><span> </span><span>web development to data analysis</span><span> </span><span style=\"background-color: #ffdce0\">to DevOps.</span>\n",
              "                </div>\n",
              "            </div>\n",
              "            <div>\n",
              "                <div style=\"color: #666; margin-bottom: 3px;\">+ Modified (all_caps): WHAT ARE THE KEY FEATURES OF PYTHON</div>\n",
              "                <div style=\"border: 1px solid #d0d7de; padding: 8px; border-radius: 4px;\">\n",
              "                    <span>Some of the key features of Python include: \n",
              " \n",
              " 1. Easy to learn and read syntax - Python uses simple, English-like</span><span> </span><span style=\"background-color: #cdffd8\">keywords and has minimal punctuation, making the</span><span> </span><span>code</span><span> </span><span>very readable</span><span> </span><span style=\"background-color: #cdffd8\">even for beginners.</span><span> </span><span>\n",
              " \n",
              " 2. Interpreted language - Python code is executed line by line at</span><span> </span><span style=\"background-color: #cdffd8\">runtime, allowing for quick testing and iteration. There's no separate compilation step.</span><span> </span><span>\n",
              " \n",
              " 3. Dynamically typed - You don't need to declare variable types in Python. The interpreter infers types at</span><span> </span><span style=\"background-color: #cdffd8\">runtime based on the values assigned. \n",
              " \n",
              " 4. Multi-paradigm - Python supports multiple programming paradigms including procedural, object-oriented and functional styles.</span><span> </span><span>This makes</span><span> </span><span style=\"background-color: #cdffd8\">it very flexible. \n",
              " \n",
              " 5.</span><span> </span><span>Extensive standard library - Python comes with a large standard library</span><span> </span><span style=\"background-color: #cdffd8\">covering areas</span><span> </span><span>like</span><span> </span><span style=\"background-color: #cdffd8\">string processing,</span><span> </span><span>web</span><span> </span><span style=\"background-color: #cdffd8\">protocols, file I/O, etc. This reduces the need for external dependencies. \n",
              " \n",
              " 6.</span><span> </span><span>Third party packages -</span><span> </span><span style=\"background-color: #cdffd8\">Python has a huge</span><span> </span><span>ecosystem of</span><span> </span><span style=\"background-color: #cdffd8\">third party</span><span> </span><span>packages available</span><span> </span><span style=\"background-color: #cdffd8\">through the Python Package Index (PyPI). This allows extending Python's capabilities easily. \n",
              " \n",
              " 7. Automatic memory management - Python has automatic garbage collection to free up unused memory. Developers don't need to manage memory manually. \n",
              " \n",
              " 8.</span><span> </span><span>Portability - Python</span><span> </span><span style=\"background-color: #cdffd8\">code</span><span> </span><span>can run on</span><span> </span><span style=\"background-color: #cdffd8\">various platforms like Windows, Mac, Linux, etc without major modifications.</span><span> </span><span>\n",
              " \n",
              " These</span><span> </span><span style=\"background-color: #cdffd8\">features make Python a very beginner-friendly yet powerful language suitable for a wide variety of applications</span><span> </span><span>from</span><span> </span><span style=\"background-color: #cdffd8\">scripting to</span><span> </span><span>web development to data analysis</span><span> </span><span style=\"background-color: #cdffd8\">and more.</span>\n",
              "                </div>\n",
              "            </div>\n",
              "        </div>\n",
              "        "
            ]
          },
          "metadata": {}
        }
      ]
    },
    {
      "cell_type": "code",
      "source": [
        "# Show diffs for all experiments\n",
        "display_experiment_diffs(experiments, variation_type=\"double_space\")"
      ],
      "metadata": {
        "colab": {
          "base_uri": "https://localhost:8080/",
          "height": 1000
        },
        "id": "MAGJytp6a61R",
        "outputId": "a1a319b1-2ba2-43c3-f67a-849487d0bd5f"
      },
      "execution_count": 8,
      "outputs": [
        {
          "output_type": "display_data",
          "data": {
            "text/plain": [
              "<IPython.core.display.HTML object>"
            ],
            "text/html": [
              "\n",
              "        <div style=\"margin: 20px 0; padding: 10px; background-color: #f6f8fa; border-radius: 4px;\">\n",
              "            <strong>Experiment 0</strong><br>\n",
              "            Base Prompt: Explain how photosynthesis works\n",
              "        </div>\n",
              "        "
            ]
          },
          "metadata": {}
        },
        {
          "output_type": "display_data",
          "data": {
            "text/plain": [
              "<IPython.core.display.HTML object>"
            ],
            "text/html": [
              "\n",
              "        <div style=\"font-family: monospace; white-space: pre-wrap;\">\n",
              "            <div style=\"margin-bottom: 10px;\">\n",
              "                <div style=\"color: #666; margin-bottom: 3px;\">- Original (original): Explain how photosynthesis works</div>\n",
              "                <div style=\"border: 1px solid #d0d7de; padding: 8px; border-radius: 4px;\">\n",
              "                    <span>Photosynthesis is the process by which plants use sunlight, water and carbon dioxide to create oxygen and energy in the form of sugar. \n",
              " \n",
              " Here's a simple step-by-step of how photosynthesis works: \n",
              " \n",
              " 1. The leaves of a plant absorb sunlight. Within the leaves are chloroplasts which contain a green pigment called chlorophyll. Chlorophyll is what allows plants to absorb energy from</span><span> </span><span style=\"background-color: #ffdce0\">sunlight.</span><span> </span><span>\n",
              " \n",
              " 2. At the same time, the roots absorb water from the soil and this is transported to the leaves. \n",
              " \n",
              " 3. Carbon dioxide enters the leaves through tiny pores called stomata. \n",
              " \n",
              " 4. Using the energy from sunlight, the chlorophyll combines the water and carbon dioxide to make glucose (a type of sugar) and oxygen. \n",
              " \n",
              " 5. The glucose is used by the plant as food for energy and as a building block for growing. The oxygen is released</span><span> </span><span style=\"background-color: #ffdce0\">from the leaves</span><span> </span><span>into the air. \n",
              " \n",
              " So in summary,</span><span> </span><span style=\"background-color: #ffdce0\">plants take in water,</span><span> </span><span>carbon</span><span> </span><span style=\"background-color: #ffdce0\">dioxide and light energy, and through a chemical reaction, produce</span><span> </span><span>glucose which</span><span> </span><span style=\"background-color: #ffdce0\">they use for food, as well as oxygen which they release</span><span> </span><span>into the atmosphere.</span><span> </span><span style=\"background-color: #ffdce0\">This is why plants are so important</span><span> </span><span>for life on Earth</span><span> </span><span style=\"background-color: #ffdce0\">- they provide</span><span> </span><span>the oxygen we breathe and</span><span> </span><span style=\"background-color: #ffdce0\">form</span><span> </span><span>the foundation of</span><span> </span><span style=\"background-color: #ffdce0\">many</span><span> </span><span>food chains.</span>\n",
              "                </div>\n",
              "            </div>\n",
              "            <div>\n",
              "                <div style=\"color: #666; margin-bottom: 3px;\">+ Modified (double_space): Explain  how  photosynthesis  works</div>\n",
              "                <div style=\"border: 1px solid #d0d7de; padding: 8px; border-radius: 4px;\">\n",
              "                    <span>Photosynthesis is the process by which plants use sunlight, water and carbon dioxide to create oxygen and energy in the form of sugar. \n",
              " \n",
              " Here's a simple step-by-step of how photosynthesis works: \n",
              " \n",
              " 1. The leaves of a plant absorb sunlight. Within the leaves are chloroplasts which contain a green pigment called chlorophyll. Chlorophyll is what allows plants to absorb energy from</span><span> </span><span style=\"background-color: #cdffd8\">light.</span><span> </span><span>\n",
              " \n",
              " 2. At the same time, the roots absorb water from the soil and this is transported to the leaves. \n",
              " \n",
              " 3. Carbon dioxide enters the leaves through tiny pores called stomata. \n",
              " \n",
              " 4. Using the energy from sunlight, the chlorophyll combines the water and carbon dioxide to make glucose (a type of sugar) and oxygen. \n",
              " \n",
              " 5. The glucose is used by the plant as food for energy and as a building block for growing. The oxygen is released</span><span> </span><span>into the air. \n",
              " \n",
              " So in summary,</span><span> </span><span style=\"background-color: #cdffd8\">the inputs for photosynthesis are sunlight, water and</span><span> </span><span>carbon</span><span> </span><span style=\"background-color: #cdffd8\">dioxide. The outputs are</span><span> </span><span>glucose which</span><span> </span><span style=\"background-color: #cdffd8\">feeds the plant, and oxygen which is released</span><span> </span><span>into the atmosphere.</span><span> </span><span style=\"background-color: #cdffd8\">Photosynthesis is a key process</span><span> </span><span>for life on Earth</span><span> </span><span style=\"background-color: #cdffd8\">as it generates</span><span> </span><span>the oxygen we breathe and</span><span> </span><span style=\"background-color: #cdffd8\">forms</span><span> </span><span>the foundation of</span><span> </span><span style=\"background-color: #cdffd8\">most</span><span> </span><span>food chains.</span>\n",
              "                </div>\n",
              "            </div>\n",
              "        </div>\n",
              "        "
            ]
          },
          "metadata": {}
        },
        {
          "output_type": "display_data",
          "data": {
            "text/plain": [
              "<IPython.core.display.HTML object>"
            ],
            "text/html": [
              "\n",
              "        <div style=\"margin: 20px 0; padding: 10px; background-color: #f6f8fa; border-radius: 4px;\">\n",
              "            <strong>Experiment 1</strong><br>\n",
              "            Base Prompt: Write a short poem about the moon\n",
              "        </div>\n",
              "        "
            ]
          },
          "metadata": {}
        },
        {
          "output_type": "display_data",
          "data": {
            "text/plain": [
              "<IPython.core.display.HTML object>"
            ],
            "text/html": [
              "\n",
              "        <div style=\"font-family: monospace; white-space: pre-wrap;\">\n",
              "            <div style=\"margin-bottom: 10px;\">\n",
              "                <div style=\"color: #666; margin-bottom: 3px;\">- Original (original): Write a short poem about the moon</div>\n",
              "                <div style=\"border: 1px solid #d0d7de; padding: 8px; border-radius: 4px;\">\n",
              "                    <span>Luminous orb in darkened skies, \n",
              " Casting light on sleepy eyes. \n",
              " Waxing, waning, ever changing, \n",
              " Celestial beauty, so engaging. \n",
              " Guiding</span><span> </span><span style=\"background-color: #ffdce0\">beacon, shining bright,</span><span> </span><span>\n",
              "</span><span> </span><span style=\"background-color: #ffdce0\">Gentle guardian of the night.</span>\n",
              "                </div>\n",
              "            </div>\n",
              "            <div>\n",
              "                <div style=\"color: #666; margin-bottom: 3px;\">+ Modified (double_space): Write  a  short  poem  about  the  moon</div>\n",
              "                <div style=\"border: 1px solid #d0d7de; padding: 8px; border-radius: 4px;\">\n",
              "                    <span>Luminous orb in darkened skies, \n",
              " Casting light on sleepy eyes. \n",
              " Waxing, waning, ever changing, \n",
              " Celestial beauty, so engaging. \n",
              " Guiding</span><span> </span><span style=\"background-color: #cdffd8\">lost souls through the night,</span><span> </span><span>\n",
              "</span><span> </span><span style=\"background-color: #cdffd8\">Faithful friend, a wondrous sight. \n",
              " Mysteries held in your pale glow, \n",
              " Lunar secrets we yearn to know.</span>\n",
              "                </div>\n",
              "            </div>\n",
              "        </div>\n",
              "        "
            ]
          },
          "metadata": {}
        },
        {
          "output_type": "display_data",
          "data": {
            "text/plain": [
              "<IPython.core.display.HTML object>"
            ],
            "text/html": [
              "\n",
              "        <div style=\"margin: 20px 0; padding: 10px; background-color: #f6f8fa; border-radius: 4px;\">\n",
              "            <strong>Experiment 2</strong><br>\n",
              "            Base Prompt: What are the key features of Python\n",
              "        </div>\n",
              "        "
            ]
          },
          "metadata": {}
        },
        {
          "output_type": "display_data",
          "data": {
            "text/plain": [
              "<IPython.core.display.HTML object>"
            ],
            "text/html": [
              "\n",
              "        <div style=\"font-family: monospace; white-space: pre-wrap;\">\n",
              "            <div style=\"margin-bottom: 10px;\">\n",
              "                <div style=\"color: #666; margin-bottom: 3px;\">- Original (original): What are the key features of Python</div>\n",
              "                <div style=\"border: 1px solid #d0d7de; padding: 8px; border-radius: 4px;\">\n",
              "                    <span>Some of the key features of Python include: \n",
              " \n",
              " 1. Easy to learn and read syntax - Python uses</span><span> </span><span style=\"background-color: #ffdce0\">simple, English-like</span><span> </span><span>syntax that is easy for beginners to pick up. The code is</span><span> </span><span style=\"background-color: #ffdce0\">very readable compared to many other programming languages.</span><span> </span><span>\n",
              " \n",
              " 2. Interpreted language - Python code is executed line by line at runtime by the interpreter.</span><span> </span><span style=\"background-color: #ffdce0\">You don't need to compile the entire program first. This allows for faster development.</span><span> </span><span>\n",
              " \n",
              " 3. Dynamically typed - You don't need to declare variable types in Python. The interpreter infers types at runtime.</span><span> </span><span style=\"background-color: #ffdce0\">This makes the code more concise.</span><span> </span><span>\n",
              " \n",
              " 4. Extensive standard library - Python comes with a large standard library that supports many common programming</span><span> </span><span style=\"background-color: #ffdce0\">tasks like connecting to web servers, reading and modifying files, and working with data.</span><span> </span><span>\n",
              " \n",
              " 5. Third party packages - There is a</span><span> </span><span style=\"background-color: #ffdce0\">rich</span><span> </span><span>ecosystem of</span><span> </span><span style=\"background-color: #ffdce0\">third-party Python packages</span><span> </span><span>available</span><span> </span><span style=\"background-color: #ffdce0\">that extend the language for specific domains like</span><span> </span><span>web development, data science,</span><span> </span><span style=\"background-color: #ffdce0\">machine learning</span><span> </span><span>and more. \n",
              " \n",
              "</span><span> </span><span style=\"background-color: #ffdce0\">6. Portability - Python programs can run on many different computers and operating systems with little to no modifications required. \n",
              " \n",
              " 7. Supports multiple programming paradigms - Python supports procedural, object-oriented, and to some extent functional programming. This allows</span><span> </span><span>you</span><span> </span><span style=\"background-color: #ffdce0\">to choose the paradigm that best fits the problem. \n",
              " \n",
              " These are some of the key reasons Python has become one of the most popular programming languages in the world, used for everything from web development to data analysis to DevOps.</span>\n",
              "                </div>\n",
              "            </div>\n",
              "            <div>\n",
              "                <div style=\"color: #666; margin-bottom: 3px;\">+ Modified (double_space): What  are  the  key  features  of  Python</div>\n",
              "                <div style=\"border: 1px solid #d0d7de; padding: 8px; border-radius: 4px;\">\n",
              "                    <span>Some of the key features of Python include: \n",
              " \n",
              " 1. Easy to learn and read syntax - Python uses</span><span> </span><span style=\"background-color: #cdffd8\">a clean and straightforward</span><span> </span><span>syntax that is easy for beginners to pick up. The code is</span><span> </span><span style=\"background-color: #cdffd8\">highly readable.</span><span> </span><span>\n",
              " \n",
              " 2. Interpreted language - Python code is executed line by line at runtime by the interpreter.</span><span> </span><span style=\"background-color: #cdffd8\">There is no separate compilation step.</span><span> </span><span>\n",
              " \n",
              " 3. Dynamically typed - You don't need to declare variable types in Python. The interpreter infers types at runtime.</span><span> </span><span>\n",
              " \n",
              " 4. Extensive standard library - Python comes with a large standard library that supports many common programming</span><span> </span><span style=\"background-color: #cdffd8\">tasks.</span><span> </span><span>\n",
              " \n",
              " 5. Third party packages - There is a</span><span> </span><span style=\"background-color: #cdffd8\">huge</span><span> </span><span>ecosystem of</span><span> </span><span style=\"background-color: #cdffd8\">open source third party libraries</span><span> </span><span>available</span><span> </span><span style=\"background-color: #cdffd8\">for Python via the Python Package Index (PyPI). \n",
              " \n",
              " 6. Automatic memory management - Python automatically handles memory management and garbage collection for you. \n",
              " \n",
              " 7. Object-oriented - Python supports object-oriented programming with classes, inheritance, etc. But it doesn't force an OOP paradigm. \n",
              " \n",
              " 8. Supports multiple programming paradigms - In addition to OOP, Python enables procedural and functional programming styles. \n",
              " \n",
              " 9. Highly extensible - Python can be extended with modules written in C/C++ for performance-critical code. \n",
              " \n",
              " 10. Widely used - Python is one of the most popular programming languages in the world, used for</span><span> </span><span>web development, data science,</span><span> </span><span style=\"background-color: #cdffd8\">scripting</span><span> </span><span>and more. \n",
              " \n",
              "</span><span> </span><span style=\"background-color: #cdffd8\">So in summary, Python combines simplicity with power, making it a great language for beginners and experts alike. Let me know if</span><span> </span><span>you</span><span> </span><span style=\"background-color: #cdffd8\">have any other questions!</span>\n",
              "                </div>\n",
              "            </div>\n",
              "        </div>\n",
              "        "
            ]
          },
          "metadata": {}
        },
        {
          "output_type": "display_data",
          "data": {
            "text/plain": [
              "<IPython.core.display.HTML object>"
            ],
            "text/html": [
              "\n",
              "        <div style=\"margin: 20px 0; padding: 10px; background-color: #f6f8fa; border-radius: 4px;\">\n",
              "            <strong>Experiment 3</strong><br>\n",
              "            Base Prompt: Summarize\n",
              "        </div>\n",
              "        "
            ]
          },
          "metadata": {}
        },
        {
          "output_type": "display_data",
          "data": {
            "text/plain": [
              "<IPython.core.display.HTML object>"
            ],
            "text/html": [
              "\n",
              "        <div style=\"font-family: monospace; white-space: pre-wrap;\">\n",
              "            <div style=\"margin-bottom: 10px;\">\n",
              "                <div style=\"color: #666; margin-bottom: 3px;\">- Original (original): Summarize</div>\n",
              "                <div style=\"border: 1px solid #d0d7de; padding: 8px; border-radius: 4px;\">\n",
              "                    <span>To summarize a complex research paper into key points: \n",
              " \n",
              " 1. Read through the entire paper to get a high-level understanding of the content and main ideas. Take notes on the key sections like the abstract, introduction, results, and conclusion. \n",
              " \n",
              " 2. Identify the main research question, hypothesis, or objective of the paper. This is usually stated in the introduction. \n",
              " \n",
              " 3. Note the key methods used to conduct the research, such as experiments, surveys, data analysis techniques, etc. Briefly describe the approach. \n",
              " \n",
              " 4. Highlight the most important findings and results of the research. Look for data, statistics, trends and outcomes that directly address the main research question. \n",
              " \n",
              " 5. Capture the main conclusions and implications discussed by the authors. What insights were gained and how do the results contribute to the field? \n",
              " \n",
              " 6. If applicable, note any limitations of the study and future research directions suggested by the authors. \n",
              " \n",
              " 7. Distill the above information into a concise set of key bullet points that convey the essential elements of the paper. Aim for around 5-7 main points. \n",
              " \n",
              " By following this approach, you can effectively condense a complex research paper down to its core ideas and takeaways. Let me know if you need any other assistance!</span>\n",
              "                </div>\n",
              "            </div>\n",
              "            <div>\n",
              "                <div style=\"color: #666; margin-bottom: 3px;\">+ Modified (double_space): Summarize</div>\n",
              "                <div style=\"border: 1px solid #d0d7de; padding: 8px; border-radius: 4px;\">\n",
              "                    <span>To summarize a complex research paper into key points: \n",
              " \n",
              " 1. Read through the entire paper to get a high-level understanding of the content and main ideas. Take notes on the key sections like the abstract, introduction, results, and conclusion. \n",
              " \n",
              " 2. Identify the main research question, hypothesis, or objective of the paper. This is usually stated in the introduction. \n",
              " \n",
              " 3. Note the key methods used to conduct the research, such as experiments, surveys, data analysis techniques, etc. Briefly describe the approach. \n",
              " \n",
              " 4. Highlight the most important findings and results of the research. Look for data, statistics, trends and outcomes that directly address the main research question. \n",
              " \n",
              " 5. Capture the main conclusions and implications discussed by the authors. What insights were gained and how do the results contribute to the field? \n",
              " \n",
              " 6. If applicable, note any limitations of the study and future research directions suggested by the authors. \n",
              " \n",
              " 7. Distill the above information into a concise set of key bullet points that convey the essential elements of the paper. Aim for around 5-7 main points. \n",
              " \n",
              " By following this approach, you can effectively condense a complex research paper down to its core ideas and takeaways. Let me know if you need any other assistance!</span>\n",
              "                </div>\n",
              "            </div>\n",
              "        </div>\n",
              "        "
            ]
          },
          "metadata": {}
        },
        {
          "output_type": "display_data",
          "data": {
            "text/plain": [
              "<IPython.core.display.HTML object>"
            ],
            "text/html": [
              "\n",
              "        <div style=\"margin: 20px 0; padding: 10px; background-color: #f6f8fa; border-radius: 4px;\">\n",
              "            <strong>Experiment 4</strong><br>\n",
              "            Base Prompt: Explain the difference between mitochondrial DNA and nuclear DNA\n",
              "        </div>\n",
              "        "
            ]
          },
          "metadata": {}
        },
        {
          "output_type": "display_data",
          "data": {
            "text/plain": [
              "<IPython.core.display.HTML object>"
            ],
            "text/html": [
              "\n",
              "        <div style=\"font-family: monospace; white-space: pre-wrap;\">\n",
              "            <div style=\"margin-bottom: 10px;\">\n",
              "                <div style=\"color: #666; margin-bottom: 3px;\">- Original (original): Explain the difference between mitochondrial DNA and nuclear DNA</div>\n",
              "                <div style=\"border: 1px solid #d0d7de; padding: 8px; border-radius: 4px;\">\n",
              "                    <span>There are a few key differences between mitochondrial DNA (mtDNA) and nuclear DNA (nDNA): \n",
              " \n",
              "</span><span> </span><span>Location:</span><span> </span><span style=\"background-color: #ffdce0\">\n",
              " -</span><span> </span><span>mtDNA is found in the mitochondria, the cell's energy-producing</span><span> </span><span style=\"background-color: #ffdce0\">organelles</span><span> </span><span>located in the</span><span> </span><span style=\"background-color: #ffdce0\">cytoplasm \n",
              " - nDNA is found in the</span><span> </span><span>nucleus of the</span><span> </span><span style=\"background-color: #ffdce0\">cell \n",
              " \n",
              "</span><span> </span><span>Inheritance:</span><span> </span><span style=\"background-color: #ffdce0\">\n",
              " - mtDNA is only</span><span> </span><span>inherited</span><span> </span><span>from the mother, as the mitochondria in sperm cells are usually destroyed after</span><span> </span><span style=\"background-color: #ffdce0\">fertilization \n",
              " -</span><span> </span><span>nDNA is inherited from both parents, with half coming from the mother and half from the</span><span> </span><span style=\"background-color: #ffdce0\">father \n",
              " \n",
              "</span><span> </span><span>Amount:</span><span> </span><span style=\"background-color: #ffdce0\">\n",
              " -</span><span> </span><span>There are hundreds to thousands of mitochondria per cell,</span><span> </span><span>each</span><span> </span><span style=\"background-color: #ffdce0\">containing</span><span> </span><span>several copies of</span><span> </span><span style=\"background-color: #ffdce0\">mtDNA \n",
              " - There</span><span> </span><span>are only two copies of nDNA</span><span> </span><span style=\"background-color: #ffdce0\">in</span><span> </span><span>each</span><span> </span><span style=\"background-color: #ffdce0\">cell</span><span> </span><span>nucleus</span><span> </span><span style=\"background-color: #ffdce0\">- one from</span><span> </span><span>each</span><span> </span><span style=\"background-color: #ffdce0\">parent \n",
              " \n",
              "</span><span> </span><span>Genes:</span><span> </span><span style=\"background-color: #ffdce0\">\n",
              " -</span><span> </span><span>mtDNA contains</span><span> </span><span>37 genes, all</span><span> </span><span style=\"background-color: #ffdce0\">involved in energy production \n",
              " -</span><span> </span><span>nDNA contains</span><span> </span><span style=\"background-color: #ffdce0\">around 20,000-25,000</span><span> </span><span>genes that code for</span><span> </span><span style=\"background-color: #ffdce0\">all the</span><span> </span><span>proteins</span><span> </span><span style=\"background-color: #ffdce0\">needed by the cell \n",
              " \n",
              "</span><span> </span><span>Mutation rate:</span><span> </span><span style=\"background-color: #ffdce0\">\n",
              " -</span><span> </span><span>mtDNA has a</span><span> </span><span>higher mutation rate than</span><span> </span><span style=\"background-color: #ffdce0\">nDNA \n",
              " - Mutations in mtDNA can lead</span><span> </span><span>to</span><span> </span><span style=\"background-color: #ffdce0\">mitochondrial disorders \n",
              " \n",
              " So in summary, the key</span><span> </span><span>differences</span><span> </span><span style=\"background-color: #ffdce0\">are in their location in the cell, mode of inheritance, number of copies per cell, the genes they contain, and their mutation rates. Both are</span><span> </span><span>important for</span><span> </span><span style=\"background-color: #ffdce0\">proper cell function, but mtDNA is specialized for energy production.</span>\n",
              "                </div>\n",
              "            </div>\n",
              "            <div>\n",
              "                <div style=\"color: #666; margin-bottom: 3px;\">+ Modified (double_space): Explain  the  difference  between  mitochondrial  DNA  and  nuclear  DNA</div>\n",
              "                <div style=\"border: 1px solid #d0d7de; padding: 8px; border-radius: 4px;\">\n",
              "                    <span>There are a few key differences between mitochondrial DNA (mtDNA) and nuclear DNA (nDNA): \n",
              " \n",
              "</span><span> </span><span style=\"background-color: #cdffd8\">1.</span><span> </span><span>Location:</span><span> </span><span>mtDNA is found in the mitochondria, the cell's energy-producing</span><span> </span><span style=\"background-color: #cdffd8\">organelles, while nDNA is</span><span> </span><span>located in the</span><span> </span><span>nucleus of the</span><span> </span><span style=\"background-color: #cdffd8\">cell. \n",
              " \n",
              " 2.</span><span> </span><span>Inheritance:</span><span> </span><span style=\"background-color: #cdffd8\">mtDNA is</span><span> </span><span>inherited</span><span> </span><span style=\"background-color: #cdffd8\">exclusively</span><span> </span><span>from the mother, as the mitochondria in sperm cells are usually destroyed after</span><span> </span><span style=\"background-color: #cdffd8\">fertilization. In contrast,</span><span> </span><span>nDNA is inherited from both parents, with half coming from the mother and half from the</span><span> </span><span style=\"background-color: #cdffd8\">father. \n",
              " \n",
              " 3.</span><span> </span><span>Amount:</span><span> </span><span>There are hundreds to thousands of mitochondria per cell,</span><span> </span><span style=\"background-color: #cdffd8\">and</span><span> </span><span>each</span><span> </span><span style=\"background-color: #cdffd8\">mitochondrion contains</span><span> </span><span>several copies of</span><span> </span><span style=\"background-color: #cdffd8\">mtDNA. In comparison, there</span><span> </span><span>are only two copies of nDNA</span><span> </span><span style=\"background-color: #cdffd8\">(one from</span><span> </span><span>each</span><span> </span><span style=\"background-color: #cdffd8\">parent) in the</span><span> </span><span>nucleus</span><span> </span><span style=\"background-color: #cdffd8\">of</span><span> </span><span>each</span><span> </span><span style=\"background-color: #cdffd8\">cell. \n",
              " \n",
              " 4.</span><span> </span><span>Genes:</span><span> </span><span>mtDNA contains</span><span> </span><span style=\"background-color: #cdffd8\">only</span><span> </span><span>37 genes, all</span><span> </span><span style=\"background-color: #cdffd8\">of which are essential for the function of the mitochondria.</span><span> </span><span>nDNA contains</span><span> </span><span style=\"background-color: #cdffd8\">thousands of</span><span> </span><span>genes that code for</span><span> </span><span style=\"background-color: #cdffd8\">a wide variety of</span><span> </span><span>proteins</span><span> </span><span style=\"background-color: #cdffd8\">with many different functions. \n",
              " \n",
              " 5.</span><span> </span><span>Mutation rate:</span><span> </span><span>mtDNA has a</span><span> </span><span style=\"background-color: #cdffd8\">much</span><span> </span><span>higher mutation rate than</span><span> </span><span style=\"background-color: #cdffd8\">nDNA. This is thought</span><span> </span><span>to</span><span> </span><span style=\"background-color: #cdffd8\">be because mtDNA lacks some of the repair mechanisms that protect nDNA from mutations. \n",
              " \n",
              " 6. Recombination: nDNA undergoes recombination during meiosis, shuffling genetic material between maternal and paternal chromosomes. mtDNA does not undergo recombination. \n",
              " \n",
              " Understanding these</span><span> </span><span>differences</span><span> </span><span style=\"background-color: #cdffd8\">is</span><span> </span><span>important for</span><span> </span><span style=\"background-color: #cdffd8\">genetic studies, as mtDNA and nDNA can provide different information about ancestry, inherited disorders, and other genetic traits.</span>\n",
              "                </div>\n",
              "            </div>\n",
              "        </div>\n",
              "        "
            ]
          },
          "metadata": {}
        },
        {
          "output_type": "display_data",
          "data": {
            "text/plain": [
              "<IPython.core.display.HTML object>"
            ],
            "text/html": [
              "\n",
              "        <div style=\"margin: 20px 0; padding: 10px; background-color: #f6f8fa; border-radius: 4px;\">\n",
              "            <strong>Experiment 5</strong><br>\n",
              "            Base Prompt: Design a database schema for a library management system\n",
              "        </div>\n",
              "        "
            ]
          },
          "metadata": {}
        },
        {
          "output_type": "display_data",
          "data": {
            "text/plain": [
              "<IPython.core.display.HTML object>"
            ],
            "text/html": [
              "\n",
              "        <div style=\"font-family: monospace; white-space: pre-wrap;\">\n",
              "            <div style=\"margin-bottom: 10px;\">\n",
              "                <div style=\"color: #666; margin-bottom: 3px;\">- Original (original): Design a database schema for a library management system</div>\n",
              "                <div style=\"border: 1px solid #d0d7de; padding: 8px; border-radius: 4px;\">\n",
              "                    <span style=\"background-color: #ffdce0\">Here is</span><span> </span><span>a suggested database schema for a library management system: \n",
              " \n",
              " ```sql \n",
              " CREATE TABLE</span><span> </span><span style=\"background-color: #ffdce0\">Book</span><span> </span><span>( \n",
              "</span><span> </span><span style=\"background-color: #ffdce0\">BookID</span><span> </span><span>INT PRIMARY KEY, \n",
              "</span><span> </span><span style=\"background-color: #ffdce0\">Title</span><span> </span><span>VARCHAR(255), \n",
              "</span><span> </span><span style=\"background-color: #ffdce0\">Author</span><span> </span><span>VARCHAR(255), \n",
              "</span><span> </span><span style=\"background-color: #ffdce0\">ISBN VARCHAR(13), \n",
              " PublicationYear INT, \n",
              " Publisher VARCHAR(255), \n",
              " NumCopies</span><span> </span><span>INT \n",
              " ); \n",
              " \n",
              " CREATE TABLE</span><span> </span><span style=\"background-color: #ffdce0\">Member</span><span> </span><span>( \n",
              "</span><span> </span><span style=\"background-color: #ffdce0\">MemberID</span><span> </span><span>INT PRIMARY KEY, \n",
              "</span><span> </span><span style=\"background-color: #ffdce0\">FirstName</span><span> </span><span>VARCHAR(255), \n",
              "</span><span> </span><span style=\"background-color: #ffdce0\">LastName VARCHAR(255), \n",
              " Email VARCHAR(255), \n",
              " Phone</span><span> </span><span>VARCHAR(20), \n",
              "</span><span> </span><span style=\"background-color: #ffdce0\">JoinDate</span><span> </span><span>DATE \n",
              " ); \n",
              " \n",
              " CREATE TABLE</span><span> </span><span style=\"background-color: #ffdce0\">Loan</span><span> </span><span>( \n",
              "</span><span> </span><span style=\"background-color: #ffdce0\">LoanID</span><span> </span><span>INT PRIMARY KEY, \n",
              "</span><span> </span><span style=\"background-color: #ffdce0\">BookID</span><span> </span><span>INT, \n",
              "</span><span> </span><span style=\"background-color: #ffdce0\">MemberID</span><span> </span><span>INT, \n",
              "</span><span> </span><span style=\"background-color: #ffdce0\">LoanDate</span><span> </span><span>DATE, \n",
              "</span><span> </span><span style=\"background-color: #ffdce0\">DueDate</span><span> </span><span>DATE, \n",
              "</span><span> </span><span style=\"background-color: #ffdce0\">ReturnedDate</span><span> </span><span>DATE, \n",
              " FOREIGN KEY</span><span> </span><span style=\"background-color: #ffdce0\">(BookID)</span><span> </span><span>REFERENCES</span><span> </span><span style=\"background-color: #ffdce0\">Book(BookID),</span><span> </span><span>\n",
              " FOREIGN KEY</span><span> </span><span style=\"background-color: #ffdce0\">(MemberID)</span><span> </span><span>REFERENCES</span><span> </span><span style=\"background-color: #ffdce0\">Member(MemberID)</span><span> </span><span>\n",
              " ); \n",
              " ``` \n",
              " \n",
              " The key tables are: \n",
              " \n",
              " 1.</span><span> </span><span style=\"background-color: #ffdce0\">Book</span><span> </span><span>- stores details about each book</span><span> </span><span style=\"background-color: #ffdce0\">including</span><span> </span><span>title, author, ISBN, publication year,</span><span> </span><span style=\"background-color: #ffdce0\">publisher and</span><span> </span><span>number of</span><span> </span><span style=\"background-color: #ffdce0\">copies.</span><span> </span><span>The primary key is</span><span> </span><span style=\"background-color: #ffdce0\">BookID.</span><span> </span><span>\n",
              " \n",
              " 2.</span><span> </span><span style=\"background-color: #ffdce0\">Member - stores</span><span> </span><span>information about library members</span><span> </span><span style=\"background-color: #ffdce0\">including</span><span> </span><span>name, contact</span><span> </span><span style=\"background-color: #ffdce0\">details</span><span> </span><span>and join date. The primary key is</span><span> </span><span style=\"background-color: #ffdce0\">MemberID.</span><span> </span><span>\n",
              " \n",
              " 3.</span><span> </span><span style=\"background-color: #ffdce0\">Loan</span><span> </span><span>- tracks book</span><span> </span><span style=\"background-color: #ffdce0\">loans, linking books to the members who borrowed them.</span><span> </span><span>It</span><span> </span><span style=\"background-color: #ffdce0\">records</span><span> </span><span>loan dates, due dates and return dates. The primary key is</span><span> </span><span style=\"background-color: #ffdce0\">LoanID, with</span><span> </span><span>foreign keys to</span><span> </span><span style=\"background-color: #ffdce0\">the Book and Member tables.</span><span> </span><span>\n",
              " \n",
              " Some other tables you may want to</span><span> </span><span style=\"background-color: #ffdce0\">add: \n",
              " \n",
              " - BookCategory -</span><span> </span><span>if</span><span> </span><span style=\"background-color: #ffdce0\">you want to categorize books by genre, subject etc \n",
              " - Fine - to track</span><span> </span><span>late</span><span> </span><span style=\"background-color: #ffdce0\">return fines owed by members \n",
              " - Reservation - to allow members to reserve books</span><span> </span><span>\n",
              " \n",
              " But this provides</span><span> </span><span>the core</span><span> </span><span style=\"background-color: #ffdce0\">schema to manage the library collection, members and circulation.</span><span> </span><span>Let me know if you have any other questions!</span>\n",
              "                </div>\n",
              "            </div>\n",
              "            <div>\n",
              "                <div style=\"color: #666; margin-bottom: 3px;\">+ Modified (double_space): Design  a  database  schema  for  a  library  management  system</div>\n",
              "                <div style=\"border: 1px solid #d0d7de; padding: 8px; border-radius: 4px;\">\n",
              "                    <span style=\"background-color: #cdffd8\">Here's</span><span> </span><span>a suggested database schema for a library management system: \n",
              " \n",
              " ```sql \n",
              " CREATE TABLE</span><span> </span><span style=\"background-color: #cdffd8\">books</span><span> </span><span>( \n",
              "</span><span> </span><span style=\"background-color: #cdffd8\">book_id</span><span> </span><span>INT PRIMARY KEY, \n",
              "</span><span> </span><span style=\"background-color: #cdffd8\">title VARCHAR(255) NOT NULL, \n",
              " author</span><span> </span><span>VARCHAR(255), \n",
              "</span><span> </span><span style=\"background-color: #cdffd8\">isbn VARCHAR(13), \n",
              " publication_year INT, \n",
              " publisher</span><span> </span><span>VARCHAR(255), \n",
              "</span><span> </span><span style=\"background-color: #cdffd8\">num_pages</span><span> </span><span>INT \n",
              " ); \n",
              " \n",
              " CREATE TABLE</span><span> </span><span style=\"background-color: #cdffd8\">members</span><span> </span><span>( \n",
              "</span><span> </span><span style=\"background-color: #cdffd8\">member_id</span><span> </span><span>INT PRIMARY KEY, \n",
              "</span><span> </span><span style=\"background-color: #cdffd8\">first_name VARCHAR(50) NOT NULL, \n",
              " last_name VARCHAR(50) NOT NULL, \n",
              " email</span><span> </span><span>VARCHAR(255), \n",
              "</span><span> </span><span style=\"background-color: #cdffd8\">phone</span><span> </span><span>VARCHAR(20), \n",
              "</span><span> </span><span style=\"background-color: #cdffd8\">join_date</span><span> </span><span>DATE \n",
              " ); \n",
              " \n",
              " CREATE TABLE</span><span> </span><span style=\"background-color: #cdffd8\">loans</span><span> </span><span>( \n",
              "</span><span> </span><span style=\"background-color: #cdffd8\">loan_id</span><span> </span><span>INT PRIMARY KEY, \n",
              "</span><span> </span><span style=\"background-color: #cdffd8\">book_id</span><span> </span><span>INT, \n",
              "</span><span> </span><span style=\"background-color: #cdffd8\">member_id</span><span> </span><span>INT, \n",
              "</span><span> </span><span style=\"background-color: #cdffd8\">loan_date</span><span> </span><span>DATE, \n",
              "</span><span> </span><span style=\"background-color: #cdffd8\">due_date</span><span> </span><span>DATE, \n",
              "</span><span> </span><span style=\"background-color: #cdffd8\">return_date</span><span> </span><span>DATE, \n",
              " FOREIGN KEY</span><span> </span><span style=\"background-color: #cdffd8\">(book_id)</span><span> </span><span>REFERENCES</span><span> </span><span style=\"background-color: #cdffd8\">books(book_id),</span><span> </span><span>\n",
              " FOREIGN KEY</span><span> </span><span style=\"background-color: #cdffd8\">(member_id)</span><span> </span><span>REFERENCES</span><span> </span><span style=\"background-color: #cdffd8\">members(member_id)</span><span> </span><span>\n",
              " ); \n",
              " ``` \n",
              " \n",
              " The key tables are: \n",
              " \n",
              " 1.</span><span> </span><span style=\"background-color: #cdffd8\">`books`</span><span> </span><span>- stores details about each book</span><span> </span><span style=\"background-color: #cdffd8\">like</span><span> </span><span>title, author, ISBN, publication year,</span><span> </span><span style=\"background-color: #cdffd8\">publisher,</span><span> </span><span>number of</span><span> </span><span style=\"background-color: #cdffd8\">pages.</span><span> </span><span>The primary key is</span><span> </span><span style=\"background-color: #cdffd8\">`book_id`.</span><span> </span><span>\n",
              " \n",
              " 2.</span><span> </span><span style=\"background-color: #cdffd8\">`members` - contains</span><span> </span><span>information about library members</span><span> </span><span style=\"background-color: #cdffd8\">such as</span><span> </span><span>name, contact</span><span> </span><span style=\"background-color: #cdffd8\">details,</span><span> </span><span>and join date. The primary key is</span><span> </span><span style=\"background-color: #cdffd8\">`member_id`.</span><span> </span><span>\n",
              " \n",
              " 3.</span><span> </span><span style=\"background-color: #cdffd8\">`loans`</span><span> </span><span>- tracks book</span><span> </span><span style=\"background-color: #cdffd8\">lending.</span><span> </span><span>It</span><span> </span><span style=\"background-color: #cdffd8\">links books to members, and captures</span><span> </span><span>loan dates, due dates and return dates. The primary key is</span><span> </span><span style=\"background-color: #cdffd8\">`loan_id` and it has</span><span> </span><span>foreign keys to</span><span> </span><span style=\"background-color: #cdffd8\">`book_id` and `member_id`.</span><span> </span><span>\n",
              " \n",
              " Some other tables you may want to</span><span> </span><span style=\"background-color: #cdffd8\">consider adding: \n",
              " \n",
              " - Categories/Genres to classify books \n",
              " - Reservation table</span><span> </span><span>if</span><span> </span><span style=\"background-color: #cdffd8\">members can reserve books \n",
              " - Fine/payment tables for</span><span> </span><span>late</span><span> </span><span style=\"background-color: #cdffd8\">returns \n",
              " - Staff table for library employees</span><span> </span><span>\n",
              " \n",
              " But this provides</span><span> </span><span style=\"background-color: #cdffd8\">a good starting normalized schema to build</span><span> </span><span>the core</span><span> </span><span style=\"background-color: #cdffd8\">functionality of a library management system around cataloging books, members, and lending.</span><span> </span><span>Let me know if you have any other questions!</span>\n",
              "                </div>\n",
              "            </div>\n",
              "        </div>\n",
              "        "
            ]
          },
          "metadata": {}
        },
        {
          "output_type": "display_data",
          "data": {
            "text/plain": [
              "<IPython.core.display.HTML object>"
            ],
            "text/html": [
              "\n",
              "        <div style=\"margin: 20px 0; padding: 10px; background-color: #f6f8fa; border-radius: 4px;\">\n",
              "            <strong>Experiment 6</strong><br>\n",
              "            Base Prompt: Debug why my SELECT query with JOIN is slow\n",
              "        </div>\n",
              "        "
            ]
          },
          "metadata": {}
        },
        {
          "output_type": "display_data",
          "data": {
            "text/plain": [
              "<IPython.core.display.HTML object>"
            ],
            "text/html": [
              "\n",
              "        <div style=\"font-family: monospace; white-space: pre-wrap;\">\n",
              "            <div style=\"margin-bottom: 10px;\">\n",
              "                <div style=\"color: #666; margin-bottom: 3px;\">- Original (original): Debug why my SELECT query with JOIN is slow</div>\n",
              "                <div style=\"border: 1px solid #d0d7de; padding: 8px; border-radius: 4px;\">\n",
              "                    <span>To debug why your SELECT query with JOIN is slow, here are</span><span> </span><span style=\"background-color: #ffdce0\">a few things to check:</span><span> </span><span>\n",
              " \n",
              " 1. Examine the query execution plan to see if indexes are being used effectively. Look for table scans or unoptimized joins. You</span><span> </span><span style=\"background-color: #ffdce0\">may need to add indexes on join columns or filter predicates.</span><span> </span><span>\n",
              " \n",
              " 2. Check the</span><span> </span><span style=\"background-color: #ffdce0\">cardinality estimates</span><span> </span><span>in</span><span> </span><span style=\"background-color: #ffdce0\">the plan. If estimates are way off from actual row counts, statistics may be out of date. Update stats on relevant tables.</span><span> </span><span>\n",
              " \n",
              " 3. Look at</span><span> </span><span style=\"background-color: #ffdce0\">I/O and CPU costs</span><span> </span><span>in the</span><span> </span><span style=\"background-color: #ffdce0\">plan. High costs could indicate insufficient memory leading to disk spills. Tune memory configuration if needed.</span><span> </span><span>\n",
              " \n",
              " 4.</span><span> </span><span style=\"background-color: #ffdce0\">Consider rewriting the query. Avoid SELECT *, specify only needed columns. Push predicates down to reduce rows flowing through joins. \n",
              " \n",
              " 5. For complex queries, break it into simpler steps using temp tables or CTEs. This makes it easier to optimize each part. \n",
              " \n",
              " 6. Capture actual runtime metrics using extended events or traces. This gives you details on wait types, I/O, and execution times to pinpoint bottlenecks. \n",
              " \n",
              " 7. Test alternative join orders, join algorithms (hash, merge, loop) and see if performance improves.</span><span> </span><span>The</span><span> </span><span>optimizer usually</span><span> </span><span style=\"background-color: #ffdce0\">gets it right</span><span> </span><span>but</span><span> </span><span style=\"background-color: #ffdce0\">not always. \n",
              " \n",
              " Let me know</span><span> </span><span>more</span><span> </span><span style=\"background-color: #ffdce0\">specifics about</span><span> </span><span>your</span><span> </span><span style=\"background-color: #ffdce0\">query</span><span> </span><span>and</span><span> </span><span style=\"background-color: #ffdce0\">execution plan, and I can provide more targeted advice to speed it up! Analyzing slow queries is an iterative process.</span>\n",
              "                </div>\n",
              "            </div>\n",
              "            <div>\n",
              "                <div style=\"color: #666; margin-bottom: 3px;\">+ Modified (double_space): Debug  why  my  SELECT  query  with  JOIN  is  slow</div>\n",
              "                <div style=\"border: 1px solid #d0d7de; padding: 8px; border-radius: 4px;\">\n",
              "                    <span>To debug why your SELECT query with JOIN is slow, here are</span><span> </span><span style=\"background-color: #cdffd8\">some steps to investigate:</span><span> </span><span>\n",
              " \n",
              " 1. Examine the query execution plan to see if indexes are being used effectively. Look for table scans or unoptimized joins. You</span><span> </span><span style=\"background-color: #cdffd8\">can use EXPLAIN or EXPLAIN ANALYZE to get the query plan.</span><span> </span><span>\n",
              " \n",
              " 2. Check the</span><span> </span><span style=\"background-color: #cdffd8\">join conditions to make sure you are joining on indexed columns. Joining on unindexed columns will result</span><span> </span><span>in</span><span> </span><span style=\"background-color: #cdffd8\">slow nested loop joins.</span><span> </span><span>\n",
              " \n",
              " 3. Look at</span><span> </span><span style=\"background-color: #cdffd8\">the number of rows being returned by each table</span><span> </span><span>in the</span><span> </span><span style=\"background-color: #cdffd8\">join. If one table is returning a large portion of its rows, consider adding a filter condition to reduce the result set.</span><span> </span><span>\n",
              " \n",
              " 4.</span><span> </span><span style=\"background-color: #cdffd8\">Inspect the JOIN order.</span><span> </span><span>The</span><span> </span><span style=\"background-color: #cdffd8\">query</span><span> </span><span>optimizer usually</span><span> </span><span style=\"background-color: #cdffd8\">picks the best join order</span><span> </span><span>but</span><span> </span><span style=\"background-color: #cdffd8\">in some cases you may need to rewrite the query to force a</span><span> </span><span>more</span><span> </span><span style=\"background-color: #cdffd8\">optimal join sequence, like filtering first before joining. \n",
              " \n",
              " 5. Check for any subqueries that could be rewritten as joins instead. Subqueries can sometimes prevent efficient execution plans. \n",
              " \n",
              " 6. Look for missing indexes on filter, join, order by or group by columns. Adding an index can dramatically speed up queries. \n",
              " \n",
              " 7. Consider denormalizing tables or using summary tables if joins are unavoidable and the query must be fast. \n",
              " \n",
              " 8. Monitor locking and blocking. Row or table locks from other sessions can block</span><span> </span><span>your</span><span> </span><span style=\"background-color: #cdffd8\">query. \n",
              " \n",
              " The key is to systematically analyze the query, join conditions, data distribution</span><span> </span><span>and</span><span> </span><span style=\"background-color: #cdffd8\">indexes to find the bottleneck. Query plan analysis is usually the best place to start to determine the cause of slowness.</span>\n",
              "                </div>\n",
              "            </div>\n",
              "        </div>\n",
              "        "
            ]
          },
          "metadata": {}
        }
      ]
    },
    {
      "cell_type": "code",
      "source": [
        "# You can also create a comparison matrix for a specific experiment\n",
        "def display_variation_matrix(\n",
        "    experiment: PromptExperiment,\n",
        "    variations: Optional[List[str]] = None\n",
        ") -> None:\n",
        "    \"\"\"\n",
        "    Display a matrix of diffs between selected variations for a single experiment.\n",
        "\n",
        "    Args:\n",
        "        experiment: PromptExperiment object to analyze\n",
        "        variations: List of variation types to compare (None for all available)\n",
        "    \"\"\"\n",
        "    # If no variations specified, get all unique variation types\n",
        "    if variations is None:\n",
        "        variations = list(set(r[\"variation_type\"] for r in experiment.results))\n",
        "\n",
        "    # Display matrix header\n",
        "    display(HTML(f'''\n",
        "    <div style=\"margin: 20px 0; padding: 10px; background-color: #f6f8fa; border-radius: 4px;\">\n",
        "        <strong>Variation Matrix</strong><br>\n",
        "        Base Prompt: {experiment.base_prompt}<br>\n",
        "        Comparing variations: {\", \".join(variations)}\n",
        "    </div>\n",
        "    '''))\n",
        "\n",
        "    # Display diffs for each variation\n",
        "    for var_type in variations:\n",
        "        if var_type != \"original\":  # Skip comparing original to itself\n",
        "            display(experiment.display_diff(var_type))"
      ],
      "metadata": {
        "id": "rcpWfp5Oar0B"
      },
      "execution_count": 9,
      "outputs": []
    },
    {
      "cell_type": "code",
      "source": [
        "# Example usage:\n",
        "# Show all variations for experiment 1\n",
        "display_variation_matrix(experiments[1])"
      ],
      "metadata": {
        "colab": {
          "base_uri": "https://localhost:8080/",
          "height": 1000
        },
        "id": "-wT2JKujVvV1",
        "outputId": "6a5001f9-f903-46d3-9ac9-f022238aacf2"
      },
      "execution_count": 10,
      "outputs": [
        {
          "output_type": "display_data",
          "data": {
            "text/plain": [
              "<IPython.core.display.HTML object>"
            ],
            "text/html": [
              "\n",
              "    <div style=\"margin: 20px 0; padding: 10px; background-color: #f6f8fa; border-radius: 4px;\">\n",
              "        <strong>Variation Matrix</strong><br>\n",
              "        Base Prompt: Write a short poem about the moon<br>\n",
              "        Comparing variations: add_period, no_spaces, original, extra_space_start, all_caps, extra_newline, all_lower, add_exclamation, double_space, extra_space_end, add_question\n",
              "    </div>\n",
              "    "
            ]
          },
          "metadata": {}
        },
        {
          "output_type": "display_data",
          "data": {
            "text/plain": [
              "<IPython.core.display.HTML object>"
            ],
            "text/html": [
              "\n",
              "        <div style=\"font-family: monospace; white-space: pre-wrap;\">\n",
              "            <div style=\"margin-bottom: 10px;\">\n",
              "                <div style=\"color: #666; margin-bottom: 3px;\">- Original (original): Write a short poem about the moon</div>\n",
              "                <div style=\"border: 1px solid #d0d7de; padding: 8px; border-radius: 4px;\">\n",
              "                    <span style=\"background-color: #ffdce0\">Luminous</span><span> </span><span>orb</span><span> </span><span style=\"background-color: #ffdce0\">in</span><span> </span><span>darkened</span><span> </span><span style=\"background-color: #ffdce0\">skies,</span><span> </span><span>\n",
              "</span><span> </span><span style=\"background-color: #ffdce0\">Casting light on sleepy eyes.</span><span> </span><span>\n",
              "</span><span> </span><span style=\"background-color: #ffdce0\">Waxing, waning,</span><span> </span><span>ever</span><span> </span><span style=\"background-color: #ffdce0\">changing, \n",
              " Celestial beauty, so engaging. \n",
              " Guiding beacon, shining</span><span> </span><span>bright, \n",
              "</span><span> </span><span style=\"background-color: #ffdce0\">Gentle guardian of the</span><span> </span><span>night.</span>\n",
              "                </div>\n",
              "            </div>\n",
              "            <div>\n",
              "                <div style=\"color: #666; margin-bottom: 3px;\">+ Modified (add_period): Write a short poem about the moon.</div>\n",
              "                <div style=\"border: 1px solid #d0d7de; padding: 8px; border-radius: 4px;\">\n",
              "                    <span style=\"background-color: #cdffd8\">The moon, a glowing</span><span> </span><span>orb</span><span> </span><span style=\"background-color: #cdffd8\">on high, \n",
              " Illuminates the</span><span> </span><span>darkened</span><span> </span><span style=\"background-color: #cdffd8\">sky.</span><span> </span><span>\n",
              "</span><span> </span><span style=\"background-color: #cdffd8\">Its gentle light, a guiding beam,</span><span> </span><span>\n",
              "</span><span> </span><span style=\"background-color: #cdffd8\">Inspires poets to muse and dream. \n",
              " A celestial wonder,</span><span> </span><span>ever</span><span> </span><span>bright, \n",
              "</span><span> </span><span style=\"background-color: #cdffd8\">Transforming dusk to enchanted</span><span> </span><span>night.</span>\n",
              "                </div>\n",
              "            </div>\n",
              "        </div>\n",
              "        "
            ]
          },
          "metadata": {}
        },
        {
          "output_type": "display_data",
          "data": {
            "text/plain": [
              "<IPython.core.display.HTML object>"
            ],
            "text/html": [
              "\n",
              "        <div style=\"font-family: monospace; white-space: pre-wrap;\">\n",
              "            <div style=\"margin-bottom: 10px;\">\n",
              "                <div style=\"color: #666; margin-bottom: 3px;\">- Original (original): Write a short poem about the moon</div>\n",
              "                <div style=\"border: 1px solid #d0d7de; padding: 8px; border-radius: 4px;\">\n",
              "                    <span>Luminous orb in darkened</span><span> </span><span style=\"background-color: #ffdce0\">skies,</span><span> </span><span>\n",
              " Casting light</span><span> </span><span style=\"background-color: #ffdce0\">on sleepy eyes.</span><span> </span><span>\n",
              "</span><span> </span><span style=\"background-color: #ffdce0\">Waxing, waning, ever changing,</span><span> </span><span>\n",
              "</span><span> </span><span style=\"background-color: #ffdce0\">Celestial beauty, so engaging.</span><span> </span><span>\n",
              "</span><span> </span><span style=\"background-color: #ffdce0\">Guiding</span><span> </span><span>beacon, shining</span><span> </span><span style=\"background-color: #ffdce0\">bright,</span><span> </span><span>\n",
              "</span><span> </span><span style=\"background-color: #ffdce0\">Gentle guardian</span><span> </span><span>of the</span><span> </span><span>night.</span><span> </span>\n",
              "                </div>\n",
              "            </div>\n",
              "            <div>\n",
              "                <div style=\"color: #666; margin-bottom: 3px;\">+ Modified (no_spaces): Writeashortpoemaboutthemoon</div>\n",
              "                <div style=\"border: 1px solid #d0d7de; padding: 8px; border-radius: 4px;\">\n",
              "                    <span style=\"background-color: #cdffd8\">Here's a short poem about the moon: \n",
              " \n",
              "</span><span> </span><span>Luminous orb in darkened</span><span> </span><span style=\"background-color: #cdffd8\">sky,</span><span> </span><span>\n",
              " Casting light</span><span> </span><span style=\"background-color: #cdffd8\">from way up high.</span><span> </span><span>\n",
              "</span><span> </span><span style=\"background-color: #cdffd8\">Craters mark your silvered face,</span><span> </span><span>\n",
              "</span><span> </span><span style=\"background-color: #cdffd8\">As through heaven's arc you trace.</span><span> </span><span>\n",
              "</span><span> </span><span style=\"background-color: #cdffd8\">Faithful friend of starry night, \n",
              " Gentle</span><span> </span><span>beacon, shining</span><span> </span><span style=\"background-color: #cdffd8\">bright.</span><span> </span><span>\n",
              "</span><span> </span><span style=\"background-color: #cdffd8\">\n",
              " How's that? I aimed to capture some key aspects</span><span> </span><span>of the</span><span> </span><span style=\"background-color: #cdffd8\">moon - its luminous glow, the craters on its surface, the way it arcs across the night sky, and the sense of it being a comforting presence in the</span><span> </span><span>night.</span><span> </span><span style=\"background-color: #cdffd8\">Feel free to let me know if you'd like me to modify or expand the poem in any way. I'm happy to keep working on it with you until you're satisfied.</span>\n",
              "                </div>\n",
              "            </div>\n",
              "        </div>\n",
              "        "
            ]
          },
          "metadata": {}
        },
        {
          "output_type": "display_data",
          "data": {
            "text/plain": [
              "<IPython.core.display.HTML object>"
            ],
            "text/html": [
              "\n",
              "        <div style=\"font-family: monospace; white-space: pre-wrap;\">\n",
              "            <div style=\"margin-bottom: 10px;\">\n",
              "                <div style=\"color: #666; margin-bottom: 3px;\">- Original (original): Write a short poem about the moon</div>\n",
              "                <div style=\"border: 1px solid #d0d7de; padding: 8px; border-radius: 4px;\">\n",
              "                    <span style=\"background-color: #ffdce0\">Luminous</span><span> </span><span>orb</span><span> </span><span style=\"background-color: #ffdce0\">in darkened skies,</span><span> </span><span>\n",
              " Casting</span><span> </span><span style=\"background-color: #ffdce0\">light on sleepy eyes.</span><span> </span><span>\n",
              " Waxing, waning, ever changing, \n",
              "</span><span> </span><span style=\"background-color: #ffdce0\">Celestial beauty, so engaging.</span><span> </span><span>\n",
              "</span><span> </span><span style=\"background-color: #ffdce0\">Guiding beacon, shining bright,</span><span> </span><span>\n",
              "</span><span> </span><span style=\"background-color: #ffdce0\">Gentle guardian of the night.</span>\n",
              "                </div>\n",
              "            </div>\n",
              "            <div>\n",
              "                <div style=\"color: #666; margin-bottom: 3px;\">+ Modified (extra_space_start):  Write a short poem about the moon</div>\n",
              "                <div style=\"border: 1px solid #d0d7de; padding: 8px; border-radius: 4px;\">\n",
              "                    <span style=\"background-color: #cdffd8\">The moon, a gentle</span><span> </span><span>orb</span><span> </span><span style=\"background-color: #cdffd8\">of light, \n",
              " Illuminates the darkest night.</span><span> </span><span>\n",
              " Casting</span><span> </span><span style=\"background-color: #cdffd8\">shadows, long and deep, \n",
              " A silent guardian as we sleep. \n",
              "</span><span> </span><span>\n",
              " Waxing, waning, ever changing, \n",
              "</span><span> </span><span style=\"background-color: #cdffd8\">Through the sky, slowly ranging.</span><span> </span><span>\n",
              "</span><span> </span><span style=\"background-color: #cdffd8\">Mysterious and enchanting, she</span><span> </span><span>\n",
              "</span><span> </span><span style=\"background-color: #cdffd8\">Inspires dreams and poetry.</span>\n",
              "                </div>\n",
              "            </div>\n",
              "        </div>\n",
              "        "
            ]
          },
          "metadata": {}
        },
        {
          "output_type": "display_data",
          "data": {
            "text/plain": [
              "<IPython.core.display.HTML object>"
            ],
            "text/html": [
              "\n",
              "        <div style=\"font-family: monospace; white-space: pre-wrap;\">\n",
              "            <div style=\"margin-bottom: 10px;\">\n",
              "                <div style=\"color: #666; margin-bottom: 3px;\">- Original (original): Write a short poem about the moon</div>\n",
              "                <div style=\"border: 1px solid #d0d7de; padding: 8px; border-radius: 4px;\">\n",
              "                    <span>Luminous orb in darkened</span><span> </span><span style=\"background-color: #ffdce0\">skies,</span><span> </span><span>\n",
              " Casting light</span><span> </span><span style=\"background-color: #ffdce0\">on sleepy eyes.</span><span> </span><span>\n",
              "</span><span> </span><span style=\"background-color: #ffdce0\">Waxing, waning, ever changing,</span><span> </span><span>\n",
              " Celestial</span><span> </span><span style=\"background-color: #ffdce0\">beauty, so engaging. \n",
              " Guiding</span><span> </span><span>beacon, shining bright, \n",
              "</span><span> </span><span style=\"background-color: #ffdce0\">Gentle guardian</span><span> </span><span>of the night.</span><span> </span>\n",
              "                </div>\n",
              "            </div>\n",
              "            <div>\n",
              "                <div style=\"color: #666; margin-bottom: 3px;\">+ Modified (all_caps): WRITE A SHORT POEM ABOUT THE MOON</div>\n",
              "                <div style=\"border: 1px solid #d0d7de; padding: 8px; border-radius: 4px;\">\n",
              "                    <span style=\"background-color: #cdffd8\">Here's a short poem about the moon: \n",
              " \n",
              "</span><span> </span><span>Luminous orb in darkened</span><span> </span><span style=\"background-color: #cdffd8\">sky,</span><span> </span><span>\n",
              " Casting light</span><span> </span><span style=\"background-color: #cdffd8\">from way up high.</span><span> </span><span>\n",
              "</span><span> </span><span style=\"background-color: #cdffd8\">Craters mark your silvered face, \n",
              " As through the night you slowly trace. \n",
              " Faithful friend of Earth below, \n",
              " In phases waxing, waning go.</span><span> </span><span>\n",
              " Celestial</span><span> </span><span>beacon, shining bright, \n",
              "</span><span> </span><span style=\"background-color: #cdffd8\">Fair Luna, goddess</span><span> </span><span>of the night.</span><span> </span><span style=\"background-color: #cdffd8\">\n",
              " \n",
              " This short, simple poem uses rhyming couplets to paint a picture of the moon as it appears in the night sky. It touches on the moon's appearance, its phases, and its symbolic role as a nighttime presence and object of beauty and wonder.</span>\n",
              "                </div>\n",
              "            </div>\n",
              "        </div>\n",
              "        "
            ]
          },
          "metadata": {}
        },
        {
          "output_type": "display_data",
          "data": {
            "text/plain": [
              "<IPython.core.display.HTML object>"
            ],
            "text/html": [
              "\n",
              "        <div style=\"font-family: monospace; white-space: pre-wrap;\">\n",
              "            <div style=\"margin-bottom: 10px;\">\n",
              "                <div style=\"color: #666; margin-bottom: 3px;\">- Original (original): Write a short poem about the moon</div>\n",
              "                <div style=\"border: 1px solid #d0d7de; padding: 8px; border-radius: 4px;\">\n",
              "                    <span style=\"background-color: #ffdce0\">Luminous</span><span> </span><span>orb</span><span> </span><span style=\"background-color: #ffdce0\">in darkened skies,</span><span> </span><span>\n",
              " Casting</span><span> </span><span style=\"background-color: #ffdce0\">light on sleepy eyes.</span><span> </span><span>\n",
              " Waxing, waning, ever changing, \n",
              "</span><span> </span><span>Celestial</span><span> </span><span style=\"background-color: #ffdce0\">beauty,</span><span> </span><span>so</span><span> </span><span style=\"background-color: #ffdce0\">engaging.</span><span> </span><span>\n",
              "</span><span> </span><span style=\"background-color: #ffdce0\">Guiding beacon, shining bright, \n",
              " Gentle guardian of the night.</span>\n",
              "                </div>\n",
              "            </div>\n",
              "            <div>\n",
              "                <div style=\"color: #666; margin-bottom: 3px;\">+ Modified (extra_newline): \n",
              "Write a short poem about the moon\n",
              "</div>\n",
              "                <div style=\"border: 1px solid #d0d7de; padding: 8px; border-radius: 4px;\">\n",
              "                    <span style=\"background-color: #cdffd8\">The moon, a gentle</span><span> </span><span>orb</span><span> </span><span style=\"background-color: #cdffd8\">of light, \n",
              " Illuminates the darkest night.</span><span> </span><span>\n",
              " Casting</span><span> </span><span style=\"background-color: #cdffd8\">shadows, long and deep, \n",
              " A silent guardian as we sleep. \n",
              "</span><span> </span><span>\n",
              " Waxing, waning, ever changing, \n",
              "</span><span> </span><span style=\"background-color: #cdffd8\">Through the sky, slowly ranging. \n",
              "</span><span> </span><span>Celestial</span><span> </span><span style=\"background-color: #cdffd8\">wonder,</span><span> </span><span>so</span><span> </span><span style=\"background-color: #cdffd8\">serene,</span><span> </span><span>\n",
              "</span><span> </span><span style=\"background-color: #cdffd8\">Draped in an ethereal sheen.</span>\n",
              "                </div>\n",
              "            </div>\n",
              "        </div>\n",
              "        "
            ]
          },
          "metadata": {}
        },
        {
          "output_type": "display_data",
          "data": {
            "text/plain": [
              "<IPython.core.display.HTML object>"
            ],
            "text/html": [
              "\n",
              "        <div style=\"font-family: monospace; white-space: pre-wrap;\">\n",
              "            <div style=\"margin-bottom: 10px;\">\n",
              "                <div style=\"color: #666; margin-bottom: 3px;\">- Original (original): Write a short poem about the moon</div>\n",
              "                <div style=\"border: 1px solid #d0d7de; padding: 8px; border-radius: 4px;\">\n",
              "                    <span style=\"background-color: #ffdce0\">Luminous</span><span> </span><span>orb</span><span> </span><span style=\"background-color: #ffdce0\">in darkened skies,</span><span> </span><span>\n",
              " Casting</span><span> </span><span style=\"background-color: #ffdce0\">light on sleepy eyes.</span><span> </span><span>\n",
              " Waxing, waning, ever changing, \n",
              "</span><span> </span><span style=\"background-color: #ffdce0\">Celestial beauty, so engaging.</span><span> </span><span>\n",
              "</span><span> </span><span style=\"background-color: #ffdce0\">Guiding beacon, shining bright,</span><span> </span><span>\n",
              "</span><span> </span><span style=\"background-color: #ffdce0\">Gentle guardian of the night.</span>\n",
              "                </div>\n",
              "            </div>\n",
              "            <div>\n",
              "                <div style=\"color: #666; margin-bottom: 3px;\">+ Modified (all_lower): write a short poem about the moon</div>\n",
              "                <div style=\"border: 1px solid #d0d7de; padding: 8px; border-radius: 4px;\">\n",
              "                    <span style=\"background-color: #cdffd8\">The moon, a gentle</span><span> </span><span>orb</span><span> </span><span style=\"background-color: #cdffd8\">of light, \n",
              " Illuminates the darkest night.</span><span> </span><span>\n",
              " Casting</span><span> </span><span style=\"background-color: #cdffd8\">shadows, long and deep, \n",
              " A silent guardian as we sleep. \n",
              "</span><span> </span><span>\n",
              " Waxing, waning, ever changing, \n",
              "</span><span> </span><span style=\"background-color: #cdffd8\">Through the sky, slowly ranging.</span><span> </span><span>\n",
              "</span><span> </span><span style=\"background-color: #cdffd8\">Mysterious and enchanting, she</span><span> </span><span>\n",
              "</span><span> </span><span style=\"background-color: #cdffd8\">Inspires dreams and poetry.</span>\n",
              "                </div>\n",
              "            </div>\n",
              "        </div>\n",
              "        "
            ]
          },
          "metadata": {}
        },
        {
          "output_type": "display_data",
          "data": {
            "text/plain": [
              "<IPython.core.display.HTML object>"
            ],
            "text/html": [
              "\n",
              "        <div style=\"font-family: monospace; white-space: pre-wrap;\">\n",
              "            <div style=\"margin-bottom: 10px;\">\n",
              "                <div style=\"color: #666; margin-bottom: 3px;\">- Original (original): Write a short poem about the moon</div>\n",
              "                <div style=\"border: 1px solid #d0d7de; padding: 8px; border-radius: 4px;\">\n",
              "                    <span style=\"background-color: #ffdce0\">Luminous</span><span> </span><span>orb</span><span> </span><span style=\"background-color: #ffdce0\">in darkened skies,</span><span> </span><span>\n",
              " Casting light</span><span> </span><span style=\"background-color: #ffdce0\">on sleepy eyes.</span><span> </span><span>\n",
              " Waxing, waning,</span><span> </span><span style=\"background-color: #ffdce0\">ever changing,</span><span> </span><span>\n",
              " Celestial</span><span> </span><span style=\"background-color: #ffdce0\">beauty, so engaging.</span><span> </span><span>\n",
              "</span><span> </span><span style=\"background-color: #ffdce0\">Guiding beacon, shining bright, \n",
              " Gentle guardian of the night.</span>\n",
              "                </div>\n",
              "            </div>\n",
              "            <div>\n",
              "                <div style=\"color: #666; margin-bottom: 3px;\">+ Modified (add_exclamation): Write a short poem about the moon!</div>\n",
              "                <div style=\"border: 1px solid #d0d7de; padding: 8px; border-radius: 4px;\">\n",
              "                    <span style=\"background-color: #cdffd8\">The moon, a glowing</span><span> </span><span>orb</span><span> </span><span style=\"background-color: #cdffd8\">on high,</span><span> </span><span>\n",
              " Casting light</span><span> </span><span style=\"background-color: #cdffd8\">across the sky. \n",
              " Mysterious and ever bright, \n",
              " A beacon in the darkest night.</span><span> </span><span>\n",
              " Waxing, waning,</span><span> </span><span style=\"background-color: #cdffd8\">through the weeks, \n",
              " Playing hide and seek with peaks.</span><span> </span><span>\n",
              " Celestial</span><span> </span><span style=\"background-color: #cdffd8\">wonder, always there,</span><span> </span><span>\n",
              "</span><span> </span><span style=\"background-color: #cdffd8\">The moon, a jewel for all to share.</span>\n",
              "                </div>\n",
              "            </div>\n",
              "        </div>\n",
              "        "
            ]
          },
          "metadata": {}
        },
        {
          "output_type": "display_data",
          "data": {
            "text/plain": [
              "<IPython.core.display.HTML object>"
            ],
            "text/html": [
              "\n",
              "        <div style=\"font-family: monospace; white-space: pre-wrap;\">\n",
              "            <div style=\"margin-bottom: 10px;\">\n",
              "                <div style=\"color: #666; margin-bottom: 3px;\">- Original (original): Write a short poem about the moon</div>\n",
              "                <div style=\"border: 1px solid #d0d7de; padding: 8px; border-radius: 4px;\">\n",
              "                    <span>Luminous orb in darkened skies, \n",
              " Casting light on sleepy eyes. \n",
              " Waxing, waning, ever changing, \n",
              " Celestial beauty, so engaging. \n",
              " Guiding</span><span> </span><span style=\"background-color: #ffdce0\">beacon, shining bright,</span><span> </span><span>\n",
              "</span><span> </span><span style=\"background-color: #ffdce0\">Gentle guardian of the night.</span>\n",
              "                </div>\n",
              "            </div>\n",
              "            <div>\n",
              "                <div style=\"color: #666; margin-bottom: 3px;\">+ Modified (double_space): Write  a  short  poem  about  the  moon</div>\n",
              "                <div style=\"border: 1px solid #d0d7de; padding: 8px; border-radius: 4px;\">\n",
              "                    <span>Luminous orb in darkened skies, \n",
              " Casting light on sleepy eyes. \n",
              " Waxing, waning, ever changing, \n",
              " Celestial beauty, so engaging. \n",
              " Guiding</span><span> </span><span style=\"background-color: #cdffd8\">lost souls through the night,</span><span> </span><span>\n",
              "</span><span> </span><span style=\"background-color: #cdffd8\">Faithful friend, a wondrous sight. \n",
              " Mysteries held in your pale glow, \n",
              " Lunar secrets we yearn to know.</span>\n",
              "                </div>\n",
              "            </div>\n",
              "        </div>\n",
              "        "
            ]
          },
          "metadata": {}
        },
        {
          "output_type": "display_data",
          "data": {
            "text/plain": [
              "<IPython.core.display.HTML object>"
            ],
            "text/html": [
              "\n",
              "        <div style=\"font-family: monospace; white-space: pre-wrap;\">\n",
              "            <div style=\"margin-bottom: 10px;\">\n",
              "                <div style=\"color: #666; margin-bottom: 3px;\">- Original (original): Write a short poem about the moon</div>\n",
              "                <div style=\"border: 1px solid #d0d7de; padding: 8px; border-radius: 4px;\">\n",
              "                    <span>Luminous orb in darkened</span><span> </span><span style=\"background-color: #ffdce0\">skies,</span><span> </span><span>\n",
              " Casting light</span><span> </span><span style=\"background-color: #ffdce0\">on sleepy eyes.</span><span> </span><span>\n",
              "</span><span> </span><span style=\"background-color: #ffdce0\">Waxing, waning, ever changing,</span><span> </span><span>\n",
              " Celestial</span><span> </span><span style=\"background-color: #ffdce0\">beauty, so engaging. \n",
              " Guiding</span><span> </span><span>beacon, shining bright, \n",
              "</span><span> </span><span style=\"background-color: #ffdce0\">Gentle guardian of the</span><span> </span><span>night.</span>\n",
              "                </div>\n",
              "            </div>\n",
              "            <div>\n",
              "                <div style=\"color: #666; margin-bottom: 3px;\">+ Modified (extra_space_end): Write a short poem about the moon </div>\n",
              "                <div style=\"border: 1px solid #d0d7de; padding: 8px; border-radius: 4px;\">\n",
              "                    <span>Luminous orb in darkened</span><span> </span><span style=\"background-color: #cdffd8\">sky,</span><span> </span><span>\n",
              " Casting light</span><span> </span><span style=\"background-color: #cdffd8\">from way up high.</span><span> </span><span>\n",
              "</span><span> </span><span style=\"background-color: #cdffd8\">Craters mark your silvery face, \n",
              " As through the night you slowly trace.</span><span> </span><span>\n",
              " Celestial</span><span> </span><span>beacon, shining bright, \n",
              "</span><span> </span><span style=\"background-color: #cdffd8\">Faithful friend to all each</span><span> </span><span>night.</span>\n",
              "                </div>\n",
              "            </div>\n",
              "        </div>\n",
              "        "
            ]
          },
          "metadata": {}
        },
        {
          "output_type": "display_data",
          "data": {
            "text/plain": [
              "<IPython.core.display.HTML object>"
            ],
            "text/html": [
              "\n",
              "        <div style=\"font-family: monospace; white-space: pre-wrap;\">\n",
              "            <div style=\"margin-bottom: 10px;\">\n",
              "                <div style=\"color: #666; margin-bottom: 3px;\">- Original (original): Write a short poem about the moon</div>\n",
              "                <div style=\"border: 1px solid #d0d7de; padding: 8px; border-radius: 4px;\">\n",
              "                    <span style=\"background-color: #ffdce0\">Luminous</span><span> </span><span>orb</span><span> </span><span style=\"background-color: #ffdce0\">in darkened skies,</span><span> </span><span>\n",
              " Casting</span><span> </span><span style=\"background-color: #ffdce0\">light on sleepy eyes.</span><span> </span><span>\n",
              " Waxing, waning, ever changing, \n",
              "</span><span> </span><span style=\"background-color: #ffdce0\">Celestial beauty, so engaging.</span><span> </span><span>\n",
              "</span><span> </span><span style=\"background-color: #ffdce0\">Guiding beacon, shining bright,</span><span> </span><span>\n",
              "</span><span> </span><span style=\"background-color: #ffdce0\">Gentle guardian of</span><span> </span><span>the</span><span> </span><span style=\"background-color: #ffdce0\">night.</span>\n",
              "                </div>\n",
              "            </div>\n",
              "            <div>\n",
              "                <div style=\"color: #666; margin-bottom: 3px;\">+ Modified (add_question): Write a short poem about the moon?</div>\n",
              "                <div style=\"border: 1px solid #d0d7de; padding: 8px; border-radius: 4px;\">\n",
              "                    <span style=\"background-color: #cdffd8\">The moon, a gentle</span><span> </span><span>orb</span><span> </span><span style=\"background-color: #cdffd8\">of light, \n",
              " Illuminates the darkest night.</span><span> </span><span>\n",
              " Casting</span><span> </span><span style=\"background-color: #cdffd8\">shadows, long and deep, \n",
              " A silent guardian as we sleep. \n",
              "</span><span> </span><span>\n",
              " Waxing, waning, ever changing, \n",
              "</span><span> </span><span style=\"background-color: #cdffd8\">Through the sky, slowly ranging.</span><span> </span><span>\n",
              "</span><span> </span><span style=\"background-color: #cdffd8\">Mysterious and enchanting, she</span><span> </span><span>\n",
              "</span><span> </span><span style=\"background-color: #cdffd8\">Inspires dreams and poetry. \n",
              " \n",
              " Whether crescent, full or new, \n",
              " The moon remains a wondrous view. \n",
              " Glowing bright or hiding shy, \n",
              " Constant presence in</span><span> </span><span>the</span><span> </span><span style=\"background-color: #cdffd8\">sky.</span>\n",
              "                </div>\n",
              "            </div>\n",
              "        </div>\n",
              "        "
            ]
          },
          "metadata": {}
        }
      ]
    },
    {
      "cell_type": "code",
      "source": [
        "# Show specific variations for experiment 1\n",
        "display_variation_matrix(\n",
        "    experiments[0],\n",
        "    variations=[\"extra_space_start\", \"all_caps\", \"add_period\"]\n",
        ")"
      ],
      "metadata": {
        "colab": {
          "base_uri": "https://localhost:8080/",
          "height": 1000
        },
        "id": "QYEnncjHbXu_",
        "outputId": "5dbdc2c6-da7c-4108-d4fd-d4df2079d4ad"
      },
      "execution_count": 11,
      "outputs": [
        {
          "output_type": "display_data",
          "data": {
            "text/plain": [
              "<IPython.core.display.HTML object>"
            ],
            "text/html": [
              "\n",
              "    <div style=\"margin: 20px 0; padding: 10px; background-color: #f6f8fa; border-radius: 4px;\">\n",
              "        <strong>Variation Matrix</strong><br>\n",
              "        Base Prompt: Explain how photosynthesis works<br>\n",
              "        Comparing variations: extra_space_start, all_caps, add_period\n",
              "    </div>\n",
              "    "
            ]
          },
          "metadata": {}
        },
        {
          "output_type": "display_data",
          "data": {
            "text/plain": [
              "<IPython.core.display.HTML object>"
            ],
            "text/html": [
              "\n",
              "        <div style=\"font-family: monospace; white-space: pre-wrap;\">\n",
              "            <div style=\"margin-bottom: 10px;\">\n",
              "                <div style=\"color: #666; margin-bottom: 3px;\">- Original (original): Explain how photosynthesis works</div>\n",
              "                <div style=\"border: 1px solid #d0d7de; padding: 8px; border-radius: 4px;\">\n",
              "                    <span>Photosynthesis is the process by which plants use sunlight, water and carbon dioxide to create oxygen and energy in the form of sugar. \n",
              " \n",
              " Here's a simple step-by-step of how photosynthesis works: \n",
              " \n",
              " 1. The leaves of a plant absorb sunlight. Within the leaves are chloroplasts which contain a green pigment called chlorophyll. Chlorophyll is what allows plants to absorb energy from sunlight. \n",
              " \n",
              " 2. At the same time, the roots absorb water from the soil and this is transported to the leaves. \n",
              " \n",
              " 3. Carbon dioxide enters the leaves through tiny pores called stomata. \n",
              " \n",
              " 4. Using the energy from sunlight, the chlorophyll combines the water and carbon dioxide to make glucose (a type of sugar) and oxygen. \n",
              " \n",
              " 5. The glucose is used by the plant as food for energy and as a building block for growing. The oxygen is released from the leaves into the air. \n",
              " \n",
              " So in summary,</span><span> </span><span style=\"background-color: #ffdce0\">plants take in water,</span><span> </span><span>carbon</span><span> </span><span style=\"background-color: #ffdce0\">dioxide and light energy, and through a chemical reaction, produce</span><span> </span><span>glucose which</span><span> </span><span style=\"background-color: #ffdce0\">they use for food, as well as oxygen which they release</span><span> </span><span>into the atmosphere.</span><span> </span><span style=\"background-color: #ffdce0\">This is why plants are so important</span><span> </span><span>for life on Earth</span><span> </span><span style=\"background-color: #ffdce0\">- they provide</span><span> </span><span>the oxygen we breathe and</span><span> </span><span style=\"background-color: #ffdce0\">form</span><span> </span><span>the foundation of</span><span> </span><span style=\"background-color: #ffdce0\">many</span><span> </span><span>food chains.</span>\n",
              "                </div>\n",
              "            </div>\n",
              "            <div>\n",
              "                <div style=\"color: #666; margin-bottom: 3px;\">+ Modified (extra_space_start):  Explain how photosynthesis works</div>\n",
              "                <div style=\"border: 1px solid #d0d7de; padding: 8px; border-radius: 4px;\">\n",
              "                    <span>Photosynthesis is the process by which plants use sunlight, water and carbon dioxide to create oxygen and energy in the form of sugar. \n",
              " \n",
              " Here's a simple step-by-step of how photosynthesis works: \n",
              " \n",
              " 1. The leaves of a plant absorb sunlight. Within the leaves are chloroplasts which contain a green pigment called chlorophyll. Chlorophyll is what allows plants to absorb energy from sunlight. \n",
              " \n",
              " 2. At the same time, the roots absorb water from the soil and this is transported to the leaves. \n",
              " \n",
              " 3. Carbon dioxide enters the leaves through tiny pores called stomata. \n",
              " \n",
              " 4. Using the energy from sunlight, the chlorophyll combines the water and carbon dioxide to make glucose (a type of sugar) and oxygen. \n",
              " \n",
              " 5. The glucose is used by the plant as food for energy and as a building block for growing. The oxygen is released from the leaves into the air. \n",
              " \n",
              " So in summary,</span><span> </span><span style=\"background-color: #cdffd8\">the inputs for photosynthesis are sunlight, water and</span><span> </span><span>carbon</span><span> </span><span style=\"background-color: #cdffd8\">dioxide. The outputs are</span><span> </span><span>glucose which</span><span> </span><span style=\"background-color: #cdffd8\">feeds the plant, and oxygen which is released</span><span> </span><span>into the atmosphere.</span><span> </span><span style=\"background-color: #cdffd8\">Photosynthesis is vital</span><span> </span><span>for life on Earth</span><span> </span><span style=\"background-color: #cdffd8\">as it produces</span><span> </span><span>the oxygen we breathe and</span><span> </span><span style=\"background-color: #cdffd8\">forms</span><span> </span><span>the foundation of</span><span> </span><span style=\"background-color: #cdffd8\">most</span><span> </span><span>food chains.</span>\n",
              "                </div>\n",
              "            </div>\n",
              "        </div>\n",
              "        "
            ]
          },
          "metadata": {}
        },
        {
          "output_type": "display_data",
          "data": {
            "text/plain": [
              "<IPython.core.display.HTML object>"
            ],
            "text/html": [
              "\n",
              "        <div style=\"font-family: monospace; white-space: pre-wrap;\">\n",
              "            <div style=\"margin-bottom: 10px;\">\n",
              "                <div style=\"color: #666; margin-bottom: 3px;\">- Original (original): Explain how photosynthesis works</div>\n",
              "                <div style=\"border: 1px solid #d0d7de; padding: 8px; border-radius: 4px;\">\n",
              "                    <span>Photosynthesis is the process by which plants use sunlight, water and carbon dioxide to create oxygen and energy in the form of sugar. \n",
              " \n",
              " Here's a simple step-by-step of how</span><span> </span><span style=\"background-color: #ffdce0\">photosynthesis</span><span> </span><span>works: \n",
              " \n",
              " 1. The</span><span> </span><span style=\"background-color: #ffdce0\">leaves of a</span><span> </span><span>plant</span><span> </span><span style=\"background-color: #ffdce0\">absorb sunlight. Within the leaves are chloroplasts which contain a</span><span> </span><span>green pigment</span><span> </span><span style=\"background-color: #ffdce0\">called chlorophyll. Chlorophyll is what allows plants to absorb energy from sunlight.</span><span> </span><span>\n",
              " \n",
              " 2.</span><span> </span><span style=\"background-color: #ffdce0\">At the same time,</span><span> </span><span>the roots</span><span> </span><span style=\"background-color: #ffdce0\">absorb water from the soil and this is transported to the leaves. \n",
              " \n",
              " 3. Carbon</span><span> </span><span>dioxide enters</span><span> </span><span style=\"background-color: #ffdce0\">the leaves</span><span> </span><span>through tiny</span><span> </span><span style=\"background-color: #ffdce0\">pores</span><span> </span><span>called stomata. \n",
              " \n",
              "</span><span> </span><span>4.</span><span> </span><span style=\"background-color: #ffdce0\">Using the energy</span><span> </span><span>from</span><span> </span><span style=\"background-color: #ffdce0\">sunlight, the chlorophyll</span><span> </span><span>combines</span><span> </span><span style=\"background-color: #ffdce0\">the water and</span><span> </span><span>carbon dioxide to</span><span> </span><span style=\"background-color: #ffdce0\">make</span><span> </span><span>glucose</span><span> </span><span style=\"background-color: #ffdce0\">(a type of sugar) and oxygen. \n",
              " \n",
              " 5.</span><span> </span><span>The</span><span> </span><span style=\"background-color: #ffdce0\">glucose is used by the plant as food</span><span> </span><span>for</span><span> </span><span style=\"background-color: #ffdce0\">energy and as a building block for growing. The oxygen is released from the leaves into the air.</span><span> </span><span>\n",
              " \n",
              " So in summary, plants take in</span><span> </span><span style=\"background-color: #ffdce0\">water, carbon dioxide and light energy,</span><span> </span><span>and through</span><span> </span><span style=\"background-color: #ffdce0\">a chemical reaction, produce glucose which they use for food, as well as</span><span> </span><span>oxygen</span><span> </span><span style=\"background-color: #ffdce0\">which they release into the atmosphere. This is why plants are so important for</span><span> </span><span>life on</span><span> </span><span style=\"background-color: #ffdce0\">Earth - they provide the oxygen we breathe and form the foundation of many food chains.</span>\n",
              "                </div>\n",
              "            </div>\n",
              "            <div>\n",
              "                <div style=\"color: #666; margin-bottom: 3px;\">+ Modified (all_caps): EXPLAIN HOW PHOTOSYNTHESIS WORKS</div>\n",
              "                <div style=\"border: 1px solid #d0d7de; padding: 8px; border-radius: 4px;\">\n",
              "                    <span>Photosynthesis is the process by which plants use sunlight, water and carbon dioxide to create oxygen and energy in the form of sugar. \n",
              " \n",
              " Here's a simple step-by-step of how</span><span> </span><span style=\"background-color: #cdffd8\">it</span><span> </span><span>works: \n",
              " \n",
              " 1. The</span><span> </span><span>plant</span><span> </span><span style=\"background-color: #cdffd8\">absorbs light energy from the sun. Chlorophyll, the</span><span> </span><span>green pigment</span><span> </span><span style=\"background-color: #cdffd8\">in leaves, captures this light energy.</span><span> </span><span>\n",
              " \n",
              " 2.</span><span> </span><span style=\"background-color: #cdffd8\">Inside the leaf are water and carbon dioxide. Water is absorbed by</span><span> </span><span>the roots</span><span> </span><span style=\"background-color: #cdffd8\">and carbon</span><span> </span><span>dioxide enters</span><span> </span><span>through tiny</span><span> </span><span style=\"background-color: #cdffd8\">holes in the leaf</span><span> </span><span>called stomata. \n",
              " \n",
              "</span><span> </span><span style=\"background-color: #cdffd8\">3. Light energy is used to split water molecules into hydrogen and oxygen. Oxygen is released from the leaves into the atmosphere. \n",
              " \n",
              "</span><span> </span><span>4.</span><span> </span><span style=\"background-color: #cdffd8\">The hydrogen</span><span> </span><span>from</span><span> </span><span style=\"background-color: #cdffd8\">water</span><span> </span><span>combines</span><span> </span><span style=\"background-color: #cdffd8\">with</span><span> </span><span>carbon dioxide to</span><span> </span><span style=\"background-color: #cdffd8\">create glucose, a sugar that the plant uses for energy. This chemical reaction is called carbon fixation. \n",
              " \n",
              " 5. Some of the</span><span> </span><span>glucose</span><span> </span><span style=\"background-color: #cdffd8\">is used immediately by the plant for energy.</span><span> </span><span>The</span><span> </span><span style=\"background-color: #cdffd8\">excess is turned into starch and stored</span><span> </span><span>for</span><span> </span><span style=\"background-color: #cdffd8\">later use.</span><span> </span><span>\n",
              " \n",
              " So in summary, plants take in</span><span> </span><span style=\"background-color: #cdffd8\">sunlight, water and CO2,</span><span> </span><span>and through</span><span> </span><span style=\"background-color: #cdffd8\">photosynthesis convert it into</span><span> </span><span>oxygen</span><span> </span><span style=\"background-color: #cdffd8\">that is released and sugars that feed the plant. It's an amazing process that sustains all</span><span> </span><span>life on</span><span> </span><span style=\"background-color: #cdffd8\">Earth! Let me know if you have any other questions.</span>\n",
              "                </div>\n",
              "            </div>\n",
              "        </div>\n",
              "        "
            ]
          },
          "metadata": {}
        },
        {
          "output_type": "display_data",
          "data": {
            "text/plain": [
              "<IPython.core.display.HTML object>"
            ],
            "text/html": [
              "\n",
              "        <div style=\"font-family: monospace; white-space: pre-wrap;\">\n",
              "            <div style=\"margin-bottom: 10px;\">\n",
              "                <div style=\"color: #666; margin-bottom: 3px;\">- Original (original): Explain how photosynthesis works</div>\n",
              "                <div style=\"border: 1px solid #d0d7de; padding: 8px; border-radius: 4px;\">\n",
              "                    <span>Photosynthesis is the process by which plants use sunlight, water and carbon dioxide to create oxygen and energy in the form of sugar. \n",
              " \n",
              " Here's a simple step-by-step of how</span><span> </span><span style=\"background-color: #ffdce0\">photosynthesis</span><span> </span><span>works: \n",
              " \n",
              " 1. The leaves of a plant absorb sunlight. Within the leaves are</span><span> </span><span>chloroplasts which contain a green pigment called chlorophyll. Chlorophyll is what allows plants to absorb</span><span> </span><span>energy from sunlight. \n",
              " \n",
              " 2. At the same time, the roots absorb water</span><span> </span><span style=\"background-color: #ffdce0\">from the soil and this</span><span> </span><span>is transported</span><span> </span><span style=\"background-color: #ffdce0\">to the leaves.</span><span> </span><span>\n",
              " \n",
              " 3.</span><span> </span><span style=\"background-color: #ffdce0\">Carbon</span><span> </span><span>dioxide</span><span> </span><span style=\"background-color: #ffdce0\">enters the leaves through tiny pores called stomata.</span><span> </span><span>\n",
              " \n",
              " 4.</span><span> </span><span style=\"background-color: #ffdce0\">Using the energy from sunlight, the chlorophyll</span><span> </span><span>combines</span><span> </span><span style=\"background-color: #ffdce0\">the water and</span><span> </span><span>carbon dioxide</span><span> </span><span>to make</span><span> </span><span style=\"background-color: #ffdce0\">glucose (a type of sugar) and oxygen. \n",
              " \n",
              " 5. The glucose is used by the plant as food for energy and as a building block for growing. The oxygen is released from the leaves into the air.</span><span> </span><span>\n",
              " \n",
              " So in summary, plants take in</span><span> </span><span style=\"background-color: #ffdce0\">water, carbon dioxide and light energy,</span><span> </span><span>and through</span><span> </span><span style=\"background-color: #ffdce0\">a chemical reaction, produce glucose which they use for food, as well as</span><span> </span><span>oxygen</span><span> </span><span style=\"background-color: #ffdce0\">which they release into the atmosphere.</span><span> </span><span>This</span><span> </span><span style=\"background-color: #ffdce0\">is why plants are so important for</span><span> </span><span>life on</span><span> </span><span style=\"background-color: #ffdce0\">Earth - they provide the oxygen we breathe and form the foundation of many food chains.</span>\n",
              "                </div>\n",
              "            </div>\n",
              "            <div>\n",
              "                <div style=\"color: #666; margin-bottom: 3px;\">+ Modified (add_period): Explain how photosynthesis works.</div>\n",
              "                <div style=\"border: 1px solid #d0d7de; padding: 8px; border-radius: 4px;\">\n",
              "                    <span>Photosynthesis is the process by which plants use sunlight, water and carbon dioxide to create oxygen and energy in the form of sugar. \n",
              " \n",
              " Here's a simple step-by-step of how</span><span> </span><span style=\"background-color: #cdffd8\">it</span><span> </span><span>works: \n",
              " \n",
              " 1. The leaves of a plant absorb sunlight. Within the leaves are</span><span> </span><span style=\"background-color: #cdffd8\">small structures called</span><span> </span><span>chloroplasts which contain a green pigment called chlorophyll. Chlorophyll is what allows plants to absorb</span><span> </span><span style=\"background-color: #cdffd8\">the</span><span> </span><span>energy from sunlight. \n",
              " \n",
              " 2. At the same time, the roots absorb water</span><span> </span><span style=\"background-color: #cdffd8\">and minerals from the soil. This water</span><span> </span><span>is transported</span><span> </span><span style=\"background-color: #cdffd8\">up to the leaves through tubes in the stem.</span><span> </span><span>\n",
              " \n",
              " 3.</span><span> </span><span style=\"background-color: #cdffd8\">Small pores in the leaves called stomata open up to collect carbon</span><span> </span><span>dioxide</span><span> </span><span style=\"background-color: #cdffd8\">from the air.</span><span> </span><span>\n",
              " \n",
              " 4.</span><span> </span><span style=\"background-color: #cdffd8\">Inside the chloroplasts, the energy from the sunlight is used to split the water molecules into hydrogen and oxygen. The oxygen is released from the leaves into the atmosphere. \n",
              " \n",
              " 5. The hydrogen from the water</span><span> </span><span>combines</span><span> </span><span style=\"background-color: #cdffd8\">with the</span><span> </span><span>carbon dioxide</span><span> </span><span style=\"background-color: #cdffd8\">using energy from the sunlight to create glucose, a simple sugar that the plant uses for energy. This chemical reaction is called photosynthesis. \n",
              " \n",
              " 6. The glucose is transported throughout the plant and used for growth, flower and fruit production, and is stored for later use. Some glucose is also converted into cellulose</span><span> </span><span>to make</span><span> </span><span style=\"background-color: #cdffd8\">cell walls.</span><span> </span><span>\n",
              " \n",
              " So in summary, plants take in</span><span> </span><span style=\"background-color: #cdffd8\">sunlight, water and carbon dioxide,</span><span> </span><span>and through</span><span> </span><span style=\"background-color: #cdffd8\">photosynthesis convert it into</span><span> </span><span>oxygen</span><span> </span><span style=\"background-color: #cdffd8\">that is released and sugars that feed the plant.</span><span> </span><span>This</span><span> </span><span style=\"background-color: #cdffd8\">incredible process is the foundation for most</span><span> </span><span>life on</span><span> </span><span style=\"background-color: #cdffd8\">Earth!</span>\n",
              "                </div>\n",
              "            </div>\n",
              "        </div>\n",
              "        "
            ]
          },
          "metadata": {}
        }
      ]
    },
    {
      "cell_type": "markdown",
      "metadata": {
        "id": "aFVqj6i4onmU"
      },
      "source": [
        "## Analyze Results\n",
        "\n",
        "Now let's analyze the results to understand how different prompt variations affected the responses."
      ]
    },
    {
      "cell_type": "code",
      "execution_count": 12,
      "metadata": {
        "id": "XVPVwafVonmU",
        "colab": {
          "base_uri": "https://localhost:8080/",
          "height": 1000
        },
        "outputId": "c895312d-4026-4efa-aa9e-98a9cc4cff7a"
      },
      "source": [
        "def analyze_experiment_results(experiments: List[PromptExperiment]):\n",
        "    '''Analyze results across all experiments'''\n",
        "    all_results = pd.concat([exp.analyze_results().assign(experiment_id=i) for i, exp in enumerate(experiments)])\n",
        "\n",
        "    # Basic statistics\n",
        "    print(\"=== Response Length Statistics ===\")\n",
        "    print(all_results.groupby('experiment_id')['response_length'].describe())\n",
        "\n",
        "    print(\"\\n=== Word Count Statistics ===\")\n",
        "    print(all_results.groupby('experiment_id')['word_count'].describe())\n",
        "\n",
        "    # Visualization\n",
        "    import matplotlib.pyplot as plt\n",
        "\n",
        "    plt.figure(figsize=(12, 6))\n",
        "    all_results.boxplot(column='response_length', by='experiment_id', rot=45)\n",
        "    plt.title('Response Length by Prompt Variation Type')\n",
        "    plt.show()\n",
        "\n",
        "    return all_results\n",
        "\n",
        "# Analyze results\n",
        "results_df = analyze_experiment_results(experiments)"
      ],
      "outputs": [
        {
          "output_type": "stream",
          "name": "stdout",
          "text": [
            "=== Response Length Statistics ===\n",
            "               count         mean         std     min     25%     50%     75%  \\\n",
            "experiment_id                                                                   \n",
            "0               11.0  1242.454545  128.645531  1138.0  1145.5  1179.0  1314.5   \n",
            "1               11.0   305.909091  137.633175   185.0   226.0   251.0   319.5   \n",
            "2               11.0  1456.090909  104.142647  1240.0  1400.5  1483.0  1514.5   \n",
            "3               11.0  1119.727273  235.106398   517.0  1035.5  1226.0  1265.0   \n",
            "4               11.0  1350.181818  127.563175  1210.0  1261.0  1317.0  1404.5   \n",
            "5               11.0  1629.636364  207.862586  1319.0  1470.5  1630.0  1755.0   \n",
            "6               11.0  1510.545455  288.526728   894.0  1390.5  1495.0  1658.0   \n",
            "\n",
            "                  max  \n",
            "experiment_id          \n",
            "0              1462.0  \n",
            "1               590.0  \n",
            "2              1615.0  \n",
            "3              1350.0  \n",
            "4              1588.0  \n",
            "5              1986.0  \n",
            "6              1926.0  \n",
            "\n",
            "=== Word Count Statistics ===\n",
            "               count        mean        std    min    25%    50%    75%    max\n",
            "experiment_id                                                                 \n",
            "0               11.0  212.272727  22.036746  193.0  197.0  203.0  226.0  252.0\n",
            "1               11.0   50.909091  26.636271   27.0   36.0   40.0   52.5  110.0\n",
            "2               11.0  224.636364  19.510370  182.0  215.0  230.0  237.0  253.0\n",
            "3               11.0  176.727273  35.891756   83.0  164.5  189.0  201.0  202.0\n",
            "4               11.0  211.454545  17.235798  190.0  201.0  209.0  219.0  242.0\n",
            "5               11.0  230.363636  24.241587  186.0  220.0  235.0  238.5  275.0\n",
            "6               11.0  250.909091  43.700010  153.0  234.0  249.0  278.0  315.0\n"
          ]
        },
        {
          "output_type": "display_data",
          "data": {
            "text/plain": [
              "<Figure size 1200x600 with 0 Axes>"
            ]
          },
          "metadata": {}
        },
        {
          "output_type": "display_data",
          "data": {
            "text/plain": [
              "<Figure size 640x480 with 1 Axes>"
            ],
            "image/png": "[encoded data removed]"
          },
          "metadata": {}
        }
      ]
    },
    {
      "cell_type": "markdown",
      "metadata": {
        "id": "kkiFztV8onmU"
      },
      "source": [
        "## Conclusions\n",
        "\n",
        "It seems that there is a natural sensitivity for all minor differences.  "
      ]
    }
  ],
  "metadata": {
    "kernelspec": {
      "display_name": "Python 3",
      "language": "python",
      "name": "python3"
    },
    "language_info": {
      "codemirror_mode": {
        "name": "ipython",
        "version": 3
      },
      "file_extension": ".py",
      "mimetype": "text/x-python",
      "name": "python",
      "nbconvert_exporter": "python",
      "pygments_lexer": "ipython3",
      "version": "3.8.0"
    },
    "colab": {
      "provenance": [],
      "include_colab_link": true
    }
  },
  "nbformat": 4,
  "nbformat_minor": 0
}