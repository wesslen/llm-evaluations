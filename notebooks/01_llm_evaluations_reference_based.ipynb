{
  "nbformat": 4,
  "nbformat_minor": 0,
  "metadata": {
    "colab": {
      "provenance": [],
      "gpuType": "T4",
      "authorship_tag": "ABX9TyMGxEAGdYnWYGm0B9WDvXc/",
      "include_colab_link": true
    },
    "kernelspec": {
      "name": "python3",
      "display_name": "Python 3"
    },
    "language_info": {
      "name": "python"
    },
    "accelerator": "GPU",
    "widgets": {
      "application/vnd.jupyter.widget-state+json": {
        "2e165d67e1ea40f3976ccfa5ce90d529": {
          "model_module": "@jupyter-widgets/controls",
          "model_name": "HBoxModel",
          "model_module_version": "1.5.0",
          "state": {
            "_dom_classes": [],
            "_model_module": "@jupyter-widgets/controls",
            "_model_module_version": "1.5.0",
            "_model_name": "HBoxModel",
            "_view_count": null,
            "_view_module": "@jupyter-widgets/controls",
            "_view_module_version": "1.5.0",
            "_view_name": "HBoxView",
            "box_style": "",
            "children": [
              "IPY_MODEL_c6f00a426a2e4677bf189f3ecfd1d2a7",
              "IPY_MODEL_e1d4761e1250496e8b3441b7d027b202",
              "IPY_MODEL_9f18788ead3a4f02849a1f6fc891226f"
            ],
            "layout": "IPY_MODEL_b7d552b155e3462c98b8a3af4ba86f73"
          }
        },
        "c6f00a426a2e4677bf189f3ecfd1d2a7": {
          "model_module": "@jupyter-widgets/controls",
          "model_name": "HTMLModel",
          "model_module_version": "1.5.0",
          "state": {
            "_dom_classes": [],
            "_model_module": "@jupyter-widgets/controls",
            "_model_module_version": "1.5.0",
            "_model_name": "HTMLModel",
            "_view_count": null,
            "_view_module": "@jupyter-widgets/controls",
            "_view_module_version": "1.5.0",
            "_view_name": "HTMLView",
            "description": "",
            "description_tooltip": null,
            "layout": "IPY_MODEL_5690f829a65540b8bd2c60d84a53b854",
            "placeholder": "​",
            "style": "IPY_MODEL_7a12a26ab41a49428805eabfc60fa9ea",
            "value": "100%"
          }
        },
        "e1d4761e1250496e8b3441b7d027b202": {
          "model_module": "@jupyter-widgets/controls",
          "model_name": "FloatProgressModel",
          "model_module_version": "1.5.0",
          "state": {
            "_dom_classes": [],
            "_model_module": "@jupyter-widgets/controls",
            "_model_module_version": "1.5.0",
            "_model_name": "FloatProgressModel",
            "_view_count": null,
            "_view_module": "@jupyter-widgets/controls",
            "_view_module_version": "1.5.0",
            "_view_name": "ProgressView",
            "bar_style": "success",
            "description": "",
            "description_tooltip": null,
            "layout": "IPY_MODEL_43b59527e54b402a846e9baefd9c65a7",
            "max": 1,
            "min": 0,
            "orientation": "horizontal",
            "style": "IPY_MODEL_25509e82781449359746df1401fb9543",
            "value": 1
          }
        },
        "9f18788ead3a4f02849a1f6fc891226f": {
          "model_module": "@jupyter-widgets/controls",
          "model_name": "HTMLModel",
          "model_module_version": "1.5.0",
          "state": {
            "_dom_classes": [],
            "_model_module": "@jupyter-widgets/controls",
            "_model_module_version": "1.5.0",
            "_model_name": "HTMLModel",
            "_view_count": null,
            "_view_module": "@jupyter-widgets/controls",
            "_view_module_version": "1.5.0",
            "_view_name": "HTMLView",
            "description": "",
            "description_tooltip": null,
            "layout": "IPY_MODEL_f9e68245c7bc45c4b327bf91932c911f",
            "placeholder": "​",
            "style": "IPY_MODEL_03a02ff244a84f2690f953b819eae296",
            "value": " 1/1 [00:00&lt;00:00,  1.24it/s]"
          }
        },
        "b7d552b155e3462c98b8a3af4ba86f73": {
          "model_module": "@jupyter-widgets/base",
          "model_name": "LayoutModel",
          "model_module_version": "1.2.0",
          "state": {
            "_model_module": "@jupyter-widgets/base",
            "_model_module_version": "1.2.0",
            "_model_name": "LayoutModel",
            "_view_count": null,
            "_view_module": "@jupyter-widgets/base",
            "_view_module_version": "1.2.0",
            "_view_name": "LayoutView",
            "align_content": null,
            "align_items": null,
            "align_self": null,
            "border": null,
            "bottom": null,
            "display": null,
            "flex": null,
            "flex_flow": null,
            "grid_area": null,
            "grid_auto_columns": null,
            "grid_auto_flow": null,
            "grid_auto_rows": null,
            "grid_column": null,
            "grid_gap": null,
            "grid_row": null,
            "grid_template_areas": null,
            "grid_template_columns": null,
            "grid_template_rows": null,
            "height": null,
            "justify_content": null,
            "justify_items": null,
            "left": null,
            "margin": null,
            "max_height": null,
            "max_width": null,
            "min_height": null,
            "min_width": null,
            "object_fit": null,
            "object_position": null,
            "order": null,
            "overflow": null,
            "overflow_x": null,
            "overflow_y": null,
            "padding": null,
            "right": null,
            "top": null,
            "visibility": null,
            "width": null
          }
        },
        "5690f829a65540b8bd2c60d84a53b854": {
          "model_module": "@jupyter-widgets/base",
          "model_name": "LayoutModel",
          "model_module_version": "1.2.0",
          "state": {
            "_model_module": "@jupyter-widgets/base",
            "_model_module_version": "1.2.0",
            "_model_name": "LayoutModel",
            "_view_count": null,
            "_view_module": "@jupyter-widgets/base",
            "_view_module_version": "1.2.0",
            "_view_name": "LayoutView",
            "align_content": null,
            "align_items": null,
            "align_self": null,
            "border": null,
            "bottom": null,
            "display": null,
            "flex": null,
            "flex_flow": null,
            "grid_area": null,
            "grid_auto_columns": null,
            "grid_auto_flow": null,
            "grid_auto_rows": null,
            "grid_column": null,
            "grid_gap": null,
            "grid_row": null,
            "grid_template_areas": null,
            "grid_template_columns": null,
            "grid_template_rows": null,
            "height": null,
            "justify_content": null,
            "justify_items": null,
            "left": null,
            "margin": null,
            "max_height": null,
            "max_width": null,
            "min_height": null,
            "min_width": null,
            "object_fit": null,
            "object_position": null,
            "order": null,
            "overflow": null,
            "overflow_x": null,
            "overflow_y": null,
            "padding": null,
            "right": null,
            "top": null,
            "visibility": null,
            "width": null
          }
        },
        "7a12a26ab41a49428805eabfc60fa9ea": {
          "model_module": "@jupyter-widgets/controls",
          "model_name": "DescriptionStyleModel",
          "model_module_version": "1.5.0",
          "state": {
            "_model_module": "@jupyter-widgets/controls",
            "_model_module_version": "1.5.0",
            "_model_name": "DescriptionStyleModel",
            "_view_count": null,
            "_view_module": "@jupyter-widgets/base",
            "_view_module_version": "1.2.0",
            "_view_name": "StyleView",
            "description_width": ""
          }
        },
        "43b59527e54b402a846e9baefd9c65a7": {
          "model_module": "@jupyter-widgets/base",
          "model_name": "LayoutModel",
          "model_module_version": "1.2.0",
          "state": {
            "_model_module": "@jupyter-widgets/base",
            "_model_module_version": "1.2.0",
            "_model_name": "LayoutModel",
            "_view_count": null,
            "_view_module": "@jupyter-widgets/base",
            "_view_module_version": "1.2.0",
            "_view_name": "LayoutView",
            "align_content": null,
            "align_items": null,
            "align_self": null,
            "border": null,
            "bottom": null,
            "display": null,
            "flex": null,
            "flex_flow": null,
            "grid_area": null,
            "grid_auto_columns": null,
            "grid_auto_flow": null,
            "grid_auto_rows": null,
            "grid_column": null,
            "grid_gap": null,
            "grid_row": null,
            "grid_template_areas": null,
            "grid_template_columns": null,
            "grid_template_rows": null,
            "height": null,
            "justify_content": null,
            "justify_items": null,
            "left": null,
            "margin": null,
            "max_height": null,
            "max_width": null,
            "min_height": null,
            "min_width": null,
            "object_fit": null,
            "object_position": null,
            "order": null,
            "overflow": null,
            "overflow_x": null,
            "overflow_y": null,
            "padding": null,
            "right": null,
            "top": null,
            "visibility": null,
            "width": null
          }
        },
        "25509e82781449359746df1401fb9543": {
          "model_module": "@jupyter-widgets/controls",
          "model_name": "ProgressStyleModel",
          "model_module_version": "1.5.0",
          "state": {
            "_model_module": "@jupyter-widgets/controls",
            "_model_module_version": "1.5.0",
            "_model_name": "ProgressStyleModel",
            "_view_count": null,
            "_view_module": "@jupyter-widgets/base",
            "_view_module_version": "1.2.0",
            "_view_name": "StyleView",
            "bar_color": null,
            "description_width": ""
          }
        },
        "f9e68245c7bc45c4b327bf91932c911f": {
          "model_module": "@jupyter-widgets/base",
          "model_name": "LayoutModel",
          "model_module_version": "1.2.0",
          "state": {
            "_model_module": "@jupyter-widgets/base",
            "_model_module_version": "1.2.0",
            "_model_name": "LayoutModel",
            "_view_count": null,
            "_view_module": "@jupyter-widgets/base",
            "_view_module_version": "1.2.0",
            "_view_name": "LayoutView",
            "align_content": null,
            "align_items": null,
            "align_self": null,
            "border": null,
            "bottom": null,
            "display": null,
            "flex": null,
            "flex_flow": null,
            "grid_area": null,
            "grid_auto_columns": null,
            "grid_auto_flow": null,
            "grid_auto_rows": null,
            "grid_column": null,
            "grid_gap": null,
            "grid_row": null,
            "grid_template_areas": null,
            "grid_template_columns": null,
            "grid_template_rows": null,
            "height": null,
            "justify_content": null,
            "justify_items": null,
            "left": null,
            "margin": null,
            "max_height": null,
            "max_width": null,
            "min_height": null,
            "min_width": null,
            "object_fit": null,
            "object_position": null,
            "order": null,
            "overflow": null,
            "overflow_x": null,
            "overflow_y": null,
            "padding": null,
            "right": null,
            "top": null,
            "visibility": null,
            "width": null
          }
        },
        "03a02ff244a84f2690f953b819eae296": {
          "model_module": "@jupyter-widgets/controls",
          "model_name": "DescriptionStyleModel",
          "model_module_version": "1.5.0",
          "state": {
            "_model_module": "@jupyter-widgets/controls",
            "_model_module_version": "1.5.0",
            "_model_name": "DescriptionStyleModel",
            "_view_count": null,
            "_view_module": "@jupyter-widgets/base",
            "_view_module_version": "1.2.0",
            "_view_name": "StyleView",
            "description_width": ""
          }
        },
        "fd84d4851c3d4d7cb3e8054e5dd9e0e8": {
          "model_module": "@jupyter-widgets/controls",
          "model_name": "HBoxModel",
          "model_module_version": "1.5.0",
          "state": {
            "_dom_classes": [],
            "_model_module": "@jupyter-widgets/controls",
            "_model_module_version": "1.5.0",
            "_model_name": "HBoxModel",
            "_view_count": null,
            "_view_module": "@jupyter-widgets/controls",
            "_view_module_version": "1.5.0",
            "_view_name": "HBoxView",
            "box_style": "",
            "children": [
              "IPY_MODEL_935a874abe554581a9963de481f34609",
              "IPY_MODEL_7976bfa9305742c99e18e2ccb9765a05",
              "IPY_MODEL_d51aa43c3cbf490eacf5960e176cd4e2"
            ],
            "layout": "IPY_MODEL_336960320ef047a29c09f8401ce8b507"
          }
        },
        "935a874abe554581a9963de481f34609": {
          "model_module": "@jupyter-widgets/controls",
          "model_name": "HTMLModel",
          "model_module_version": "1.5.0",
          "state": {
            "_dom_classes": [],
            "_model_module": "@jupyter-widgets/controls",
            "_model_module_version": "1.5.0",
            "_model_name": "HTMLModel",
            "_view_count": null,
            "_view_module": "@jupyter-widgets/controls",
            "_view_module_version": "1.5.0",
            "_view_name": "HTMLView",
            "description": "",
            "description_tooltip": null,
            "layout": "IPY_MODEL_6827750066e04c18940ebec049ec13f2",
            "placeholder": "​",
            "style": "IPY_MODEL_d649953241534f7287efec5d06a4a736",
            "value": "100%"
          }
        },
        "7976bfa9305742c99e18e2ccb9765a05": {
          "model_module": "@jupyter-widgets/controls",
          "model_name": "FloatProgressModel",
          "model_module_version": "1.5.0",
          "state": {
            "_dom_classes": [],
            "_model_module": "@jupyter-widgets/controls",
            "_model_module_version": "1.5.0",
            "_model_name": "FloatProgressModel",
            "_view_count": null,
            "_view_module": "@jupyter-widgets/controls",
            "_view_module_version": "1.5.0",
            "_view_name": "ProgressView",
            "bar_style": "success",
            "description": "",
            "description_tooltip": null,
            "layout": "IPY_MODEL_e6c93de1be694ce8a49d5e08f7ed5662",
            "max": 1,
            "min": 0,
            "orientation": "horizontal",
            "style": "IPY_MODEL_75fe97fa7d1849698e8f91ba6d128712",
            "value": 1
          }
        },
        "d51aa43c3cbf490eacf5960e176cd4e2": {
          "model_module": "@jupyter-widgets/controls",
          "model_name": "HTMLModel",
          "model_module_version": "1.5.0",
          "state": {
            "_dom_classes": [],
            "_model_module": "@jupyter-widgets/controls",
            "_model_module_version": "1.5.0",
            "_model_name": "HTMLModel",
            "_view_count": null,
            "_view_module": "@jupyter-widgets/controls",
            "_view_module_version": "1.5.0",
            "_view_name": "HTMLView",
            "description": "",
            "description_tooltip": null,
            "layout": "IPY_MODEL_ae1c9c0b617b448bb400da925bc3acf9",
            "placeholder": "​",
            "style": "IPY_MODEL_8041b0c911c34d1c86ce5c4cf3da25d6",
            "value": " 1/1 [00:00&lt;00:00, 10.99it/s]"
          }
        },
        "336960320ef047a29c09f8401ce8b507": {
          "model_module": "@jupyter-widgets/base",
          "model_name": "LayoutModel",
          "model_module_version": "1.2.0",
          "state": {
            "_model_module": "@jupyter-widgets/base",
            "_model_module_version": "1.2.0",
            "_model_name": "LayoutModel",
            "_view_count": null,
            "_view_module": "@jupyter-widgets/base",
            "_view_module_version": "1.2.0",
            "_view_name": "LayoutView",
            "align_content": null,
            "align_items": null,
            "align_self": null,
            "border": null,
            "bottom": null,
            "display": null,
            "flex": null,
            "flex_flow": null,
            "grid_area": null,
            "grid_auto_columns": null,
            "grid_auto_flow": null,
            "grid_auto_rows": null,
            "grid_column": null,
            "grid_gap": null,
            "grid_row": null,
            "grid_template_areas": null,
            "grid_template_columns": null,
            "grid_template_rows": null,
            "height": null,
            "justify_content": null,
            "justify_items": null,
            "left": null,
            "margin": null,
            "max_height": null,
            "max_width": null,
            "min_height": null,
            "min_width": null,
            "object_fit": null,
            "object_position": null,
            "order": null,
            "overflow": null,
            "overflow_x": null,
            "overflow_y": null,
            "padding": null,
            "right": null,
            "top": null,
            "visibility": null,
            "width": null
          }
        },
        "6827750066e04c18940ebec049ec13f2": {
          "model_module": "@jupyter-widgets/base",
          "model_name": "LayoutModel",
          "model_module_version": "1.2.0",
          "state": {
            "_model_module": "@jupyter-widgets/base",
            "_model_module_version": "1.2.0",
            "_model_name": "LayoutModel",
            "_view_count": null,
            "_view_module": "@jupyter-widgets/base",
            "_view_module_version": "1.2.0",
            "_view_name": "LayoutView",
            "align_content": null,
            "align_items": null,
            "align_self": null,
            "border": null,
            "bottom": null,
            "display": null,
            "flex": null,
            "flex_flow": null,
            "grid_area": null,
            "grid_auto_columns": null,
            "grid_auto_flow": null,
            "grid_auto_rows": null,
            "grid_column": null,
            "grid_gap": null,
            "grid_row": null,
            "grid_template_areas": null,
            "grid_template_columns": null,
            "grid_template_rows": null,
            "height": null,
            "justify_content": null,
            "justify_items": null,
            "left": null,
            "margin": null,
            "max_height": null,
            "max_width": null,
            "min_height": null,
            "min_width": null,
            "object_fit": null,
            "object_position": null,
            "order": null,
            "overflow": null,
            "overflow_x": null,
            "overflow_y": null,
            "padding": null,
            "right": null,
            "top": null,
            "visibility": null,
            "width": null
          }
        },
        "d649953241534f7287efec5d06a4a736": {
          "model_module": "@jupyter-widgets/controls",
          "model_name": "DescriptionStyleModel",
          "model_module_version": "1.5.0",
          "state": {
            "_model_module": "@jupyter-widgets/controls",
            "_model_module_version": "1.5.0",
            "_model_name": "DescriptionStyleModel",
            "_view_count": null,
            "_view_module": "@jupyter-widgets/base",
            "_view_module_version": "1.2.0",
            "_view_name": "StyleView",
            "description_width": ""
          }
        },
        "e6c93de1be694ce8a49d5e08f7ed5662": {
          "model_module": "@jupyter-widgets/base",
          "model_name": "LayoutModel",
          "model_module_version": "1.2.0",
          "state": {
            "_model_module": "@jupyter-widgets/base",
            "_model_module_version": "1.2.0",
            "_model_name": "LayoutModel",
            "_view_count": null,
            "_view_module": "@jupyter-widgets/base",
            "_view_module_version": "1.2.0",
            "_view_name": "LayoutView",
            "align_content": null,
            "align_items": null,
            "align_self": null,
            "border": null,
            "bottom": null,
            "display": null,
            "flex": null,
            "flex_flow": null,
            "grid_area": null,
            "grid_auto_columns": null,
            "grid_auto_flow": null,
            "grid_auto_rows": null,
            "grid_column": null,
            "grid_gap": null,
            "grid_row": null,
            "grid_template_areas": null,
            "grid_template_columns": null,
            "grid_template_rows": null,
            "height": null,
            "justify_content": null,
            "justify_items": null,
            "left": null,
            "margin": null,
            "max_height": null,
            "max_width": null,
            "min_height": null,
            "min_width": null,
            "object_fit": null,
            "object_position": null,
            "order": null,
            "overflow": null,
            "overflow_x": null,
            "overflow_y": null,
            "padding": null,
            "right": null,
            "top": null,
            "visibility": null,
            "width": null
          }
        },
        "75fe97fa7d1849698e8f91ba6d128712": {
          "model_module": "@jupyter-widgets/controls",
          "model_name": "ProgressStyleModel",
          "model_module_version": "1.5.0",
          "state": {
            "_model_module": "@jupyter-widgets/controls",
            "_model_module_version": "1.5.0",
            "_model_name": "ProgressStyleModel",
            "_view_count": null,
            "_view_module": "@jupyter-widgets/base",
            "_view_module_version": "1.2.0",
            "_view_name": "StyleView",
            "bar_color": null,
            "description_width": ""
          }
        },
        "ae1c9c0b617b448bb400da925bc3acf9": {
          "model_module": "@jupyter-widgets/base",
          "model_name": "LayoutModel",
          "model_module_version": "1.2.0",
          "state": {
            "_model_module": "@jupyter-widgets/base",
            "_model_module_version": "1.2.0",
            "_model_name": "LayoutModel",
            "_view_count": null,
            "_view_module": "@jupyter-widgets/base",
            "_view_module_version": "1.2.0",
            "_view_name": "LayoutView",
            "align_content": null,
            "align_items": null,
            "align_self": null,
            "border": null,
            "bottom": null,
            "display": null,
            "flex": null,
            "flex_flow": null,
            "grid_area": null,
            "grid_auto_columns": null,
            "grid_auto_flow": null,
            "grid_auto_rows": null,
            "grid_column": null,
            "grid_gap": null,
            "grid_row": null,
            "grid_template_areas": null,
            "grid_template_columns": null,
            "grid_template_rows": null,
            "height": null,
            "justify_content": null,
            "justify_items": null,
            "left": null,
            "margin": null,
            "max_height": null,
            "max_width": null,
            "min_height": null,
            "min_width": null,
            "object_fit": null,
            "object_position": null,
            "order": null,
            "overflow": null,
            "overflow_x": null,
            "overflow_y": null,
            "padding": null,
            "right": null,
            "top": null,
            "visibility": null,
            "width": null
          }
        },
        "8041b0c911c34d1c86ce5c4cf3da25d6": {
          "model_module": "@jupyter-widgets/controls",
          "model_name": "DescriptionStyleModel",
          "model_module_version": "1.5.0",
          "state": {
            "_model_module": "@jupyter-widgets/controls",
            "_model_module_version": "1.5.0",
            "_model_name": "DescriptionStyleModel",
            "_view_count": null,
            "_view_module": "@jupyter-widgets/base",
            "_view_module_version": "1.2.0",
            "_view_name": "StyleView",
            "description_width": ""
          }
        },
        "65bac708cb984be1b78b857bb8d04d76": {
          "model_module": "@jupyter-widgets/controls",
          "model_name": "HBoxModel",
          "model_module_version": "1.5.0",
          "state": {
            "_dom_classes": [],
            "_model_module": "@jupyter-widgets/controls",
            "_model_module_version": "1.5.0",
            "_model_name": "HBoxModel",
            "_view_count": null,
            "_view_module": "@jupyter-widgets/controls",
            "_view_module_version": "1.5.0",
            "_view_name": "HBoxView",
            "box_style": "",
            "children": [
              "IPY_MODEL_dd423754dd7c4447a7e253cdebc8cb8c",
              "IPY_MODEL_732ee13f5e7140c8b1498516b195a0dc",
              "IPY_MODEL_f19c0433c8fd452eac7380929621c404"
            ],
            "layout": "IPY_MODEL_04a6aecd97b949028c306dd48607659a"
          }
        },
        "dd423754dd7c4447a7e253cdebc8cb8c": {
          "model_module": "@jupyter-widgets/controls",
          "model_name": "HTMLModel",
          "model_module_version": "1.5.0",
          "state": {
            "_dom_classes": [],
            "_model_module": "@jupyter-widgets/controls",
            "_model_module_version": "1.5.0",
            "_model_name": "HTMLModel",
            "_view_count": null,
            "_view_module": "@jupyter-widgets/controls",
            "_view_module_version": "1.5.0",
            "_view_name": "HTMLView",
            "description": "",
            "description_tooltip": null,
            "layout": "IPY_MODEL_2e75df4069784a0dae8f63df52751a92",
            "placeholder": "​",
            "style": "IPY_MODEL_7f9500d7eeca4c85a8b2be17437b4db7",
            "value": "Featurizing p: 100%"
          }
        },
        "732ee13f5e7140c8b1498516b195a0dc": {
          "model_module": "@jupyter-widgets/controls",
          "model_name": "FloatProgressModel",
          "model_module_version": "1.5.0",
          "state": {
            "_dom_classes": [],
            "_model_module": "@jupyter-widgets/controls",
            "_model_module_version": "1.5.0",
            "_model_name": "FloatProgressModel",
            "_view_count": null,
            "_view_module": "@jupyter-widgets/controls",
            "_view_module_version": "1.5.0",
            "_view_name": "ProgressView",
            "bar_style": "success",
            "description": "",
            "description_tooltip": null,
            "layout": "IPY_MODEL_820b236dd2bd4600a0a8fe9b6ff3b8d4",
            "max": 3,
            "min": 0,
            "orientation": "horizontal",
            "style": "IPY_MODEL_d0256c4c7fa4451e86badb12beeaf7b9",
            "value": 3
          }
        },
        "f19c0433c8fd452eac7380929621c404": {
          "model_module": "@jupyter-widgets/controls",
          "model_name": "HTMLModel",
          "model_module_version": "1.5.0",
          "state": {
            "_dom_classes": [],
            "_model_module": "@jupyter-widgets/controls",
            "_model_module_version": "1.5.0",
            "_model_name": "HTMLModel",
            "_view_count": null,
            "_view_module": "@jupyter-widgets/controls",
            "_view_module_version": "1.5.0",
            "_view_name": "HTMLView",
            "description": "",
            "description_tooltip": null,
            "layout": "IPY_MODEL_9ab55bca636c4f858e0478f5678a8830",
            "placeholder": "​",
            "style": "IPY_MODEL_e69abf5c5d7f4c8ca8de5761e639862f",
            "value": " 3/3 [00:03&lt;00:00,  1.01it/s]"
          }
        },
        "04a6aecd97b949028c306dd48607659a": {
          "model_module": "@jupyter-widgets/base",
          "model_name": "LayoutModel",
          "model_module_version": "1.2.0",
          "state": {
            "_model_module": "@jupyter-widgets/base",
            "_model_module_version": "1.2.0",
            "_model_name": "LayoutModel",
            "_view_count": null,
            "_view_module": "@jupyter-widgets/base",
            "_view_module_version": "1.2.0",
            "_view_name": "LayoutView",
            "align_content": null,
            "align_items": null,
            "align_self": null,
            "border": null,
            "bottom": null,
            "display": null,
            "flex": null,
            "flex_flow": null,
            "grid_area": null,
            "grid_auto_columns": null,
            "grid_auto_flow": null,
            "grid_auto_rows": null,
            "grid_column": null,
            "grid_gap": null,
            "grid_row": null,
            "grid_template_areas": null,
            "grid_template_columns": null,
            "grid_template_rows": null,
            "height": null,
            "justify_content": null,
            "justify_items": null,
            "left": null,
            "margin": null,
            "max_height": null,
            "max_width": null,
            "min_height": null,
            "min_width": null,
            "object_fit": null,
            "object_position": null,
            "order": null,
            "overflow": null,
            "overflow_x": null,
            "overflow_y": null,
            "padding": null,
            "right": null,
            "top": null,
            "visibility": null,
            "width": null
          }
        },
        "2e75df4069784a0dae8f63df52751a92": {
          "model_module": "@jupyter-widgets/base",
          "model_name": "LayoutModel",
          "model_module_version": "1.2.0",
          "state": {
            "_model_module": "@jupyter-widgets/base",
            "_model_module_version": "1.2.0",
            "_model_name": "LayoutModel",
            "_view_count": null,
            "_view_module": "@jupyter-widgets/base",
            "_view_module_version": "1.2.0",
            "_view_name": "LayoutView",
            "align_content": null,
            "align_items": null,
            "align_self": null,
            "border": null,
            "bottom": null,
            "display": null,
            "flex": null,
            "flex_flow": null,
            "grid_area": null,
            "grid_auto_columns": null,
            "grid_auto_flow": null,
            "grid_auto_rows": null,
            "grid_column": null,
            "grid_gap": null,
            "grid_row": null,
            "grid_template_areas": null,
            "grid_template_columns": null,
            "grid_template_rows": null,
            "height": null,
            "justify_content": null,
            "justify_items": null,
            "left": null,
            "margin": null,
            "max_height": null,
            "max_width": null,
            "min_height": null,
            "min_width": null,
            "object_fit": null,
            "object_position": null,
            "order": null,
            "overflow": null,
            "overflow_x": null,
            "overflow_y": null,
            "padding": null,
            "right": null,
            "top": null,
            "visibility": null,
            "width": null
          }
        },
        "7f9500d7eeca4c85a8b2be17437b4db7": {
          "model_module": "@jupyter-widgets/controls",
          "model_name": "DescriptionStyleModel",
          "model_module_version": "1.5.0",
          "state": {
            "_model_module": "@jupyter-widgets/controls",
            "_model_module_version": "1.5.0",
            "_model_name": "DescriptionStyleModel",
            "_view_count": null,
            "_view_module": "@jupyter-widgets/base",
            "_view_module_version": "1.2.0",
            "_view_name": "StyleView",
            "description_width": ""
          }
        },
        "820b236dd2bd4600a0a8fe9b6ff3b8d4": {
          "model_module": "@jupyter-widgets/base",
          "model_name": "LayoutModel",
          "model_module_version": "1.2.0",
          "state": {
            "_model_module": "@jupyter-widgets/base",
            "_model_module_version": "1.2.0",
            "_model_name": "LayoutModel",
            "_view_count": null,
            "_view_module": "@jupyter-widgets/base",
            "_view_module_version": "1.2.0",
            "_view_name": "LayoutView",
            "align_content": null,
            "align_items": null,
            "align_self": null,
            "border": null,
            "bottom": null,
            "display": null,
            "flex": null,
            "flex_flow": null,
            "grid_area": null,
            "grid_auto_columns": null,
            "grid_auto_flow": null,
            "grid_auto_rows": null,
            "grid_column": null,
            "grid_gap": null,
            "grid_row": null,
            "grid_template_areas": null,
            "grid_template_columns": null,
            "grid_template_rows": null,
            "height": null,
            "justify_content": null,
            "justify_items": null,
            "left": null,
            "margin": null,
            "max_height": null,
            "max_width": null,
            "min_height": null,
            "min_width": null,
            "object_fit": null,
            "object_position": null,
            "order": null,
            "overflow": null,
            "overflow_x": null,
            "overflow_y": null,
            "padding": null,
            "right": null,
            "top": null,
            "visibility": null,
            "width": null
          }
        },
        "d0256c4c7fa4451e86badb12beeaf7b9": {
          "model_module": "@jupyter-widgets/controls",
          "model_name": "ProgressStyleModel",
          "model_module_version": "1.5.0",
          "state": {
            "_model_module": "@jupyter-widgets/controls",
            "_model_module_version": "1.5.0",
            "_model_name": "ProgressStyleModel",
            "_view_count": null,
            "_view_module": "@jupyter-widgets/base",
            "_view_module_version": "1.2.0",
            "_view_name": "StyleView",
            "bar_color": null,
            "description_width": ""
          }
        },
        "9ab55bca636c4f858e0478f5678a8830": {
          "model_module": "@jupyter-widgets/base",
          "model_name": "LayoutModel",
          "model_module_version": "1.2.0",
          "state": {
            "_model_module": "@jupyter-widgets/base",
            "_model_module_version": "1.2.0",
            "_model_name": "LayoutModel",
            "_view_count": null,
            "_view_module": "@jupyter-widgets/base",
            "_view_module_version": "1.2.0",
            "_view_name": "LayoutView",
            "align_content": null,
            "align_items": null,
            "align_self": null,
            "border": null,
            "bottom": null,
            "display": null,
            "flex": null,
            "flex_flow": null,
            "grid_area": null,
            "grid_auto_columns": null,
            "grid_auto_flow": null,
            "grid_auto_rows": null,
            "grid_column": null,
            "grid_gap": null,
            "grid_row": null,
            "grid_template_areas": null,
            "grid_template_columns": null,
            "grid_template_rows": null,
            "height": null,
            "justify_content": null,
            "justify_items": null,
            "left": null,
            "margin": null,
            "max_height": null,
            "max_width": null,
            "min_height": null,
            "min_width": null,
            "object_fit": null,
            "object_position": null,
            "order": null,
            "overflow": null,
            "overflow_x": null,
            "overflow_y": null,
            "padding": null,
            "right": null,
            "top": null,
            "visibility": null,
            "width": null
          }
        },
        "e69abf5c5d7f4c8ca8de5761e639862f": {
          "model_module": "@jupyter-widgets/controls",
          "model_name": "DescriptionStyleModel",
          "model_module_version": "1.5.0",
          "state": {
            "_model_module": "@jupyter-widgets/controls",
            "_model_module_version": "1.5.0",
            "_model_name": "DescriptionStyleModel",
            "_view_count": null,
            "_view_module": "@jupyter-widgets/base",
            "_view_module_version": "1.2.0",
            "_view_name": "StyleView",
            "description_width": ""
          }
        },
        "191eee54493146d1a240a5c364d542f4": {
          "model_module": "@jupyter-widgets/controls",
          "model_name": "HBoxModel",
          "model_module_version": "1.5.0",
          "state": {
            "_dom_classes": [],
            "_model_module": "@jupyter-widgets/controls",
            "_model_module_version": "1.5.0",
            "_model_name": "HBoxModel",
            "_view_count": null,
            "_view_module": "@jupyter-widgets/controls",
            "_view_module_version": "1.5.0",
            "_view_name": "HBoxView",
            "box_style": "",
            "children": [
              "IPY_MODEL_7b00ba3a1e89420e8cf70763ef29b198",
              "IPY_MODEL_8d523484154e4007ab52e30b86169976",
              "IPY_MODEL_a54d5936105b4cc6b9e621d88a23ae51"
            ],
            "layout": "IPY_MODEL_721685954b964f0dbec929fca8cde6e2"
          }
        },
        "7b00ba3a1e89420e8cf70763ef29b198": {
          "model_module": "@jupyter-widgets/controls",
          "model_name": "HTMLModel",
          "model_module_version": "1.5.0",
          "state": {
            "_dom_classes": [],
            "_model_module": "@jupyter-widgets/controls",
            "_model_module_version": "1.5.0",
            "_model_name": "HTMLModel",
            "_view_count": null,
            "_view_module": "@jupyter-widgets/controls",
            "_view_module_version": "1.5.0",
            "_view_name": "HTMLView",
            "description": "",
            "description_tooltip": null,
            "layout": "IPY_MODEL_c56202284e3f41deacf2057a78dcd7d6",
            "placeholder": "​",
            "style": "IPY_MODEL_e383479340fe41f4808e72ad7e55a07d",
            "value": "Featurizing q: 100%"
          }
        },
        "8d523484154e4007ab52e30b86169976": {
          "model_module": "@jupyter-widgets/controls",
          "model_name": "FloatProgressModel",
          "model_module_version": "1.5.0",
          "state": {
            "_dom_classes": [],
            "_model_module": "@jupyter-widgets/controls",
            "_model_module_version": "1.5.0",
            "_model_name": "FloatProgressModel",
            "_view_count": null,
            "_view_module": "@jupyter-widgets/controls",
            "_view_module_version": "1.5.0",
            "_view_name": "ProgressView",
            "bar_style": "success",
            "description": "",
            "description_tooltip": null,
            "layout": "IPY_MODEL_1fa453c9362441ea9d89b8702a1265a2",
            "max": 3,
            "min": 0,
            "orientation": "horizontal",
            "style": "IPY_MODEL_f0562f7cb2544a30b725fe98fcb9a498",
            "value": 3
          }
        },
        "a54d5936105b4cc6b9e621d88a23ae51": {
          "model_module": "@jupyter-widgets/controls",
          "model_name": "HTMLModel",
          "model_module_version": "1.5.0",
          "state": {
            "_dom_classes": [],
            "_model_module": "@jupyter-widgets/controls",
            "_model_module_version": "1.5.0",
            "_model_name": "HTMLModel",
            "_view_count": null,
            "_view_module": "@jupyter-widgets/controls",
            "_view_module_version": "1.5.0",
            "_view_name": "HTMLView",
            "description": "",
            "description_tooltip": null,
            "layout": "IPY_MODEL_598101975f7947ddb8983e13aedf7e50",
            "placeholder": "​",
            "style": "IPY_MODEL_4f1c24346ab341a2a0bbaea1dc00d711",
            "value": " 3/3 [00:02&lt;00:00,  1.54it/s]"
          }
        },
        "721685954b964f0dbec929fca8cde6e2": {
          "model_module": "@jupyter-widgets/base",
          "model_name": "LayoutModel",
          "model_module_version": "1.2.0",
          "state": {
            "_model_module": "@jupyter-widgets/base",
            "_model_module_version": "1.2.0",
            "_model_name": "LayoutModel",
            "_view_count": null,
            "_view_module": "@jupyter-widgets/base",
            "_view_module_version": "1.2.0",
            "_view_name": "LayoutView",
            "align_content": null,
            "align_items": null,
            "align_self": null,
            "border": null,
            "bottom": null,
            "display": null,
            "flex": null,
            "flex_flow": null,
            "grid_area": null,
            "grid_auto_columns": null,
            "grid_auto_flow": null,
            "grid_auto_rows": null,
            "grid_column": null,
            "grid_gap": null,
            "grid_row": null,
            "grid_template_areas": null,
            "grid_template_columns": null,
            "grid_template_rows": null,
            "height": null,
            "justify_content": null,
            "justify_items": null,
            "left": null,
            "margin": null,
            "max_height": null,
            "max_width": null,
            "min_height": null,
            "min_width": null,
            "object_fit": null,
            "object_position": null,
            "order": null,
            "overflow": null,
            "overflow_x": null,
            "overflow_y": null,
            "padding": null,
            "right": null,
            "top": null,
            "visibility": null,
            "width": null
          }
        },
        "c56202284e3f41deacf2057a78dcd7d6": {
          "model_module": "@jupyter-widgets/base",
          "model_name": "LayoutModel",
          "model_module_version": "1.2.0",
          "state": {
            "_model_module": "@jupyter-widgets/base",
            "_model_module_version": "1.2.0",
            "_model_name": "LayoutModel",
            "_view_count": null,
            "_view_module": "@jupyter-widgets/base",
            "_view_module_version": "1.2.0",
            "_view_name": "LayoutView",
            "align_content": null,
            "align_items": null,
            "align_self": null,
            "border": null,
            "bottom": null,
            "display": null,
            "flex": null,
            "flex_flow": null,
            "grid_area": null,
            "grid_auto_columns": null,
            "grid_auto_flow": null,
            "grid_auto_rows": null,
            "grid_column": null,
            "grid_gap": null,
            "grid_row": null,
            "grid_template_areas": null,
            "grid_template_columns": null,
            "grid_template_rows": null,
            "height": null,
            "justify_content": null,
            "justify_items": null,
            "left": null,
            "margin": null,
            "max_height": null,
            "max_width": null,
            "min_height": null,
            "min_width": null,
            "object_fit": null,
            "object_position": null,
            "order": null,
            "overflow": null,
            "overflow_x": null,
            "overflow_y": null,
            "padding": null,
            "right": null,
            "top": null,
            "visibility": null,
            "width": null
          }
        },
        "e383479340fe41f4808e72ad7e55a07d": {
          "model_module": "@jupyter-widgets/controls",
          "model_name": "DescriptionStyleModel",
          "model_module_version": "1.5.0",
          "state": {
            "_model_module": "@jupyter-widgets/controls",
            "_model_module_version": "1.5.0",
            "_model_name": "DescriptionStyleModel",
            "_view_count": null,
            "_view_module": "@jupyter-widgets/base",
            "_view_module_version": "1.2.0",
            "_view_name": "StyleView",
            "description_width": ""
          }
        },
        "1fa453c9362441ea9d89b8702a1265a2": {
          "model_module": "@jupyter-widgets/base",
          "model_name": "LayoutModel",
          "model_module_version": "1.2.0",
          "state": {
            "_model_module": "@jupyter-widgets/base",
            "_model_module_version": "1.2.0",
            "_model_name": "LayoutModel",
            "_view_count": null,
            "_view_module": "@jupyter-widgets/base",
            "_view_module_version": "1.2.0",
            "_view_name": "LayoutView",
            "align_content": null,
            "align_items": null,
            "align_self": null,
            "border": null,
            "bottom": null,
            "display": null,
            "flex": null,
            "flex_flow": null,
            "grid_area": null,
            "grid_auto_columns": null,
            "grid_auto_flow": null,
            "grid_auto_rows": null,
            "grid_column": null,
            "grid_gap": null,
            "grid_row": null,
            "grid_template_areas": null,
            "grid_template_columns": null,
            "grid_template_rows": null,
            "height": null,
            "justify_content": null,
            "justify_items": null,
            "left": null,
            "margin": null,
            "max_height": null,
            "max_width": null,
            "min_height": null,
            "min_width": null,
            "object_fit": null,
            "object_position": null,
            "order": null,
            "overflow": null,
            "overflow_x": null,
            "overflow_y": null,
            "padding": null,
            "right": null,
            "top": null,
            "visibility": null,
            "width": null
          }
        },
        "f0562f7cb2544a30b725fe98fcb9a498": {
          "model_module": "@jupyter-widgets/controls",
          "model_name": "ProgressStyleModel",
          "model_module_version": "1.5.0",
          "state": {
            "_model_module": "@jupyter-widgets/controls",
            "_model_module_version": "1.5.0",
            "_model_name": "ProgressStyleModel",
            "_view_count": null,
            "_view_module": "@jupyter-widgets/base",
            "_view_module_version": "1.2.0",
            "_view_name": "StyleView",
            "bar_color": null,
            "description_width": ""
          }
        },
        "598101975f7947ddb8983e13aedf7e50": {
          "model_module": "@jupyter-widgets/base",
          "model_name": "LayoutModel",
          "model_module_version": "1.2.0",
          "state": {
            "_model_module": "@jupyter-widgets/base",
            "_model_module_version": "1.2.0",
            "_model_name": "LayoutModel",
            "_view_count": null,
            "_view_module": "@jupyter-widgets/base",
            "_view_module_version": "1.2.0",
            "_view_name": "LayoutView",
            "align_content": null,
            "align_items": null,
            "align_self": null,
            "border": null,
            "bottom": null,
            "display": null,
            "flex": null,
            "flex_flow": null,
            "grid_area": null,
            "grid_auto_columns": null,
            "grid_auto_flow": null,
            "grid_auto_rows": null,
            "grid_column": null,
            "grid_gap": null,
            "grid_row": null,
            "grid_template_areas": null,
            "grid_template_columns": null,
            "grid_template_rows": null,
            "height": null,
            "justify_content": null,
            "justify_items": null,
            "left": null,
            "margin": null,
            "max_height": null,
            "max_width": null,
            "min_height": null,
            "min_width": null,
            "object_fit": null,
            "object_position": null,
            "order": null,
            "overflow": null,
            "overflow_x": null,
            "overflow_y": null,
            "padding": null,
            "right": null,
            "top": null,
            "visibility": null,
            "width": null
          }
        },
        "4f1c24346ab341a2a0bbaea1dc00d711": {
          "model_module": "@jupyter-widgets/controls",
          "model_name": "DescriptionStyleModel",
          "model_module_version": "1.5.0",
          "state": {
            "_model_module": "@jupyter-widgets/controls",
            "_model_module_version": "1.5.0",
            "_model_name": "DescriptionStyleModel",
            "_view_count": null,
            "_view_module": "@jupyter-widgets/base",
            "_view_module_version": "1.2.0",
            "_view_name": "StyleView",
            "description_width": ""
          }
        }
      }
    }
  },
  "cells": [
    {
      "cell_type": "markdown",
      "metadata": {
        "id": "view-in-github",
        "colab_type": "text"
      },
      "source": [
        "<a href=\"https://colab.research.google.com/github/wesslen/llm-evaluations/blob/main/notebooks/01_llm_evaluations_reference_based.ipynb\" target=\"_parent\"><img src=\"https://colab.research.google.com/assets/colab-badge.svg\" alt=\"Open In Colab\"/></a>"
      ]
    },
    {
      "cell_type": "markdown",
      "source": [
        "## Libraries"
      ],
      "metadata": {
        "id": "Gj855NHjMGIY"
      }
    },
    {
      "cell_type": "code",
      "source": [
        "%%capture\n",
        "# use uv for virtual environment https://docs.astral.sh/uv/\n",
        "!uv pip install --system bert-score rouge-score sacrebleu evaluate transformers moverscore pytorch-pretrained-bert pyemd unbabel-comet mauve-text"
      ],
      "metadata": {
        "id": "wvnKX79I7YPE"
      },
      "execution_count": 1,
      "outputs": []
    },
    {
      "cell_type": "markdown",
      "source": [
        "> ⚠ This notebook uses a GPU (T4, which is free on Colab). If you run on Colab, be sure to set by Connect > Change Runtime type. For running on more examples, you may want to use more powerful GPUs like A100 or H100s.\n",
        "\n",
        "## Reference-based Generative Metrics\n",
        "\n",
        "<img src=\"https://arxiv.org/html/2408.09169v1/extracted/5797240/figures/metric_families_usage_across_venues-2.png\" alt=\"Automatic Metrics in Natural Language Generation:\n",
        "A Survey of Current Evaluation Practices\" width=\"300\"/>\n",
        "\n",
        "[Automatic Metrics in Natural Language Generation:\n",
        "A Survey of Current Evaluation Practices](https://arxiv.org/abs/2408.09169v1), Schmidtová et al., 2024\n",
        "\n",
        "The paper includes a detailed metric taxonomy (see [Appendix](#Appendix)).\n",
        "\n",
        "Let's start with the most popular: Overlap-based metrics like BLEU, ROUGE, and METEOR.\n",
        "\n",
        "For a great overview of BLEU vs ROUGE, see [Clément Brutti-Mairesse's blog post on them](https://clementbm.github.io/theory/2021/12/23/rouge-bleu-scores.html) (figures below).\n",
        "\n",
        "| Category | Family | Example Metrics |\n",
        "|----------|---------|-----------------|\n",
        "| Overlap | BLEU | • BLEU-1/2/3/4<br>• SacreBLEU<br>• Self-BLEU |\n",
        "| | ROUGE | • ROUGE-1/2/L<br>• ROUGE-F1 |\n",
        "| | Other Overlap | • METEOR<br>• CIDEr<br>• PARENT |\n"
      ],
      "metadata": {
        "id": "OCdK5dur45UQ"
      }
    },
    {
      "cell_type": "markdown",
      "source": [
        "## Overlap\n",
        "\n",
        "### ROUGE\n",
        "\n",
        "Initially made for summary evaluations (**R**ecall-**O**riented **U**nderstudy for **G**isting **E**valuation).\n",
        "\n",
        "ROUGE scores are based on F1-score of n-gram overlap.\n",
        "\n",
        "![](https://clementbm.github.io/assets/2021-12-23/rouge-unigrams.png)"
      ],
      "metadata": {
        "id": "CiUoUPggCubU"
      }
    },
    {
      "cell_type": "code",
      "source": [
        "%%time\n",
        "from rouge_score import rouge_scorer\n",
        "\n",
        "# Sample texts for evaluation\n",
        "reference = \"The way to make people trustworthy is to trust them\"\n",
        "candidate = \"To make people trustworthy, you need to trust them\"\n",
        "\n",
        "scorer = rouge_scorer.RougeScorer(['rouge1', 'rouge2', 'rougeL'], use_stemmer=True)\n",
        "scores = scorer.score(candidate, reference)\n",
        "\n",
        "print(\"ROUGE Score Results:\")\n",
        "print(f\"ROUGE-1: {scores['rouge1'].fmeasure:.3f}\")\n",
        "print(f\"ROUGE-2: {scores['rouge2'].fmeasure:.3f}\")\n",
        "print(f\"ROUGE-L: {scores['rougeL'].fmeasure:.3f}\")\n",
        "print(\"\\n\")"
      ],
      "metadata": {
        "colab": {
          "base_uri": "https://localhost:8080/"
        },
        "id": "VVsN7wLM4PCX",
        "outputId": "aa91e2c6-2a45-4f39-fee9-e775f59c4968"
      },
      "execution_count": 2,
      "outputs": [
        {
          "output_type": "stream",
          "name": "stdout",
          "text": [
            "ROUGE Score Results:\n",
            "ROUGE-1: 0.737\n",
            "ROUGE-2: 0.588\n",
            "ROUGE-L: 0.737\n",
            "\n",
            "\n",
            "CPU times: user 1.42 s, sys: 205 ms, total: 1.63 s\n",
            "Wall time: 2.37 s\n"
          ]
        }
      ]
    },
    {
      "cell_type": "markdown",
      "source": [
        "> Unigram matches tend to measure adequacy while longer n-grams matches account for fluency."
      ],
      "metadata": {
        "id": "5_y7TugU2F0u"
      }
    },
    {
      "cell_type": "markdown",
      "source": [
        "### BLEU\n",
        "\n",
        "\n",
        "BLEU (Bilingual Evaluation Understudy): is used for **machine translation**. In fact, [Reiter 2018](https://direct.mit.edu/coli/article/44/3/393/1598/A-Structured-Review-of-the-Validity-of-BLEU) found\n",
        "\n",
        "> Overall, the evidence supports using BLEU for diagnostic evaluation of MT systems (which is what it was originally proposed for), but **does not support using BLEU outside of MT**, for evaluation of individual texts, or for scientific hypothesis\n",
        "testing.\n",
        "\n",
        "BLEU measures the precision of token overlap through n-grams between a reference (e.g., gold standard) and a model's prediction (i.e., candidate or system)."
      ],
      "metadata": {
        "id": "N4akPi3X40UY"
      }
    },
    {
      "cell_type": "code",
      "source": [
        "# input / source -- what should be translated\n",
        "source_texts = [\n",
        "    \"Hello, my dog is cute\",\n",
        "    \"The weather is nice today\",\n",
        "    \"I love programming\"\n",
        "]\n",
        "\n",
        "# hypothetical model predictions\n",
        "candidates = [\n",
        "    \"Salut, mon chien est mignon\",\n",
        "    \"Le temps est beau aujourd'hui\",\n",
        "    \"J'adore la programmation\"\n",
        "]\n",
        "\n",
        "# gold standard (references)\n",
        "references = [\n",
        "    [\n",
        "      \"Bonjour, mon chien est mignon\",\n",
        "      \"Le temps est beau aujourd'hui\",\n",
        "      \"J'aime la programmation\"\n",
        "    ]\n",
        "]"
      ],
      "metadata": {
        "id": "FX_FBRZws6pN"
      },
      "execution_count": 3,
      "outputs": []
    },
    {
      "cell_type": "markdown",
      "source": [
        "`sacrebleu` provides a standardized way to calculate BLEU. SacreBLEU expects references as a list of lists (multiple references per translation) ([see docs](https://github.com/mjpost/sacrebleu/tree/master#using-sacrebleu-from-python))."
      ],
      "metadata": {
        "id": "l7LtLD752096"
      }
    },
    {
      "cell_type": "code",
      "source": [
        "%%time\n",
        "from sacrebleu.metrics import BLEU\n",
        "\n",
        "bleu = BLEU()\n",
        "bleu_result = bleu.corpus_score(candidates, references)\n",
        "\n",
        "print(\"BLEU Score Results:\")\n",
        "print(f\"BLEU Score: {bleu_result.score:.3f}\")\n",
        "print(f\"Counts: {bleu_result.counts}\")\n",
        "print(f\"Totals: {bleu_result.totals}\")\n",
        "print(f\"Precisions: {[f'{p:.1f}' for p in bleu_result.precisions]}\")\n",
        "print(f\"Brevity Penalty: {bleu_result.bp:.3f}\")\n",
        "print(\"\\n\")"
      ],
      "metadata": {
        "colab": {
          "base_uri": "https://localhost:8080/"
        },
        "id": "XK3HDweY4Tux",
        "outputId": "b9b8b693-bd2a-4874-94df-0e1c13c79e6f"
      },
      "execution_count": 4,
      "outputs": [
        {
          "output_type": "stream",
          "name": "stdout",
          "text": [
            "BLEU Score Results:\n",
            "BLEU Score: 80.540\n",
            "Counts: [12, 9, 6, 4]\n",
            "Totals: [14, 11, 8, 5]\n",
            "Precisions: ['85.7', '81.8', '75.0', '80.0']\n",
            "Brevity Penalty: 1.000\n",
            "\n",
            "\n",
            "CPU times: user 29.1 ms, sys: 6.09 ms, total: 35.2 ms\n",
            "Wall time: 41.8 ms\n"
          ]
        }
      ]
    },
    {
      "cell_type": "markdown",
      "source": [
        "## BLEU Score Calculation\n",
        "\n",
        "### 1. N-gram Matches\n",
        "* Count matching n-grams (1 to 4) between candidate and references\n",
        "* Example for 1st sentence unigrams:\n",
        "```\n",
        "Candidate: \"Salut(1), mon(1), chien(1), est(1), mignon(1)\"\n",
        "Reference: \"Bonjour, mon(1), chien(1), est(1), mignon(1)\"\n",
        "```\n",
        "→ 4/5 matches\n",
        "\n",
        "### 2. Precision Calculation\n",
        "\n",
        "Counts/Totals for each n-gram:\n",
        "\n",
        "* Unigrams: 12/14 = 85.7%\n",
        "* Bigrams: 9/11 = 81.8%\n",
        "* Trigrams: 6/8 = 75.0%\n",
        "* 4-grams: 4/5 = 80.0%\n",
        "\n",
        "### 3. Final BLEU\n",
        "\n",
        "* Geometric mean of precisions: `exp(0.25 * sum(log(p)))`\n",
        "* Brevity Penalty = 1.0 (candidates not shorter than references)\n",
        "* BLEU = `BP * exp(0.25 * sum(log(p))) = 80.540`\n",
        "\n",
        "The differences in scores come from words like \"Salut\" vs \"Bonjour\" and \"J'adore\" vs \"J'aime\"."
      ],
      "metadata": {
        "id": "yne6F0aN5ubA"
      }
    },
    {
      "cell_type": "code",
      "source": [
        "bleu_result"
      ],
      "metadata": {
        "id": "VYCzNUZY8-Wl",
        "outputId": "b6de257d-7931-46e7-99af-5434ba78dab2",
        "colab": {
          "base_uri": "https://localhost:8080/"
        }
      },
      "execution_count": 5,
      "outputs": [
        {
          "output_type": "execute_result",
          "data": {
            "text/plain": [
              "BLEU = 80.54 85.7/81.8/75.0/80.0 (BP = 1.000 ratio = 1.000 hyp_len = 14 ref_len = 14)"
            ]
          },
          "metadata": {},
          "execution_count": 5
        }
      ]
    },
    {
      "cell_type": "code",
      "source": [
        "# provides how calculated\n",
        "bleu.get_signature()"
      ],
      "metadata": {
        "id": "WRkJuZNACoPJ",
        "outputId": "ede3be32-6b5b-42c5-8250-050831b97f56",
        "colab": {
          "base_uri": "https://localhost:8080/"
        }
      },
      "execution_count": 6,
      "outputs": [
        {
          "output_type": "execute_result",
          "data": {
            "text/plain": [
              "nrefs:1|case:mixed|eff:no|tok:13a|smooth:exp|version:2.4.3"
            ]
          },
          "metadata": {},
          "execution_count": 6
        }
      ]
    },
    {
      "cell_type": "markdown",
      "source": [
        "<img src=\"https://arxiv.org/html/2408.09169v1/extracted/5797240/figures/BLEU_and_ROUGE_variants.png\" alt=\"BLEU and ROUGE variant counts across INLG and ACL papers\" width=\"600\"/>\n",
        "\n",
        "In 2023 major NLP and NLG conferences (INLG and ACL papers), the  majority of papers used BLEU or ROUGE-L."
      ],
      "metadata": {
        "id": "LVayo3xYBpYT"
      }
    },
    {
      "cell_type": "markdown",
      "source": [
        "### METEOR\n",
        "\n",
        "METEOR, is a machine translation evaluation metric  based on a generalized concept of unigram matching between the machine-produced translation and human-produced reference translations.\n",
        "\n",
        "METEOR evaluates text using unigram matching (exact, stemmed, synonym with WordNet) and computes an F-score, including a penalty for fragmented matches.\n",
        "\n",
        "![](https://img1.wsimg.com/isteam/ip/683a65a0-e168-404b-b9c7-0971d8289f02/METEOR.png/:/cr=t:0%25,l:0%25,w:100%25,h:100%25/rs=w:1280)"
      ],
      "metadata": {
        "id": "0rscr7WN6Rto"
      }
    },
    {
      "cell_type": "code",
      "source": [
        "import nltk\n",
        "from nltk.translate import meteor_score\n",
        "from nltk.translate.meteor_score import meteor_score as meteor\n",
        "from nltk.tokenize import word_tokenize\n",
        "\n",
        "nltk.download('punkt', quiet=True)\n",
        "nltk.download('punkt_tab', quiet=True)\n",
        "nltk.download('wordnet', quiet=True)\n",
        "\n",
        "# Example showing METEOR's handling of synonyms\n",
        "references = [\"The cat is sitting on the mat.\"]\n",
        "candidates = [\n",
        "    \"The cat is sitting on the mat.\",  # Exact match\n",
        "    \"The feline is sitting on the mat.\",  # Synonym\n",
        "    \"The cat is resting on the mat.\",  # Synonym\n",
        "    \"A dog is sitting on the mat.\"  # Different meaning\n",
        "]\n",
        "\n",
        "# convert to a function\n",
        "def meteor_score_single(reference, candidate):\n",
        "    ref_tokens = word_tokenize(reference)\n",
        "    cand_tokens = word_tokenize(candidate)\n",
        "    return meteor_score.single_meteor_score(ref_tokens, cand_tokens)\n",
        "\n",
        "print(\"\\nSynonym Handling Example:\")\n",
        "print(f\"Reference: {references[0]}\")\n",
        "print(\"\\nCandidate Scores:\")\n",
        "for candidate in candidates:\n",
        "    score = meteor_score_single(references[0], candidate)\n",
        "    print(f\"'{candidate}': {score:.3f}\")"
      ],
      "metadata": {
        "id": "7sBJvNis6XOr",
        "outputId": "a00f49de-fb87-499a-fccf-af85303dbd71",
        "colab": {
          "base_uri": "https://localhost:8080/"
        }
      },
      "execution_count": 7,
      "outputs": [
        {
          "output_type": "stream",
          "name": "stdout",
          "text": [
            "\n",
            "Synonym Handling Example:\n",
            "Reference: The cat is sitting on the mat.\n",
            "\n",
            "Candidate Scores:\n",
            "'The cat is sitting on the mat.': 0.999\n"
          ]
        },
        {
          "output_type": "stream",
          "name": "stderr",
          "text": [
            "Exception in thread Thread-5 (attachment_entry):\n",
            "Traceback (most recent call last):\n",
            "  File \"/usr/local/lib/python3.10/dist-packages/debugpy/server/api.py\", line 237, in listen\n",
            "    sock, _ = endpoints_listener.accept()\n",
            "  File \"/usr/lib/python3.10/socket.py\", line 293, in accept\n",
            "    fd, addr = self._accept()\n",
            "TimeoutError: timed out\n",
            "\n",
            "During handling of the above exception, another exception occurred:\n",
            "\n",
            "Traceback (most recent call last):\n",
            "  File \"/usr/lib/python3.10/threading.py\", line 1016, in _bootstrap_inner\n",
            "    self.run()\n",
            "  File \"/usr/lib/python3.10/threading.py\", line 953, in run\n",
            "    self._target(*self._args, **self._kwargs)\n",
            "  File \"/usr/local/lib/python3.10/dist-packages/google/colab/_debugpy.py\", line 52, in attachment_entry\n",
            "    debugpy.listen(_dap_port)\n",
            "  File \"/usr/local/lib/python3.10/dist-packages/debugpy/public_api.py\", line 31, in wrapper\n",
            "    return wrapped(*args, **kwargs)\n",
            "  File \"/usr/local/lib/python3.10/dist-packages/debugpy/server/api.py\", line 143, in debug\n",
            "    log.reraise_exception(\"{0}() failed:\", func.__name__, level=\"info\")\n",
            "  File \"/usr/local/lib/python3.10/dist-packages/debugpy/server/api.py\", line 141, in debug\n",
            "    return func(address, settrace_kwargs, **kwargs)\n",
            "  File \"/usr/local/lib/python3.10/dist-packages/debugpy/server/api.py\", line 251, in listen\n",
            "    raise RuntimeError(\"timed out waiting for adapter to connect\")\n",
            "RuntimeError: timed out waiting for adapter to connect\n"
          ]
        },
        {
          "output_type": "stream",
          "name": "stdout",
          "text": [
            "'The feline is sitting on the mat.': 0.865\n",
            "'The cat is resting on the mat.': 0.865\n",
            "'A dog is sitting on the mat.': 0.748\n"
          ]
        }
      ]
    },
    {
      "cell_type": "markdown",
      "source": [
        "## Similarity-based\n",
        "\n",
        "| Category | Family | Example Metrics |\n",
        "|----------|---------|-----------------|\n",
        "| Semantic Similarity | BERTScore | • BERTScore (F1/Precision/Recall) |\n",
        "| | BARTScore | • BARTScore (faithfulness/precision/recall) |\n",
        "| | Other Similarity | • Cosine Similarity<br>• SimCSE<br>• Sentence-BERT |\n",
        "\n",
        "\n",
        "### Bert Score\n",
        "\n",
        "Embedding-based evaluates token overlaps using BERT embeddings.\n",
        "\n",
        "![](https://miro.medium.com/v2/resize:fit:700/1*i9IAfRP48Po4JpQTbNfr0g.png)"
      ],
      "metadata": {
        "id": "dyRyKoHn4BQS"
      }
    },
    {
      "cell_type": "code",
      "source": [
        "# input / source -- Same example from earlier\n",
        "source_texts = [\n",
        "    \"Hello, my dog is cute\",\n",
        "    \"The weather is nice today\",\n",
        "    \"I love programming\"\n",
        "]\n",
        "\n",
        "# hypothetical model predictions\n",
        "candidates = [\n",
        "    \"Salut, mon chien est mignon\",\n",
        "    \"Le temps est beau aujourd'hui\",\n",
        "    \"J'adore la programmation\"\n",
        "]\n",
        "\n",
        "# gold standard (references)\n",
        "references = [\n",
        "    [\n",
        "      \"Bonjour, mon chien est mignon\",\n",
        "      \"Le temps est beau aujourd'hui\",\n",
        "      \"J'aime la programmation\"\n",
        "    ]\n",
        "]\n",
        "\n",
        "# uses a different reference format\n",
        "refs2 = [list(ref) for ref in zip(*references)]\n",
        "\n",
        "print(refs2)"
      ],
      "metadata": {
        "id": "OuXZKwPi5jHq",
        "outputId": "826946f5-23ea-46f5-b0ed-665627bd696a",
        "colab": {
          "base_uri": "https://localhost:8080/"
        }
      },
      "execution_count": 8,
      "outputs": [
        {
          "output_type": "stream",
          "name": "stdout",
          "text": [
            "[['Bonjour, mon chien est mignon'], [\"Le temps est beau aujourd'hui\"], [\"J'aime la programmation\"]]\n"
          ]
        }
      ]
    },
    {
      "cell_type": "code",
      "source": [
        "%%time\n",
        "import contextlib\n",
        "import warnings\n",
        "\n",
        "# ignore warnings\n",
        "with warnings.catch_warnings():\n",
        "    warnings.simplefilter(\"ignore\")\n",
        "\n",
        "from bert_score import score\n",
        "\n",
        "P, R, F1 = score(candidates, refs2, lang='en', verbose=True)\n",
        "\n",
        "print(\"BERT Score Results:\")\n",
        "print(f\"Precision: {P.mean().item():.3f}\")\n",
        "print(f\"Recall: {R.mean().item():.3f}\")\n",
        "print(f\"F1: {F1.mean().item():.3f}\")\n",
        "print(\"\\n\")"
      ],
      "metadata": {
        "colab": {
          "base_uri": "https://localhost:8080/",
          "height": 448,
          "referenced_widgets": [
            "2e165d67e1ea40f3976ccfa5ce90d529",
            "c6f00a426a2e4677bf189f3ecfd1d2a7",
            "e1d4761e1250496e8b3441b7d027b202",
            "9f18788ead3a4f02849a1f6fc891226f",
            "b7d552b155e3462c98b8a3af4ba86f73",
            "5690f829a65540b8bd2c60d84a53b854",
            "7a12a26ab41a49428805eabfc60fa9ea",
            "43b59527e54b402a846e9baefd9c65a7",
            "25509e82781449359746df1401fb9543",
            "f9e68245c7bc45c4b327bf91932c911f",
            "03a02ff244a84f2690f953b819eae296",
            "fd84d4851c3d4d7cb3e8054e5dd9e0e8",
            "935a874abe554581a9963de481f34609",
            "7976bfa9305742c99e18e2ccb9765a05",
            "d51aa43c3cbf490eacf5960e176cd4e2",
            "336960320ef047a29c09f8401ce8b507",
            "6827750066e04c18940ebec049ec13f2",
            "d649953241534f7287efec5d06a4a736",
            "e6c93de1be694ce8a49d5e08f7ed5662",
            "75fe97fa7d1849698e8f91ba6d128712",
            "ae1c9c0b617b448bb400da925bc3acf9",
            "8041b0c911c34d1c86ce5c4cf3da25d6"
          ]
        },
        "id": "wTwBTaQ14Ai6",
        "outputId": "64612edf-31df-4a70-ce3b-d5c2e866b7b9"
      },
      "execution_count": 9,
      "outputs": [
        {
          "output_type": "stream",
          "name": "stderr",
          "text": [
            "/usr/local/lib/python3.10/dist-packages/huggingface_hub/utils/_auth.py:94: UserWarning: \n",
            "The secret `HF_TOKEN` does not exist in your Colab secrets.\n",
            "To authenticate with the Hugging Face Hub, create a token in your settings tab (https://huggingface.co/settings/tokens), set it as secret in your Google Colab and restart your session.\n",
            "You will be able to reuse this secret in all of your notebooks.\n",
            "Please note that authentication is recommended but still optional to access public models or datasets.\n",
            "  warnings.warn(\n",
            "Some weights of RobertaModel were not initialized from the model checkpoint at roberta-large and are newly initialized: ['roberta.pooler.dense.bias', 'roberta.pooler.dense.weight']\n",
            "You should probably TRAIN this model on a down-stream task to be able to use it for predictions and inference.\n"
          ]
        },
        {
          "output_type": "stream",
          "name": "stdout",
          "text": [
            "calculating scores...\n",
            "computing bert embedding.\n"
          ]
        },
        {
          "output_type": "display_data",
          "data": {
            "text/plain": [
              "  0%|          | 0/1 [00:00<?, ?it/s]"
            ],
            "application/vnd.jupyter.widget-view+json": {
              "version_major": 2,
              "version_minor": 0,
              "model_id": "2e165d67e1ea40f3976ccfa5ce90d529"
            }
          },
          "metadata": {}
        },
        {
          "output_type": "stream",
          "name": "stdout",
          "text": [
            "computing greedy matching.\n"
          ]
        },
        {
          "output_type": "display_data",
          "data": {
            "text/plain": [
              "  0%|          | 0/1 [00:00<?, ?it/s]"
            ],
            "application/vnd.jupyter.widget-view+json": {
              "version_major": 2,
              "version_minor": 0,
              "model_id": "fd84d4851c3d4d7cb3e8054e5dd9e0e8"
            }
          },
          "metadata": {}
        },
        {
          "output_type": "stream",
          "name": "stdout",
          "text": [
            "done in 0.90 seconds, 3.33 sentences/sec\n",
            "BERT Score Results:\n",
            "Precision: 0.972\n",
            "Recall: 0.963\n",
            "F1: 0.967\n",
            "\n",
            "\n",
            "CPU times: user 9.23 s, sys: 1.42 s, total: 10.7 s\n",
            "Wall time: 16.9 s\n"
          ]
        }
      ]
    },
    {
      "cell_type": "markdown",
      "source": [
        "### MoverScore\n",
        "\n",
        "![](https://img1.wsimg.com/isteam/ip/683a65a0-e168-404b-b9c7-0971d8289f02/MoverScore.png)"
      ],
      "metadata": {
        "id": "LcbQbCAj7dsr"
      }
    },
    {
      "cell_type": "code",
      "source": [
        "%%time\n",
        "\n",
        "candidates = [\n",
        "    \"Salut, mon chien est mignon\",\n",
        "    \"Le temps est beau aujourd'hui\",\n",
        "    \"J'adore la programmation\"\n",
        "]\n",
        "\n",
        "# gold standard (references)\n",
        "references = [\n",
        "      \"Bonjour, mon chien est mignon\",\n",
        "      \"Le temps est beau aujourd'hui\",\n",
        "      \"J'aime la programmation\"\n",
        "]\n",
        "\n",
        "# requires GPU\n",
        "from moverscore import word_mover_score  # MoverScore\n",
        "from collections import defaultdict\n",
        "\n",
        "# Sample texts for evaluation\n",
        "# Uses Word Mover Distance with contextual embeddings\n",
        "# Higher scores indicate better similarity\n",
        "idf_dict_hyp = defaultdict(lambda: 1.)\n",
        "idf_dict_ref = defaultdict(lambda: 1.)\n",
        "\n",
        "mover_scores = word_mover_score(\n",
        "    references, candidates,\n",
        "    idf_dict_ref, idf_dict_hyp,\n",
        "    stop_words=[], n_gram=1,\n",
        "    remove_subwords=True\n",
        ")\n",
        "\n",
        "print(\"MoverScore Results:\")\n",
        "for i, score in enumerate(mover_scores):\n",
        "    print(f\"Text pair {i+1}: {score:.3f}\")\n",
        "print(\"\\n\")"
      ],
      "metadata": {
        "colab": {
          "base_uri": "https://localhost:8080/"
        },
        "id": "9QA1q15M7Y2K",
        "outputId": "59e3ac62-9c39-4086-b3a2-1cdbd57af895"
      },
      "execution_count": 10,
      "outputs": [
        {
          "output_type": "stream",
          "name": "stderr",
          "text": [
            "/usr/local/lib/python3.10/dist-packages/pytorch_pretrained_bert/modeling.py:603: FutureWarning: You are using `torch.load` with `weights_only=False` (the current default value), which uses the default pickle module implicitly. It is possible to construct malicious pickle data which will execute arbitrary code during unpickling (See https://github.com/pytorch/pytorch/blob/main/SECURITY.md#untrusted-models for more details). In a future release, the default value for `weights_only` will be flipped to `True`. This limits the functions that could be executed during unpickling. Arbitrary objects will no longer be allowed to be loaded via this mode unless they are explicitly allowlisted by the user via `torch.serialization.add_safe_globals`. We recommend you start setting `weights_only=True` for any use case where you don't have full control of the loaded file. Please open an issue on GitHub for any issues related to this experimental feature.\n",
            "  state_dict = torch.load(weights_path, map_location='cpu')\n"
          ]
        },
        {
          "output_type": "stream",
          "name": "stdout",
          "text": [
            "MoverScore Results:\n",
            "Text pair 1: 0.851\n",
            "Text pair 2: 1.000\n",
            "Text pair 3: 0.792\n",
            "\n",
            "\n",
            "CPU times: user 2.44 s, sys: 623 ms, total: 3.06 s\n",
            "Wall time: 4.92 s\n"
          ]
        }
      ]
    },
    {
      "cell_type": "markdown",
      "source": [
        "### BART Score\n",
        "\n",
        "> BARTScore is a text-generation evaluation metric that treats model evaluation as a text-generation task 🔄\n",
        ">\n",
        "> Other metrics approach the evaluation problem from different ML task perspectives; for instance, ROUGE and BLUE formulate it as an unsupervised matching task, BLUERT and COMET as a supervised regression, and BEER as a supervised ranking task.\n",
        ">\n",
        "> Meanwhile, BARTScore formulates it as a text-generation task. Its idea is to leverage BART's pre-trained contextual embeddings to return a score that measures either the faithfulness, precision, recall, or F-score response of the main text-generation model.\n",
        ">\n",
        "> For example, if we want to measure faithfulness, the way it works is that we would take the source and the generated text from our model and use BART to calculate the log token probability of the generated text given the source; we can then weight those results and return the sum.\n",
        "\n",
        "[Insight from HF comment by Santiago Viquez](https://huggingface.co/posts/santiviquez/809039256258115)"
      ],
      "metadata": {
        "id": "fW-iVBa-sNIG"
      }
    },
    {
      "cell_type": "code",
      "source": [
        "%%time\n",
        "# Uses BART model for scoring\n",
        "import torch\n",
        "from transformers import BartTokenizer, BartForConditionalGeneration\n",
        "\n",
        "device = torch.device(\"cuda\" if torch.cuda.is_available() else \"cpu\")\n",
        "bart_tokenizer = BartTokenizer.from_pretrained(\"facebook/bart-large-cnn\")\n",
        "bart_model = BartForConditionalGeneration.from_pretrained(\"facebook/bart-large-cnn\").to(device)"
      ],
      "metadata": {
        "colab": {
          "base_uri": "https://localhost:8080/"
        },
        "id": "_CsOvrZt-gLo",
        "outputId": "dacb0e76-22be-494f-ae3a-ad53b1cda211"
      },
      "execution_count": 11,
      "outputs": [
        {
          "output_type": "stream",
          "name": "stdout",
          "text": [
            "CPU times: user 1.99 s, sys: 1.44 s, total: 3.43 s\n",
            "Wall time: 11.2 s\n"
          ]
        }
      ]
    },
    {
      "cell_type": "code",
      "source": [
        "%%time\n",
        "\n",
        "candidates = [\n",
        "    [\"Salut, mon chien est mignon\"],\n",
        "    [\"Le temps est beau aujourd'hui\"],\n",
        "    [\"J'adore la programmation\"]\n",
        "]\n",
        "\n",
        "def compute_bartscore(source, target):\n",
        "    # Tokenize\n",
        "    batch = bart_tokenizer(source, target, return_tensors=\"pt\", padding=True, truncation=False)\n",
        "    input_ids = batch[\"input_ids\"].to(device)\n",
        "    attention_mask = batch[\"attention_mask\"].to(device)\n",
        "\n",
        "    # Generate score\n",
        "    with torch.no_grad():\n",
        "        outputs = bart_model(\n",
        "            input_ids=input_ids,\n",
        "            attention_mask=attention_mask,\n",
        "            labels=input_ids\n",
        "        )\n",
        "\n",
        "    return -outputs.loss.item()  # Negative log likelihood\n",
        "\n",
        "bart_scores = [\n",
        "    compute_bartscore(ref, cand)\n",
        "    for ref, cand in zip(refs2, candidates)\n",
        "]\n",
        "\n",
        "print(\"BARTScore Results:\")\n",
        "for i, score in enumerate(bart_scores):\n",
        "    print(f\"Text pair {i+1}: {score:.3f}\")\n",
        "print(\"\\n\")"
      ],
      "metadata": {
        "colab": {
          "base_uri": "https://localhost:8080/"
        },
        "id": "Qov3Nwbq-iEh",
        "outputId": "0a330987-3f07-4969-f152-14c04dcd4dc0"
      },
      "execution_count": 12,
      "outputs": [
        {
          "output_type": "stream",
          "name": "stdout",
          "text": [
            "BARTScore Results:\n",
            "Text pair 1: -1.173\n",
            "Text pair 2: -0.817\n",
            "Text pair 3: -1.270\n",
            "\n",
            "\n",
            "CPU times: user 75.2 ms, sys: 91 µs, total: 75.3 ms\n",
            "Wall time: 96.8 ms\n"
          ]
        }
      ]
    },
    {
      "cell_type": "markdown",
      "source": [
        "Since BARTScore users the average log-likelihood for target tokens, the calculated scores will be smaller than 0 (the probability is between 0 and 1, so the log of it should be negative). The higher the log-likelihood, the higher the probability.\n",
        "\n",
        "To give an example, if SummaryA gets a score of -1 while SummaryB gets a score of -100, this means that the model thinks SummaryA is better than summaryB."
      ],
      "metadata": {
        "id": "KUAEclB0aFs0"
      }
    },
    {
      "cell_type": "markdown",
      "source": [
        "## Text Classifiers\n",
        "\n",
        "| Category | Family | Example Metrics |\n",
        "|----------|---------|-----------------|\n",
        "| Text Classifiers | Quality Estimation | • COMET-QE<br>• CTRLEval<br>• USR |\n",
        "| | Style Classifiers | • Sentiment Accuracy<br>• Toxicity<br>• Grammaticality |\n",
        "| | Unieval | • coherence<br>• consistency<br>• fluency |\n",
        "\n",
        "### COMET\n",
        "\n",
        "[COMET](https://unbabel.github.io/COMET/html/index.html) newer translation metric aided by different models (see [Guerreiro et al. 2023](https://huggingface.co/papers/2310.10482)).\n",
        "\n",
        "**Default model**: `Unbabel/wmt22-comet-da` - This model uses a reference-based regression approach and is built on top of XLM-R. It provides scores ranging from 0 to 1, where 1 represents a perfect translation.\n",
        "\n",
        "**Upcoming model**: `Unbabel/wmt22-cometkiwi-da` - This **reference-free** model uses a regression approach and is built on top of InfoXLM. Like the default model, it also provides scores ranging from 0 to 1.\n",
        "\n",
        "> # ⚠ Warning\n",
        "> I found `comet` package `2.2.2` had an issue using `module 'comet' has no attribute 'load_from_checkpoint'` when trying to use. Be sure to always check OS libraries for recent updates and support. Since this looks like it hasn't been updated since March 2024, you should generally avoid to prevent problems down the road."
      ],
      "metadata": {
        "id": "zKAkBeCM7_Ae"
      }
    },
    {
      "cell_type": "markdown",
      "source": [
        "## Perplexity\n",
        "\n",
        "| Category | Family | Example Metrics |\n",
        "|----------|---------|-----------------|\n",
        "| Perplexity | MAUVE | • MAUVE with different LMs |\n",
        "| | Perplexity | • Bits per character<br>• Model PPL<br>• GPT-PPL |\n",
        "\n",
        "### Perplexity\n",
        "\n",
        "For a great explanation of perplexity, [watch this video](https://www.youtube.com/watch?v=KCXDr-UOb9A&t=138s) by Sasha Rush."
      ],
      "metadata": {
        "id": "ffp_G0DSEkFa"
      }
    },
    {
      "cell_type": "code",
      "source": [
        "%%time\n",
        "import torch\n",
        "from transformers import GPT2LMHeadModel, GPT2Tokenizer\n",
        "\n",
        "# Load model and tokenizer\n",
        "tokenizer = GPT2Tokenizer.from_pretrained('gpt2')\n",
        "model = GPT2LMHeadModel.from_pretrained('gpt2')"
      ],
      "metadata": {
        "id": "1NsnqpaZ5F1p",
        "outputId": "4e88a29d-d812-49fb-af8a-c8ec014e492d",
        "colab": {
          "base_uri": "https://localhost:8080/"
        }
      },
      "execution_count": 13,
      "outputs": [
        {
          "output_type": "stream",
          "name": "stdout",
          "text": [
            "CPU times: user 262 ms, sys: 279 ms, total: 541 ms\n",
            "Wall time: 2.8 s\n"
          ]
        }
      ]
    },
    {
      "cell_type": "code",
      "source": [
        "%%time\n",
        "\n",
        "# Prepare text\n",
        "text = \"This is a sample text to evaluate perplexity.\"\n",
        "encodings = tokenizer(text, return_tensors='pt')\n",
        "\n",
        "# Calculate perplexity\n",
        "with torch.no_grad():\n",
        "    outputs = model(encodings.input_ids, labels=encodings.input_ids)\n",
        "    ppl = torch.exp(outputs.loss)\n",
        "\n",
        "print(\"Perplexity Results:\")\n",
        "print(f\"Perplexity: {ppl.item():.3f}\")"
      ],
      "metadata": {
        "id": "eTGdPImx1YyP",
        "outputId": "9554a7e2-aa49-4e47-d137-b94447dffadb",
        "colab": {
          "base_uri": "https://localhost:8080/"
        }
      },
      "execution_count": 14,
      "outputs": [
        {
          "output_type": "stream",
          "name": "stdout",
          "text": [
            "Perplexity Results:\n",
            "Perplexity: 125.153\n",
            "CPU times: user 144 ms, sys: 1.82 ms, total: 146 ms\n",
            "Wall time: 154 ms\n"
          ]
        }
      ]
    },
    {
      "cell_type": "markdown",
      "source": [
        "### MAUVE\n",
        "\n",
        "MAUVE is obtained by computing Kullback–Leibler (KL) divergences between the two distributions in a quantized embedding space of a foundation model.\n",
        "\n",
        "See [these docs](https://krishnap25.github.io/mauve/) including [these tips](https://krishnap25.github.io/mauve/#best-practices-for-mauve). While it has its own standalone, for this I recommend using Huggingface's `evaluations` package."
      ],
      "metadata": {
        "id": "MVpdA6U07hdP"
      }
    },
    {
      "cell_type": "markdown",
      "source": [
        "## Huggingface `evaluations`\n",
        "\n",
        "There are different aspects of a typical machine learning pipeline that can be evaluated and for each aspect. `evaluate` provides a tool:\n",
        "\n",
        "1. Metric: A metric is used to evaluate a model’s performance and usually involves the model’s predictions as well as some ground truth labels. You can find all integrated metrics at [evaluate-metric](https://huggingface.co/evaluate-metric).\n",
        "2. Comparison: A comparison is used to compare two models. This can for example be done by comparing their predictions to ground truth labels and computing their agreement. You can find all integrated comparisons at [evaluate-comparison](https://huggingface.co/evaluate-comparison).\n",
        "3. Measurement: The dataset is as important as the model trained on it. With measurements one can investigate a dataset’s properties. You can find all integrated measurements at [evaluate-measurement](https://huggingface.co/evaluate-measurement).\n",
        "\n",
        "Includes metric cards for all metrics like:\n",
        "\n",
        "<img src=\"https://huggingface.co/datasets/evaluate/media/resolve/main/metric-widget.png\" alt=\"Metric \" width=\"300\"/>\n",
        "\n",
        "\n",
        "\n",
        "### MAUVE"
      ],
      "metadata": {
        "id": "hszVxOL-4viO"
      }
    },
    {
      "cell_type": "code",
      "source": [
        "# fix candidates format\n",
        "candidates = [\n",
        "    \"Salut, mon chien est mignon\",\n",
        "    \"Le temps est beau aujourd'hui\",\n",
        "    \"J'adore la programmation\"\n",
        "]\n",
        "\n",
        "print(f\"References: {references}\")\n",
        "print(f\"\\nCandidates: {candidates}\")"
      ],
      "metadata": {
        "id": "ip6iM5rd5ryO",
        "outputId": "75807cf6-be0d-4bbb-b422-a3b64d80ae62",
        "colab": {
          "base_uri": "https://localhost:8080/"
        }
      },
      "execution_count": 15,
      "outputs": [
        {
          "output_type": "stream",
          "name": "stdout",
          "text": [
            "References: ['Bonjour, mon chien est mignon', \"Le temps est beau aujourd'hui\", \"J'aime la programmation\"]\n",
            "\n",
            "Candidates: ['Salut, mon chien est mignon', \"Le temps est beau aujourd'hui\", \"J'adore la programmation\"]\n"
          ]
        }
      ]
    },
    {
      "cell_type": "code",
      "source": [
        "%%time\n",
        "\n",
        "# HF evaluate calculation\n",
        "from evaluate import load\n",
        "\n",
        "hf_mauve = load(\"mauve\")\n",
        "\n",
        "results = hf_mauve.compute(predictions=candidates, references=references)\n",
        "print(f\"MAUVE score: {results.mauve}\")"
      ],
      "metadata": {
        "id": "M3sEXKm3Hb1u",
        "outputId": "256cea26-ffcf-425e-d0f2-434230287f8f",
        "colab": {
          "base_uri": "https://localhost:8080/",
          "height": 324,
          "referenced_widgets": [
            "65bac708cb984be1b78b857bb8d04d76",
            "dd423754dd7c4447a7e253cdebc8cb8c",
            "732ee13f5e7140c8b1498516b195a0dc",
            "f19c0433c8fd452eac7380929621c404",
            "04a6aecd97b949028c306dd48607659a",
            "2e75df4069784a0dae8f63df52751a92",
            "7f9500d7eeca4c85a8b2be17437b4db7",
            "820b236dd2bd4600a0a8fe9b6ff3b8d4",
            "d0256c4c7fa4451e86badb12beeaf7b9",
            "9ab55bca636c4f858e0478f5678a8830",
            "e69abf5c5d7f4c8ca8de5761e639862f",
            "191eee54493146d1a240a5c364d542f4",
            "7b00ba3a1e89420e8cf70763ef29b198",
            "8d523484154e4007ab52e30b86169976",
            "a54d5936105b4cc6b9e621d88a23ae51",
            "721685954b964f0dbec929fca8cde6e2",
            "c56202284e3f41deacf2057a78dcd7d6",
            "e383479340fe41f4808e72ad7e55a07d",
            "1fa453c9362441ea9d89b8702a1265a2",
            "f0562f7cb2544a30b725fe98fcb9a498",
            "598101975f7947ddb8983e13aedf7e50",
            "4f1c24346ab341a2a0bbaea1dc00d711"
          ]
        }
      },
      "execution_count": 16,
      "outputs": [
        {
          "output_type": "stream",
          "name": "stdout",
          "text": [
            "Loading tokenizer\n",
            "Tokenizing text...\n",
            "Loading tokenizer\n",
            "Loading model\n",
            "Featurizing tokens\n"
          ]
        },
        {
          "output_type": "display_data",
          "data": {
            "text/plain": [
              "Featurizing p:   0%|          | 0/3 [00:00<?, ?it/s]"
            ],
            "application/vnd.jupyter.widget-view+json": {
              "version_major": 2,
              "version_minor": 0,
              "model_id": "65bac708cb984be1b78b857bb8d04d76"
            }
          },
          "metadata": {}
        },
        {
          "output_type": "stream",
          "name": "stdout",
          "text": [
            "Tokenizing text...\n",
            "Featurizing tokens\n"
          ]
        },
        {
          "output_type": "display_data",
          "data": {
            "text/plain": [
              "Featurizing q:   0%|          | 0/3 [00:00<?, ?it/s]"
            ],
            "application/vnd.jupyter.widget-view+json": {
              "version_major": 2,
              "version_minor": 0,
              "model_id": "191eee54493146d1a240a5c364d542f4"
            }
          },
          "metadata": {}
        },
        {
          "output_type": "stream",
          "name": "stdout",
          "text": [
            "seed = 25\n",
            "performing clustering in lower dimension = 1\n",
            "kmeans time: 0.06 s\n",
            "total discretization time: 0.13 seconds\n",
            "MAUVE score: 1.0000000000000002\n",
            "CPU times: user 5.17 s, sys: 2.81 s, total: 7.98 s\n",
            "Wall time: 23.8 s\n"
          ]
        }
      ]
    },
    {
      "cell_type": "markdown",
      "source": [
        "### SacreBLEU"
      ],
      "metadata": {
        "id": "UjFKd5qjHy9h"
      }
    },
    {
      "cell_type": "code",
      "source": [
        "%%time\n",
        "\n",
        "hf_bleu = load(\"sacrebleu\")\n",
        "results = hf_bleu.compute(predictions=candidates, references=references)\n",
        "print(results)"
      ],
      "metadata": {
        "id": "yOJJLg7t2EU4",
        "outputId": "fbc4f0a5-f9c0-4c7e-8fcd-3dea9c2dfee6",
        "colab": {
          "base_uri": "https://localhost:8080/"
        }
      },
      "execution_count": 17,
      "outputs": [
        {
          "output_type": "stream",
          "name": "stdout",
          "text": [
            "{'score': 80.54036088451565, 'counts': [12, 9, 6, 4], 'totals': [14, 11, 8, 5], 'precisions': [85.71428571428571, 81.81818181818181, 75.0, 80.0], 'bp': 1.0, 'sys_len': 14, 'ref_len': 14}\n",
            "CPU times: user 49.2 ms, sys: 2.81 ms, total: 52.1 ms\n",
            "Wall time: 541 ms\n"
          ]
        }
      ]
    },
    {
      "cell_type": "markdown",
      "source": [
        "### Multiple metrics and Radar Plot"
      ],
      "metadata": {
        "id": "Ncm4HK7GLuWB"
      }
    },
    {
      "cell_type": "code",
      "source": [
        "%%time\n",
        "\n",
        "import evaluate\n",
        "import numpy as np\n",
        "import matplotlib.pyplot as plt\n",
        "\n",
        "def calculate_metrics(predictions, references):\n",
        "    \"\"\"\n",
        "    Calculate multiple NLP evaluation metrics using Hugging Face evaluate.\n",
        "\n",
        "    Args:\n",
        "        predictions (list): List of predicted texts\n",
        "        references (list): List of reference texts\n",
        "\n",
        "    Returns:\n",
        "        dict: Dictionary containing all metric scores\n",
        "    \"\"\"\n",
        "    # Initialize metrics\n",
        "    bleu = evaluate.load('sacrebleu')\n",
        "    rouge = evaluate.load('rouge')\n",
        "    meteor = evaluate.load('meteor')\n",
        "    bert_score = evaluate.load('bertscore')\n",
        "\n",
        "    # Calculate scores\n",
        "    results = {}\n",
        "\n",
        "    # BLEU score\n",
        "    bleu_score = bleu.compute(predictions=predictions, references=[[ref] for ref in references])\n",
        "    results['BLEU'] = bleu_score['score'] / 100  # Normalize to 0-1 scale\n",
        "\n",
        "    # ROUGE scores\n",
        "    rouge_scores = rouge.compute(predictions=predictions, references=references)\n",
        "    results['ROUGE-1'] = rouge_scores['rouge1']\n",
        "    results['ROUGE-2'] = rouge_scores['rouge2']\n",
        "    results['ROUGE-L'] = rouge_scores['rougeL']\n",
        "\n",
        "    # METEOR score\n",
        "    meteor_score = meteor.compute(predictions=predictions, references=references)\n",
        "    results['METEOR'] = meteor_score['meteor']\n",
        "\n",
        "    # BERTScore (using only F1 score)\n",
        "    bert_scores = bert_score.compute(predictions=predictions, references=references, lang='en')\n",
        "    results['BERTScore'] = np.mean(bert_scores['f1'])\n",
        "\n",
        "    return results\n",
        "\n",
        "def plot_metrics_radar(metrics):\n",
        "    \"\"\"\n",
        "    Create a radar plot of the evaluation metrics.\n",
        "\n",
        "    Args:\n",
        "        metrics (dict): Dictionary of metric names and their scores\n",
        "    \"\"\"\n",
        "    # Prepare the data\n",
        "    categories = list(metrics.keys())\n",
        "    values = list(metrics.values())\n",
        "\n",
        "    # Number of variables\n",
        "    num_vars = len(categories)\n",
        "\n",
        "    # Compute angle for each axis\n",
        "    angles = [n / float(num_vars) * 2 * np.pi for n in range(num_vars)]\n",
        "    angles += angles[:1]\n",
        "\n",
        "    # Initialize the spider plot\n",
        "    fig, ax = plt.subplots(figsize=(10, 10), subplot_kw=dict(projection='polar'))\n",
        "\n",
        "    # Plot data\n",
        "    values += values[:1]\n",
        "    ax.plot(angles, values)\n",
        "    ax.fill(angles, values, alpha=0.25)\n",
        "\n",
        "    # Set the labels\n",
        "    ax.set_xticks(angles[:-1])\n",
        "    ax.set_xticklabels(categories)\n",
        "\n",
        "    # Add title\n",
        "    plt.title('NLP Metrics Evaluation Results', pad=20)\n",
        "\n",
        "    return fig\n",
        "\n",
        "\n",
        "# Sample data\n",
        "print(f\"Candidates / predictions:\\n{candidates}\")\n",
        "print(f\"References / gold standard:\\n{references}\")\n",
        "\n",
        "# Calculate metrics\n",
        "metrics = calculate_metrics(candidates, references)\n",
        "\n",
        "# Print numerical results\n",
        "print(\"\\nMetric Scores:\")\n",
        "for metric, score in metrics.items():\n",
        "    print(f\"{metric}: {score:.4f}\")\n",
        "\n",
        "# Create and save radar plot\n",
        "fig = plot_metrics_radar(metrics)\n",
        "plt.savefig('nlp_metrics_radar.png')\n",
        "plt.show()\n",
        "plt.close()"
      ],
      "metadata": {
        "id": "y1q96vOfKKD4",
        "outputId": "8f4286e7-6272-4aae-f19c-b8b127dfa556",
        "colab": {
          "base_uri": "https://localhost:8080/",
          "height": 1000
        }
      },
      "execution_count": 18,
      "outputs": [
        {
          "output_type": "stream",
          "name": "stdout",
          "text": [
            "Candidates / predictions:\n",
            "['Salut, mon chien est mignon', \"Le temps est beau aujourd'hui\", \"J'adore la programmation\"]\n",
            "References / gold standard:\n",
            "['Bonjour, mon chien est mignon', \"Le temps est beau aujourd'hui\", \"J'aime la programmation\"]\n"
          ]
        },
        {
          "output_type": "stream",
          "name": "stderr",
          "text": [
            "[nltk_data] Downloading package wordnet to /root/nltk_data...\n",
            "[nltk_data]   Package wordnet is already up-to-date!\n",
            "[nltk_data] Downloading package punkt_tab to /root/nltk_data...\n",
            "[nltk_data]   Package punkt_tab is already up-to-date!\n",
            "[nltk_data] Downloading package omw-1.4 to /root/nltk_data...\n",
            "[nltk_data]   Package omw-1.4 is already up-to-date!\n",
            "Some weights of RobertaModel were not initialized from the model checkpoint at roberta-large and are newly initialized: ['roberta.pooler.dense.bias', 'roberta.pooler.dense.weight']\n",
            "You should probably TRAIN this model on a down-stream task to be able to use it for predictions and inference.\n"
          ]
        },
        {
          "output_type": "stream",
          "name": "stdout",
          "text": [
            "\n",
            "Metric Scores:\n",
            "BLEU: 0.8054\n",
            "ROUGE-1: 0.8500\n",
            "ROUGE-2: 0.6944\n",
            "ROUGE-L: 0.8500\n",
            "METEOR: 0.8170\n",
            "BERTScore: 0.9675\n"
          ]
        },
        {
          "output_type": "display_data",
          "data": {
            "text/plain": [
              "<Figure size 1000x1000 with 1 Axes>"
            ],
            "image/png": "[encoded data removed]"
          },
          "metadata": {}
        },
        {
          "output_type": "stream",
          "name": "stdout",
          "text": [
            "CPU times: user 1.33 s, sys: 342 ms, total: 1.67 s\n",
            "Wall time: 5.11 s\n"
          ]
        }
      ]
    },
    {
      "cell_type": "markdown",
      "source": [
        "![](https://github.com/wesslen/llm-evaluations/blob/main/notebooks/nlp_metrics_radar.png?raw=1)"
      ],
      "metadata": {
        "id": "bUu4N78KNGfS"
      }
    },
    {
      "cell_type": "markdown",
      "source": [
        "## Appendix\n",
        "\n",
        "### Taxonomy\n",
        "\n",
        "| Category | Family | Example Metrics |\n",
        "|----------|---------|-----------------|\n",
        "| Combination | Combination | • AUC<br>• Average<br>• G-score<br>• GeomMean |\n",
        "| Distance-based | Distribution Comparison | • KL divergence<br>• Jensen-Shannon divergence<br>• Total variation distance |\n",
        "| | Edit Distance | • Edit Distance<br>• TER |\n",
        "| | Loss/Error | • Agreement<br>• Bias |\n",
        "| Factuality | Factuality | • AlignScore<br>• FactCC<br>• QAFactEval |\n",
        "| | NLI | • ANLI<br>• NLI<br>• SUMMAC |\n",
        "| Inference Speed | - | • Inference Time<br>• Latency<br>• Throughput |\n",
        "| Match | Accuracy | • Exact Match<br>• Domain Accuracy<br>• Success |\n",
        "| | F1 | • F1 score<br>• Knowledge-F1<br>• macro-F1 |\n",
        "| | Precision & Recall | • Knowledge-Precision/Recall<br>• Local Recall<br>• Recall@N |\n",
        "| Overlap | BLEU | • BLEU-1/2/3/4<br>• SacreBLEU<br>• Self-BLEU |\n",
        "| | ROUGE | • ROUGE-1/2/L<br>• ROUGE-F1 |\n",
        "| | Other Overlap | • METEOR<br>• CIDEr<br>• PARENT |\n",
        "| Perplexity | MAUVE | • MAUVE with different LMs |\n",
        "| | Perplexity | • Bits per character<br>• Model PPL<br>• GPT-PPL |\n",
        "| Semantic Similarity | BERTScore | • BERTScore (F1/Precision/Recall) |\n",
        "| | BARTScore | • BARTScore (faithfulness/precision/recall) |\n",
        "| | Other Similarity | • Cosine Similarity<br>• SimCSE<br>• Sentence-BERT |\n",
        "| Text Classifiers | Quality Estimation | • COMET-QE<br>• CTRLEval<br>• USR |\n",
        "| | Style Classifiers | • Sentiment Accuracy<br>• Toxicity<br>• Grammaticality |\n",
        "| | Unieval | • coherence<br>• consistency<br>• fluency |\n",
        "| Text Properties | Readability | • Flesch Reading Ease<br>• Flesch-Kincaid grade |\n",
        "| | N-gram Diversity | • Distinct-1/2/3<br>• Diversity score |\n",
        "| | Length | • Average Length<br>• Sentence Count<br>• Shortening Factor |\n",
        "\n",
        "### Libraries"
      ],
      "metadata": {
        "id": "58LsT7hZC_-_"
      }
    },
    {
      "cell_type": "code",
      "source": [
        "# Now check versions\n",
        "import pkg_resources\n",
        "import sys\n",
        "\n",
        "def get_package_details():\n",
        "    \"\"\"Print details of specific packages and Python version\"\"\"\n",
        "    packages_to_check = [\n",
        "        'torch',\n",
        "        'transformers',\n",
        "        'evaluate',\n",
        "        'sacrebleu',\n",
        "        'bert-score',\n",
        "        'rouge-score',\n",
        "        'moverscore',\n",
        "        'unbabel-comet',\n",
        "        'mauve-text',\n",
        "        'numpy',\n",
        "        'sentencepiece'  # Often used by transformers\n",
        "    ]\n",
        "\n",
        "    print(\"Python version:\", sys.version.split()[0])\n",
        "    print(\"\\nPackage versions:\")\n",
        "    print(\"-\" * 50)\n",
        "\n",
        "    for package in packages_to_check:\n",
        "        try:\n",
        "            version = pkg_resources.get_distribution(package).version\n",
        "            print(f\"{package:<15} {version}\")\n",
        "        except pkg_resources.DistributionNotFound:\n",
        "            print(f\"{package:<15} Not installed\")\n",
        "\n",
        "# Check CUDA availability for PyTorch\n",
        "import torch\n",
        "print(\"\\nCUDA Status:\")\n",
        "print(\"-\" * 50)\n",
        "print(f\"CUDA available: {torch.cuda.is_available()}\")\n",
        "if torch.cuda.is_available():\n",
        "    print(f\"CUDA version: {torch.version.cuda}\")\n",
        "    print(f\"Current GPU: {torch.cuda.get_device_name()}\")\n",
        "\n",
        "# Run the check\n",
        "get_package_details()"
      ],
      "metadata": {
        "id": "bAJOzHD3-uL1",
        "outputId": "326f3897-6929-4c95-de12-ab4284e98ad6",
        "colab": {
          "base_uri": "https://localhost:8080/"
        }
      },
      "execution_count": 19,
      "outputs": [
        {
          "output_type": "stream",
          "name": "stdout",
          "text": [
            "\n",
            "CUDA Status:\n",
            "--------------------------------------------------\n",
            "CUDA available: True\n",
            "CUDA version: 12.1\n",
            "Current GPU: Tesla T4\n",
            "Python version: 3.10.12\n",
            "\n",
            "Package versions:\n",
            "--------------------------------------------------\n",
            "torch           2.5.0+cu121\n",
            "transformers    4.46.2\n",
            "evaluate        0.4.3\n",
            "sacrebleu       2.4.3\n",
            "bert-score      0.3.13\n",
            "rouge-score     0.1.2\n",
            "moverscore      1.0.3\n",
            "unbabel-comet   2.2.2\n",
            "mauve-text      0.4.0\n",
            "numpy           1.26.4\n",
            "sentencepiece   0.1.99\n"
          ]
        }
      ]
    }
  ]
}